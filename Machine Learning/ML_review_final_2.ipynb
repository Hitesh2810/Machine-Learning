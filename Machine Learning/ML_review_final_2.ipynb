{
 "cells": [
  {
   "cell_type": "code",
   "execution_count": 1,
   "metadata": {},
   "outputs": [],
   "source": [
    "import pandas as pd\n",
    "from sklearn import svm\n",
    "import time\n",
    "from sklearn.model_selection import train_test_split\n",
    "from sklearn import svm\n",
    "import numpy as np\n",
    "from sklearn.neural_network import MLPClassifier\n",
    "from sklearn.neighbors import KNeighborsClassifier\n",
    "from sklearn.metrics import f1_score\n",
    "from sklearn.metrics import roc_auc_score\n",
    "from sklearn.metrics import precision_score\n",
    "from sklearn.metrics import classification_report\n",
    "from sklearn.metrics import confusion_matrix\n",
    "from sklearn.tree import DecisionTreeClassifier\n",
    "from sklearn import tree"
   ]
  },
  {
   "cell_type": "code",
   "execution_count": 2,
   "metadata": {},
   "outputs": [
    {
     "data": {
      "text/html": [
       "<div>\n",
       "<style scoped>\n",
       "    .dataframe tbody tr th:only-of-type {\n",
       "        vertical-align: middle;\n",
       "    }\n",
       "\n",
       "    .dataframe tbody tr th {\n",
       "        vertical-align: top;\n",
       "    }\n",
       "\n",
       "    .dataframe thead th {\n",
       "        text-align: right;\n",
       "    }\n",
       "</style>\n",
       "<table border=\"1\" class=\"dataframe\">\n",
       "  <thead>\n",
       "    <tr style=\"text-align: right;\">\n",
       "      <th></th>\n",
       "      <th>BMI</th>\n",
       "      <th>4. Age (in years)</th>\n",
       "      <th>5. Height (in cms)</th>\n",
       "      <th>6. Weight (in kgs)</th>\n",
       "      <th>Financial insecurity faced due to lockdown</th>\n",
       "      <th>Is not being able to hangout and meet your friends and classmates in any way affecting your mental health?</th>\n",
       "      <th>quarantine impact</th>\n",
       "      <th>When did you have more free time?</th>\n",
       "      <th>How many days in a week do you practice meditation?</th>\n",
       "      <th>19. Out of the following, choose 5 tools which you use most often these days.</th>\n",
       "      <th>happy with online classes</th>\n",
       "      <th>How would you rate your mental well being ?</th>\n",
       "      <th>mentalh_level</th>\n",
       "      <th>to</th>\n",
       "    </tr>\n",
       "  </thead>\n",
       "  <tbody>\n",
       "    <tr>\n",
       "      <th>0</th>\n",
       "      <td>27.887617</td>\n",
       "      <td>45</td>\n",
       "      <td>155.0</td>\n",
       "      <td>67.0</td>\n",
       "      <td>6</td>\n",
       "      <td>1</td>\n",
       "      <td>1</td>\n",
       "      <td>0</td>\n",
       "      <td>1</td>\n",
       "      <td>11</td>\n",
       "      <td>0</td>\n",
       "      <td>5</td>\n",
       "      <td>Bad</td>\n",
       "      <td>0.002789</td>\n",
       "    </tr>\n",
       "    <tr>\n",
       "      <th>1</th>\n",
       "      <td>26.609713</td>\n",
       "      <td>20</td>\n",
       "      <td>169.0</td>\n",
       "      <td>76.0</td>\n",
       "      <td>1</td>\n",
       "      <td>1</td>\n",
       "      <td>1</td>\n",
       "      <td>0</td>\n",
       "      <td>0</td>\n",
       "      <td>11</td>\n",
       "      <td>1</td>\n",
       "      <td>10</td>\n",
       "      <td>Good</td>\n",
       "      <td>0.002661</td>\n",
       "    </tr>\n",
       "    <tr>\n",
       "      <th>2</th>\n",
       "      <td>20.613131</td>\n",
       "      <td>23</td>\n",
       "      <td>151.0</td>\n",
       "      <td>47.0</td>\n",
       "      <td>3</td>\n",
       "      <td>1</td>\n",
       "      <td>1</td>\n",
       "      <td>2</td>\n",
       "      <td>0</td>\n",
       "      <td>11</td>\n",
       "      <td>1</td>\n",
       "      <td>5</td>\n",
       "      <td>Bad</td>\n",
       "      <td>0.002061</td>\n",
       "    </tr>\n",
       "    <tr>\n",
       "      <th>3</th>\n",
       "      <td>21.224490</td>\n",
       "      <td>19</td>\n",
       "      <td>175.0</td>\n",
       "      <td>65.0</td>\n",
       "      <td>2</td>\n",
       "      <td>1</td>\n",
       "      <td>0</td>\n",
       "      <td>2</td>\n",
       "      <td>0</td>\n",
       "      <td>12</td>\n",
       "      <td>0</td>\n",
       "      <td>7</td>\n",
       "      <td>Good</td>\n",
       "      <td>0.002122</td>\n",
       "    </tr>\n",
       "    <tr>\n",
       "      <th>4</th>\n",
       "      <td>17.959184</td>\n",
       "      <td>20</td>\n",
       "      <td>175.0</td>\n",
       "      <td>55.0</td>\n",
       "      <td>8</td>\n",
       "      <td>1</td>\n",
       "      <td>0</td>\n",
       "      <td>0</td>\n",
       "      <td>0</td>\n",
       "      <td>17</td>\n",
       "      <td>0</td>\n",
       "      <td>4</td>\n",
       "      <td>Bad</td>\n",
       "      <td>0.001796</td>\n",
       "    </tr>\n",
       "  </tbody>\n",
       "</table>\n",
       "</div>"
      ],
      "text/plain": [
       "         BMI  4. Age (in years)  5. Height (in cms)  6. Weight (in kgs)  \\\n",
       "0  27.887617                 45               155.0                67.0   \n",
       "1  26.609713                 20               169.0                76.0   \n",
       "2  20.613131                 23               151.0                47.0   \n",
       "3  21.224490                 19               175.0                65.0   \n",
       "4  17.959184                 20               175.0                55.0   \n",
       "\n",
       "    Financial insecurity faced due to lockdown  \\\n",
       "0                                            6   \n",
       "1                                            1   \n",
       "2                                            3   \n",
       "3                                            2   \n",
       "4                                            8   \n",
       "\n",
       "   Is not being able to hangout and meet your friends and classmates in any way affecting your mental health?  \\\n",
       "0                                                  1                                                            \n",
       "1                                                  1                                                            \n",
       "2                                                  1                                                            \n",
       "3                                                  1                                                            \n",
       "4                                                  1                                                            \n",
       "\n",
       "   quarantine impact  When did you have more free time?  \\\n",
       "0                  1                                  0   \n",
       "1                  1                                  0   \n",
       "2                  1                                  2   \n",
       "3                  0                                  2   \n",
       "4                  0                                  0   \n",
       "\n",
       "    How many days in a week do you practice meditation?  \\\n",
       "0                                                  1      \n",
       "1                                                  0      \n",
       "2                                                  0      \n",
       "3                                                  0      \n",
       "4                                                  0      \n",
       "\n",
       "   19. Out of the following, choose 5 tools which you use most often these days.  \\\n",
       "0                                                 11                               \n",
       "1                                                 11                               \n",
       "2                                                 11                               \n",
       "3                                                 12                               \n",
       "4                                                 17                               \n",
       "\n",
       "   happy with online classes  How would you rate your mental well being ?  \\\n",
       "0                          0                                            5   \n",
       "1                          1                                           10   \n",
       "2                          1                                            5   \n",
       "3                          0                                            7   \n",
       "4                          0                                            4   \n",
       "\n",
       "  mentalh_level        to  \n",
       "0           Bad  0.002789  \n",
       "1          Good  0.002661  \n",
       "2           Bad  0.002061  \n",
       "3          Good  0.002122  \n",
       "4           Bad  0.001796  "
      ]
     },
     "execution_count": 2,
     "metadata": {},
     "output_type": "execute_result"
    }
   ],
   "source": [
    "dataframe = pd.read_csv('C:\\\\Users\\\\Hitesh\\\\Downloads\\\\lab3.csv',nrows = 100)\n",
    "dataframe.head()"
   ]
  },
  {
   "cell_type": "code",
   "execution_count": 3,
   "metadata": {},
   "outputs": [
    {
     "data": {
      "text/html": [
       "<div>\n",
       "<style scoped>\n",
       "    .dataframe tbody tr th:only-of-type {\n",
       "        vertical-align: middle;\n",
       "    }\n",
       "\n",
       "    .dataframe tbody tr th {\n",
       "        vertical-align: top;\n",
       "    }\n",
       "\n",
       "    .dataframe thead th {\n",
       "        text-align: right;\n",
       "    }\n",
       "</style>\n",
       "<table border=\"1\" class=\"dataframe\">\n",
       "  <thead>\n",
       "    <tr style=\"text-align: right;\">\n",
       "      <th></th>\n",
       "      <th>BMI</th>\n",
       "      <th>4. Age (in years)</th>\n",
       "      <th>5. Height (in cms)</th>\n",
       "      <th>6. Weight (in kgs)</th>\n",
       "      <th>Financial insecurity faced due to lockdown</th>\n",
       "      <th>Is not being able to hangout and meet your friends and classmates in any way affecting your mental health?</th>\n",
       "      <th>quarantine impact</th>\n",
       "      <th>When did you have more free time?</th>\n",
       "      <th>How many days in a week do you practice meditation?</th>\n",
       "      <th>19. Out of the following, choose 5 tools which you use most often these days.</th>\n",
       "      <th>happy with online classes</th>\n",
       "      <th>How would you rate your mental well being ?</th>\n",
       "      <th>mentalh_level</th>\n",
       "      <th>to</th>\n",
       "    </tr>\n",
       "  </thead>\n",
       "  <tbody>\n",
       "    <tr>\n",
       "      <th>0</th>\n",
       "      <td>27.887617</td>\n",
       "      <td>45</td>\n",
       "      <td>155.0</td>\n",
       "      <td>67.0</td>\n",
       "      <td>6</td>\n",
       "      <td>1</td>\n",
       "      <td>1</td>\n",
       "      <td>0</td>\n",
       "      <td>1</td>\n",
       "      <td>11</td>\n",
       "      <td>0</td>\n",
       "      <td>5</td>\n",
       "      <td>0</td>\n",
       "      <td>0.002789</td>\n",
       "    </tr>\n",
       "    <tr>\n",
       "      <th>1</th>\n",
       "      <td>26.609713</td>\n",
       "      <td>20</td>\n",
       "      <td>169.0</td>\n",
       "      <td>76.0</td>\n",
       "      <td>1</td>\n",
       "      <td>1</td>\n",
       "      <td>1</td>\n",
       "      <td>0</td>\n",
       "      <td>0</td>\n",
       "      <td>11</td>\n",
       "      <td>1</td>\n",
       "      <td>10</td>\n",
       "      <td>1</td>\n",
       "      <td>0.002661</td>\n",
       "    </tr>\n",
       "    <tr>\n",
       "      <th>2</th>\n",
       "      <td>20.613131</td>\n",
       "      <td>23</td>\n",
       "      <td>151.0</td>\n",
       "      <td>47.0</td>\n",
       "      <td>3</td>\n",
       "      <td>1</td>\n",
       "      <td>1</td>\n",
       "      <td>2</td>\n",
       "      <td>0</td>\n",
       "      <td>11</td>\n",
       "      <td>1</td>\n",
       "      <td>5</td>\n",
       "      <td>0</td>\n",
       "      <td>0.002061</td>\n",
       "    </tr>\n",
       "    <tr>\n",
       "      <th>3</th>\n",
       "      <td>21.224490</td>\n",
       "      <td>19</td>\n",
       "      <td>175.0</td>\n",
       "      <td>65.0</td>\n",
       "      <td>2</td>\n",
       "      <td>1</td>\n",
       "      <td>0</td>\n",
       "      <td>2</td>\n",
       "      <td>0</td>\n",
       "      <td>12</td>\n",
       "      <td>0</td>\n",
       "      <td>7</td>\n",
       "      <td>1</td>\n",
       "      <td>0.002122</td>\n",
       "    </tr>\n",
       "    <tr>\n",
       "      <th>4</th>\n",
       "      <td>17.959184</td>\n",
       "      <td>20</td>\n",
       "      <td>175.0</td>\n",
       "      <td>55.0</td>\n",
       "      <td>8</td>\n",
       "      <td>1</td>\n",
       "      <td>0</td>\n",
       "      <td>0</td>\n",
       "      <td>0</td>\n",
       "      <td>17</td>\n",
       "      <td>0</td>\n",
       "      <td>4</td>\n",
       "      <td>0</td>\n",
       "      <td>0.001796</td>\n",
       "    </tr>\n",
       "  </tbody>\n",
       "</table>\n",
       "</div>"
      ],
      "text/plain": [
       "         BMI  4. Age (in years)  5. Height (in cms)  6. Weight (in kgs)  \\\n",
       "0  27.887617                 45               155.0                67.0   \n",
       "1  26.609713                 20               169.0                76.0   \n",
       "2  20.613131                 23               151.0                47.0   \n",
       "3  21.224490                 19               175.0                65.0   \n",
       "4  17.959184                 20               175.0                55.0   \n",
       "\n",
       "    Financial insecurity faced due to lockdown  \\\n",
       "0                                            6   \n",
       "1                                            1   \n",
       "2                                            3   \n",
       "3                                            2   \n",
       "4                                            8   \n",
       "\n",
       "   Is not being able to hangout and meet your friends and classmates in any way affecting your mental health?  \\\n",
       "0                                                  1                                                            \n",
       "1                                                  1                                                            \n",
       "2                                                  1                                                            \n",
       "3                                                  1                                                            \n",
       "4                                                  1                                                            \n",
       "\n",
       "   quarantine impact  When did you have more free time?  \\\n",
       "0                  1                                  0   \n",
       "1                  1                                  0   \n",
       "2                  1                                  2   \n",
       "3                  0                                  2   \n",
       "4                  0                                  0   \n",
       "\n",
       "    How many days in a week do you practice meditation?  \\\n",
       "0                                                  1      \n",
       "1                                                  0      \n",
       "2                                                  0      \n",
       "3                                                  0      \n",
       "4                                                  0      \n",
       "\n",
       "   19. Out of the following, choose 5 tools which you use most often these days.  \\\n",
       "0                                                 11                               \n",
       "1                                                 11                               \n",
       "2                                                 11                               \n",
       "3                                                 12                               \n",
       "4                                                 17                               \n",
       "\n",
       "   happy with online classes  How would you rate your mental well being ?  \\\n",
       "0                          0                                            5   \n",
       "1                          1                                           10   \n",
       "2                          1                                            5   \n",
       "3                          0                                            7   \n",
       "4                          0                                            4   \n",
       "\n",
       "   mentalh_level        to  \n",
       "0              0  0.002789  \n",
       "1              1  0.002661  \n",
       "2              0  0.002061  \n",
       "3              1  0.002122  \n",
       "4              0  0.001796  "
      ]
     },
     "execution_count": 3,
     "metadata": {},
     "output_type": "execute_result"
    }
   ],
   "source": [
    "from sklearn import preprocessing\n",
    "l_b=preprocessing.LabelEncoder()\n",
    "dataframe['mentalh_level']=l_b.fit_transform(dataframe['mentalh_level'])\n",
    "dataframe.head()"
   ]
  },
  {
   "cell_type": "code",
   "execution_count": 4,
   "metadata": {},
   "outputs": [],
   "source": [
    "\n",
    "F_datafram=dataframe[['Is not being able to hangout and meet your friends and classmates in any way affecting your mental health?','quarantine impact','When did you have more free time?','happy with online classes',' How many days in a week do you practice meditation?']]\n",
    "X=np.asarray(F_datafram)\n",
    "y=np.asarray(dataframe['mentalh_level'])\n",
    "X_train, X_test,y_train,y_test=train_test_split(X,y,test_size=0.2,random_state=4)"
   ]
  },
  {
   "attachments": {},
   "cell_type": "markdown",
   "metadata": {},
   "source": [
    "MLP CLASSIFIER"
   ]
  },
  {
   "cell_type": "code",
   "execution_count": 5,
   "metadata": {},
   "outputs": [
    {
     "name": "stdout",
     "output_type": "stream",
     "text": [
      "The accracy score of train data  0.775  and test data  0.7\n",
      "The time taken to get the score of MLP classifier :  0.21784687042236328\n",
      "The F_score of training data  0.85484\n",
      "The F_score of test data  0.8125\n",
      "The precision_score of training data  0.85484\n",
      "The precision_score of test data  0.76471\n",
      "The ROC_score of training data  0.66667\n",
      "The ROC_score of test data  0.53333\n"
     ]
    },
    {
     "name": "stderr",
     "output_type": "stream",
     "text": [
      "c:\\Users\\Hitesh\\AppData\\Local\\Programs\\Python\\Python310\\lib\\site-packages\\sklearn\\neural_network\\_multilayer_perceptron.py:702: ConvergenceWarning: Stochastic Optimizer: Maximum iterations (200) reached and the optimization hasn't converged yet.\n",
      "  warnings.warn(\n"
     ]
    }
   ],
   "source": [
    "#MLP Classifier\n",
    "import matplotlib.pyplot as plt \n",
    "from sklearn.neural_network import MLPClassifier\n",
    "start=time.time()\n",
    "MLP=MLPClassifier()\n",
    "MLP.fit(X_train,y_train)\n",
    "stop=time.time()\n",
    "prediction_X_test=MLP.predict(X_test)\n",
    "prediction_X_train=MLP.predict(X_train)\n",
    "print(\"The accracy score of train data \",MLP.score(X_train,y_train),\" and test data \",MLP.score(X_test,y_test))\n",
    "print(\"The time taken to get the score of MLP classifier : \",stop-start)\n",
    "prediction_X_test=MLP.predict(X_test)\n",
    "prediction_X_train=MLP.predict(X_train)\n",
    "print(\"The F_score of training data \",round(f1_score(y_train,prediction_X_train),5))\n",
    "print(\"The F_score of test data \",round(f1_score(y_test,prediction_X_test),5))\n",
    "print(\"The precision_score of training data \",round(f1_score(y_train,prediction_X_train),5))\n",
    "print(\"The precision_score of test data \",round(precision_score(y_test,prediction_X_test),5))\n",
    "print(\"The ROC_score of training data \",round(roc_auc_score(y_train,prediction_X_train),5))\n",
    "print(\"The ROC_score of test data \",round(roc_auc_score(y_test,prediction_X_test),5))"
   ]
  },
  {
   "cell_type": "code",
   "execution_count": 32,
   "metadata": {},
   "outputs": [
    {
     "name": "stdout",
     "output_type": "stream",
     "text": [
      "Heat map: \n"
     ]
    },
    {
     "data": {
      "image/png": "[encoded data removed]",
      "text/plain": [
       "<Figure size 640x480 with 2 Axes>"
      ]
     },
     "metadata": {},
     "output_type": "display_data"
    }
   ],
   "source": [
    "#A8\n",
    "import seaborn as sns\n",
    "print(\"Heat map: \")\n",
    "map2 = sns.heatmap(data = X_test, cmap='Reds')"
   ]
  },
  {
   "cell_type": "code",
   "execution_count": 25,
   "metadata": {},
   "outputs": [
    {
     "name": "stdout",
     "output_type": "stream",
     "text": [
      "              precision    recall  f1-score   support\n",
      "\n",
      "           0       0.25      0.20      0.22         5\n",
      "           1       0.75      0.80      0.77        15\n",
      "\n",
      "    accuracy                           0.65        20\n",
      "   macro avg       0.50      0.50      0.50        20\n",
      "weighted avg       0.62      0.65      0.64        20\n",
      "\n"
     ]
    }
   ],
   "source": [
    "from sklearn.metrics import classification_report\n",
    "print(classification_report(y_test, prediction_X_test))"
   ]
  },
  {
   "attachments": {},
   "cell_type": "markdown",
   "metadata": {},
   "source": [
    "SVM Classifier"
   ]
  },
  {
   "cell_type": "code",
   "execution_count": 7,
   "metadata": {},
   "outputs": [
    {
     "name": "stdout",
     "output_type": "stream",
     "text": [
      "The accracy score of train data  0.75  and test data  0.75\n",
      "The time taken to get the score of SVM classifier :  0.008013010025024414\n",
      "The F_score of training data  0.85714\n",
      "The F_score of test data  0.85714\n",
      "The precision_score of training data  0.85714\n",
      "The precision_score of test data  0.75\n",
      "The ROC_score of training data  0.5\n",
      "The ROC_score of test data  0.5\n"
     ]
    }
   ],
   "source": [
    "#SVM Classifier\n",
    "\n",
    "from sklearn import svm\n",
    "start=time.time()\n",
    "SVM=svm.SVC()\n",
    "SVM.fit(X_train,y_train)\n",
    "stop=time.time()\n",
    "print(\"The accracy score of train data \",SVM.score(X_train,y_train),\" and test data \",SVM.score(X_test,y_test))\n",
    "print(\"The time taken to get the score of SVM classifier : \",stop-start)\n",
    "prediction_X_test=SVM.predict(X_test)\n",
    "prediction_X_train=SVM.predict(X_train)\n",
    "print(\"The F_score of training data \",round(f1_score(y_train,prediction_X_train),5))\n",
    "print(\"The F_score of test data \",round(f1_score(y_test,prediction_X_test),5))\n",
    "print(\"The precision_score of training data \",round(f1_score(y_train,prediction_X_train),5))\n",
    "print(\"The precision_score of test data \",round(precision_score(y_test,prediction_X_test),5))\n",
    "print(\"The ROC_score of training data \",round(roc_auc_score(y_train,prediction_X_train),5))\n",
    "print(\"The ROC_score of test data \",round(roc_auc_score(y_test,prediction_X_test),5))"
   ]
  },
  {
   "cell_type": "code",
   "execution_count": 8,
   "metadata": {},
   "outputs": [
    {
     "name": "stdout",
     "output_type": "stream",
     "text": [
      "              precision    recall  f1-score   support\n",
      "\n",
      "           0       0.00      0.00      0.00         5\n",
      "           1       0.75      1.00      0.86        15\n",
      "\n",
      "    accuracy                           0.75        20\n",
      "   macro avg       0.38      0.50      0.43        20\n",
      "weighted avg       0.56      0.75      0.64        20\n",
      "\n"
     ]
    },
    {
     "name": "stderr",
     "output_type": "stream",
     "text": [
      "c:\\Users\\Hitesh\\AppData\\Local\\Programs\\Python\\Python310\\lib\\site-packages\\sklearn\\metrics\\_classification.py:1334: UndefinedMetricWarning: Precision and F-score are ill-defined and being set to 0.0 in labels with no predicted samples. Use `zero_division` parameter to control this behavior.\n",
      "  _warn_prf(average, modifier, msg_start, len(result))\n",
      "c:\\Users\\Hitesh\\AppData\\Local\\Programs\\Python\\Python310\\lib\\site-packages\\sklearn\\metrics\\_classification.py:1334: UndefinedMetricWarning: Precision and F-score are ill-defined and being set to 0.0 in labels with no predicted samples. Use `zero_division` parameter to control this behavior.\n",
      "  _warn_prf(average, modifier, msg_start, len(result))\n",
      "c:\\Users\\Hitesh\\AppData\\Local\\Programs\\Python\\Python310\\lib\\site-packages\\sklearn\\metrics\\_classification.py:1334: UndefinedMetricWarning: Precision and F-score are ill-defined and being set to 0.0 in labels with no predicted samples. Use `zero_division` parameter to control this behavior.\n",
      "  _warn_prf(average, modifier, msg_start, len(result))\n"
     ]
    }
   ],
   "source": [
    "from sklearn.metrics import classification_report\n",
    "print(classification_report(y_test, prediction_X_test))"
   ]
  },
  {
   "attachments": {},
   "cell_type": "markdown",
   "metadata": {},
   "source": [
    "KNN Classifier"
   ]
  },
  {
   "cell_type": "code",
   "execution_count": 35,
   "metadata": {},
   "outputs": [
    {
     "name": "stdout",
     "output_type": "stream",
     "text": [
      "The accracy score of train data  0.825  and test data  0.55\n",
      "The time taken to get the score of KNN classifier :  0.007990360260009766\n",
      "The F_score of training data  0.89231\n",
      "The F_score of test data  0.68966\n",
      "The precision_score of training data  0.89231\n",
      "The precision_score of test data  0.71429\n",
      "The ROC_score of training data  0.68333\n",
      "The ROC_score of test data  0.43333\n",
      "[[ 1  4]\n",
      " [ 5 10]]\n"
     ]
    },
    {
     "data": {
      "text/plain": [
       "Text(58.222222222222214, 0.5, 'Truth')"
      ]
     },
     "execution_count": 35,
     "metadata": {},
     "output_type": "execute_result"
    },
    {
     "data": {
      "image/png": "[encoded data removed]",
      "text/plain": [
       "<Figure size 700x500 with 2 Axes>"
      ]
     },
     "metadata": {},
     "output_type": "display_data"
    }
   ],
   "source": [
    "#KNN Classifier\n",
    "\n",
    "import matplotlib.pyplot as plt\n",
    "from sklearn.neighbors import KNeighborsClassifier\n",
    "start=time.time()\n",
    "KNN=KNeighborsClassifier()\n",
    "KNN.fit(X_train,y_train)\n",
    "stop=time.time()\n",
    "print(\"The accracy score of train data \",KNN.score(X_train,y_train),\" and test data \",KNN.score(X_test,y_test))\n",
    "print(\"The time taken to get the score of KNN classifier : \",stop-start)\n",
    "prediction_X_test=KNN.predict(X_test)\n",
    "prediction_X_train=KNN.predict(X_train)\n",
    "cm = confusion_matrix(y_test,prediction_X_test)\n",
    "print(\"The F_score of training data \",round(f1_score(y_train,prediction_X_train),5))\n",
    "print(\"The F_score of test data \",round(f1_score(y_test,prediction_X_test),5))\n",
    "print(\"The precision_score of training data \",round(f1_score(y_train,prediction_X_train),5))\n",
    "print(\"The precision_score of test data \",round(precision_score(y_test,prediction_X_test),5))\n",
    "print(\"The ROC_score of training data \",round(roc_auc_score(y_train,prediction_X_train),5))\n",
    "print(\"The ROC_score of test data \",round(roc_auc_score(y_test,prediction_X_test),5))\n",
    "print(cm)\n",
    "%matplotlib inline\n",
    "import matplotlib.pyplot as plt\n",
    "import seaborn as sns\n",
    "plt.figure(figsize=(7,5))\n",
    "sns.heatmap(cm, annot=True)\n",
    "plt.xlabel('Predicted')\n",
    "plt.ylabel('Truth')"
   ]
  },
  {
   "attachments": {},
   "cell_type": "markdown",
   "metadata": {},
   "source": [
    "Decision tree Classifier"
   ]
  },
  {
   "cell_type": "code",
   "execution_count": 10,
   "metadata": {},
   "outputs": [
    {
     "name": "stdout",
     "output_type": "stream",
     "text": [
      "The accracy score of train data  0.8625  and test data  0.6\n",
      "The time taken to get the score of Decision tree :  0.0\n",
      "The F_score of training data  0.90435\n",
      "The F_score of test data  0.69231\n",
      "The precision_score of training data  0.90435\n",
      "The precision_score of test data  0.81818\n",
      "The ROC_score of training data  0.85833\n",
      "The ROC_score of test data  0.6\n"
     ]
    },
    {
     "data": {
      "text/plain": [
       "[Text(0.5888157894736842, 0.9444444444444444, 'X[0] <= 0.5\\nentropy = 0.811\\nsamples = 80\\nvalue = [20, 60]'),\n",
       " Text(0.4342105263157895, 0.8333333333333334, 'X[1] <= 0.5\\nentropy = 0.353\\nsamples = 30\\nvalue = [2, 28]'),\n",
       " Text(0.3815789473684211, 0.7222222222222222, 'X[3] <= 0.5\\nentropy = 0.971\\nsamples = 5\\nvalue = [2, 3]'),\n",
       " Text(0.32894736842105265, 0.6111111111111112, 'entropy = 0.0\\nsamples = 2\\nvalue = [2, 0]'),\n",
       " Text(0.4342105263157895, 0.6111111111111112, 'entropy = 0.0\\nsamples = 3\\nvalue = [0, 3]'),\n",
       " Text(0.4868421052631579, 0.7222222222222222, 'entropy = 0.0\\nsamples = 25\\nvalue = [0, 25]'),\n",
       " Text(0.743421052631579, 0.8333333333333334, 'X[4] <= 1.5\\nentropy = 0.943\\nsamples = 50\\nvalue = [18, 32]'),\n",
       " Text(0.5921052631578947, 0.7222222222222222, 'X[1] <= 1.5\\nentropy = 0.995\\nsamples = 37\\nvalue = [17, 20]'),\n",
       " Text(0.5394736842105263, 0.6111111111111112, 'X[4] <= 0.5\\nentropy = 0.985\\nsamples = 35\\nvalue = [15, 20]'),\n",
       " Text(0.39473684210526316, 0.5, 'X[3] <= 0.5\\nentropy = 0.974\\nsamples = 32\\nvalue = [13, 19]'),\n",
       " Text(0.2631578947368421, 0.3888888888888889, 'X[2] <= 1.5\\nentropy = 0.99\\nsamples = 25\\nvalue = [11, 14]'),\n",
       " Text(0.15789473684210525, 0.2777777777777778, 'X[2] <= 0.5\\nentropy = 0.989\\nsamples = 16\\nvalue = [9, 7]'),\n",
       " Text(0.10526315789473684, 0.16666666666666666, 'X[1] <= 0.5\\nentropy = 1.0\\nsamples = 12\\nvalue = [6, 6]'),\n",
       " Text(0.05263157894736842, 0.05555555555555555, 'entropy = 1.0\\nsamples = 8\\nvalue = [4, 4]'),\n",
       " Text(0.15789473684210525, 0.05555555555555555, 'entropy = 1.0\\nsamples = 4\\nvalue = [2, 2]'),\n",
       " Text(0.21052631578947367, 0.16666666666666666, 'entropy = 0.811\\nsamples = 4\\nvalue = [3, 1]'),\n",
       " Text(0.3684210526315789, 0.2777777777777778, 'X[1] <= 0.5\\nentropy = 0.764\\nsamples = 9\\nvalue = [2, 7]'),\n",
       " Text(0.3157894736842105, 0.16666666666666666, 'entropy = 0.722\\nsamples = 5\\nvalue = [1, 4]'),\n",
       " Text(0.42105263157894735, 0.16666666666666666, 'entropy = 0.811\\nsamples = 4\\nvalue = [1, 3]'),\n",
       " Text(0.5263157894736842, 0.3888888888888889, 'X[2] <= 1.5\\nentropy = 0.863\\nsamples = 7\\nvalue = [2, 5]'),\n",
       " Text(0.47368421052631576, 0.2777777777777778, 'entropy = 0.0\\nsamples = 4\\nvalue = [0, 4]'),\n",
       " Text(0.5789473684210527, 0.2777777777777778, 'entropy = 0.918\\nsamples = 3\\nvalue = [2, 1]'),\n",
       " Text(0.6842105263157895, 0.5, 'X[2] <= 0.5\\nentropy = 0.918\\nsamples = 3\\nvalue = [2, 1]'),\n",
       " Text(0.631578947368421, 0.3888888888888889, 'entropy = 0.0\\nsamples = 1\\nvalue = [1, 0]'),\n",
       " Text(0.7368421052631579, 0.3888888888888889, 'X[1] <= 0.5\\nentropy = 1.0\\nsamples = 2\\nvalue = [1, 1]'),\n",
       " Text(0.6842105263157895, 0.2777777777777778, 'entropy = 0.0\\nsamples = 1\\nvalue = [1, 0]'),\n",
       " Text(0.7894736842105263, 0.2777777777777778, 'entropy = 0.0\\nsamples = 1\\nvalue = [0, 1]'),\n",
       " Text(0.6447368421052632, 0.6111111111111112, 'entropy = 0.0\\nsamples = 2\\nvalue = [2, 0]'),\n",
       " Text(0.8947368421052632, 0.7222222222222222, 'X[4] <= 3.5\\nentropy = 0.391\\nsamples = 13\\nvalue = [1, 12]'),\n",
       " Text(0.8421052631578947, 0.6111111111111112, 'X[2] <= 1.0\\nentropy = 0.65\\nsamples = 6\\nvalue = [1, 5]'),\n",
       " Text(0.7894736842105263, 0.5, 'entropy = 0.0\\nsamples = 2\\nvalue = [0, 2]'),\n",
       " Text(0.8947368421052632, 0.5, 'X[4] <= 2.5\\nentropy = 0.811\\nsamples = 4\\nvalue = [1, 3]'),\n",
       " Text(0.8421052631578947, 0.3888888888888889, 'entropy = 0.0\\nsamples = 1\\nvalue = [0, 1]'),\n",
       " Text(0.9473684210526315, 0.3888888888888889, 'entropy = 0.918\\nsamples = 3\\nvalue = [1, 2]'),\n",
       " Text(0.9473684210526315, 0.6111111111111112, 'entropy = 0.0\\nsamples = 7\\nvalue = [0, 7]')]"
      ]
     },
     "execution_count": 10,
     "metadata": {},
     "output_type": "execute_result"
    },
    {
     "data": {
      "image/png": "[encoded data removed]",
      "text/plain": [
       "<Figure size 640x480 with 1 Axes>"
      ]
     },
     "metadata": {},
     "output_type": "display_data"
    }
   ],
   "source": [
    "#Decision tree Classifier\n",
    "\n",
    "from sklearn.tree import DecisionTreeClassifier\n",
    "start=time.time()\n",
    "DST=DecisionTreeClassifier()\n",
    "DST.fit(X_train,y_train)\n",
    "stop=time.time()\n",
    "print(\"The accracy score of train data \",DST.score(X_train,y_train),\" and test data \",DST.score(X_test,y_test))\n",
    "print(\"The time taken to get the score of Decision tree : \",stop-start)\n",
    "prediction_X_test=DST.predict(X_test)\n",
    "prediction_X_train=DST.predict(X_train)\n",
    "print(\"The F_score of training data \",round(f1_score(y_train,prediction_X_train),5))\n",
    "print(\"The F_score of test data \",round(f1_score(y_test,prediction_X_test),5))\n",
    "print(\"The precision_score of training data \",round(f1_score(y_train,prediction_X_train),5))\n",
    "print(\"The precision_score of test data \",round(precision_score(y_test,prediction_X_test),5))\n",
    "print(\"The ROC_score of training data \",round(roc_auc_score(y_train,prediction_X_train),5))\n",
    "print(\"The ROC_score of test data \",round(roc_auc_score(y_test,prediction_X_test),5))\n",
    "#A6\n",
    "model = DecisionTreeClassifier(criterion=\"entropy\")\n",
    "model = model.fit(X_train,y_train)\n",
    "tree.plot_tree(model, filled=True)"
   ]
  },
  {
   "attachments": {},
   "cell_type": "markdown",
   "metadata": {},
   "source": [
    "Naive base Classifier"
   ]
  },
  {
   "cell_type": "code",
   "execution_count": 11,
   "metadata": {},
   "outputs": [
    {
     "name": "stdout",
     "output_type": "stream",
     "text": [
      "The accracy score of train data  0.6875  and test data  0.65\n",
      "The time taken to get the score of Naive base classifier :  0.007993936538696289\n",
      "The F_score of training data  0.77064\n",
      "The F_score of test data  0.75862\n",
      "The precision_score of training data  0.77064\n",
      "The precision_score of test data  0.78571\n",
      "The ROC_score of training data  0.675\n",
      "The ROC_score of test data  0.56667\n"
     ]
    }
   ],
   "source": [
    "#Naive base Classifier\n",
    "\n",
    "from sklearn.naive_bayes import GaussianNB\n",
    "start=time.time()\n",
    "NB=GaussianNB()\n",
    "NB.fit(X_train,y_train)\n",
    "stop=time.time()\n",
    "print(\"The accracy score of train data \",NB.score(X_train,y_train),\" and test data \",NB.score(X_test,y_test))\n",
    "print(\"The time taken to get the score of Naive base classifier : \",stop-start)\n",
    "prediction_X_test=NB.predict(X_test)\n",
    "prediction_X_train=NB.predict(X_train)\n",
    "print(\"The F_score of training data \",round(f1_score(y_train,prediction_X_train),5))\n",
    "print(\"The F_score of test data \",round(f1_score(y_test,prediction_X_test),5))\n",
    "print(\"The precision_score of training data \",round(f1_score(y_train,prediction_X_train),5))\n",
    "print(\"The precision_score of test data \",round(precision_score(y_test,prediction_X_test),5))\n",
    "print(\"The ROC_score of training data \",round(roc_auc_score(y_train,prediction_X_train),5))\n",
    "print(\"The ROC_score of test data \",round(roc_auc_score(y_test,prediction_X_test),5))"
   ]
  },
  {
   "attachments": {},
   "cell_type": "markdown",
   "metadata": {},
   "source": [
    "Random forest classifier"
   ]
  },
  {
   "cell_type": "code",
   "execution_count": 12,
   "metadata": {},
   "outputs": [
    {
     "name": "stdout",
     "output_type": "stream",
     "text": [
      "The accracy score of train data  0.8625  and test data  0.55\n",
      "The time taken to get the score of random forest tree :  0.18043851852416992\n",
      "The F_score of training data  0.91057\n",
      "The F_score of test data  0.68966\n",
      "The precision_score of training data  0.91057\n",
      "The precision_score of test data  0.71429\n",
      "The ROC_score of training data  0.79167\n",
      "The ROC_score of test data  0.43333\n"
     ]
    }
   ],
   "source": [
    "#Random forest classifier\n",
    "from sklearn.ensemble import RandomForestClassifier\n",
    "start=time.time()\n",
    "RFC=RandomForestClassifier()\n",
    "RFC.fit(X_train,y_train) \n",
    "stop=time.time()\n",
    "print(\"The accracy score of train data \",RFC.score(X_train,y_train),\" and test data \",RFC.score(X_test,y_test))\n",
    "print(\"The time taken to get the score of random forest tree : \",stop-start)\n",
    "prediction_X_test=RFC.predict(X_test)\n",
    "prediction_X_train=RFC.predict(X_train)\n",
    "print(\"The F_score of training data \",round(f1_score(y_train,prediction_X_train),5))\n",
    "print(\"The F_score of test data \",round(f1_score(y_test,prediction_X_test),5))\n",
    "print(\"The precision_score of training data \",round(f1_score(y_train,prediction_X_train),5))\n",
    "print(\"The precision_score of test data \",round(precision_score(y_test,prediction_X_test),5))\n",
    "print(\"The ROC_score of training data \",round(roc_auc_score(y_train,prediction_X_train),5))\n",
    "print(\"The ROC_score of test data \",round(roc_auc_score(y_test,prediction_X_test),5))"
   ]
  },
  {
   "attachments": {},
   "cell_type": "markdown",
   "metadata": {},
   "source": [
    "Bagging Classifier"
   ]
  },
  {
   "cell_type": "code",
   "execution_count": 13,
   "metadata": {},
   "outputs": [
    {
     "name": "stdout",
     "output_type": "stream",
     "text": [
      "The accracy score of train data  0.85  and test data  0.6\n",
      "The time taken to get the score of random forest tree :  0.057004690170288086\n",
      "The F_score of training data  0.90164\n",
      "The F_score of test data  0.73333\n",
      "The precision_score of training data  0.90164\n",
      "The precision_score of test data  0.73333\n",
      "The ROC_score of training data  0.78333\n",
      "The ROC_score of test data  0.46667\n"
     ]
    }
   ],
   "source": [
    "from sklearn.ensemble import BaggingClassifier\n",
    "bag=BaggingClassifier()\n",
    "start=time.time()\n",
    "bag.fit(X_train,y_train)\n",
    "bag.fit(X_train,y_train) \n",
    "stop=time.time()\n",
    "print(\"The accracy score of train data \",bag.score(X_train,y_train),\" and test data \",bag.score(X_test,y_test))\n",
    "print(\"The time taken to get the score of random forest tree : \",stop-start)\n",
    "prediction_X_test=bag.predict(X_test)\n",
    "prediction_X_train=bag.predict(X_train)\n",
    "print(\"The F_score of training data \",round(f1_score(y_train,prediction_X_train),5))\n",
    "print(\"The F_score of test data \",round(f1_score(y_test,prediction_X_test),5))\n",
    "print(\"The precision_score of training data \",round(f1_score(y_train,prediction_X_train),5))\n",
    "print(\"The precision_score of test data \",round(precision_score(y_test,prediction_X_test),5))\n",
    "print(\"The ROC_score of training data \",round(roc_auc_score(y_train,prediction_X_train),5))\n",
    "print(\"The ROC_score of test data \",round(roc_auc_score(y_test,prediction_X_test),5))"
   ]
  },
  {
   "attachments": {},
   "cell_type": "markdown",
   "metadata": {},
   "source": [
    "Boosting Classifier"
   ]
  },
  {
   "cell_type": "code",
   "execution_count": 14,
   "metadata": {},
   "outputs": [
    {
     "name": "stdout",
     "output_type": "stream",
     "text": [
      "The accracy score of train data  0.8  and test data  0.65\n",
      "The time taken to get the score of random forest tree :  0.10660815238952637\n",
      "The F_score of training data  0.87302\n",
      "The F_score of test data  0.77419\n",
      "The precision_score of training data  0.87302\n",
      "The precision_score of test data  0.75\n",
      "The ROC_score of training data  0.68333\n",
      "The ROC_score of test data  0.5\n"
     ]
    }
   ],
   "source": [
    "from sklearn.ensemble import AdaBoostClassifier\n",
    "start = time.time()\n",
    "boost=AdaBoostClassifier()\n",
    "boost.fit(X_train,y_train)\n",
    "stop=time.time()\n",
    "print(\"The accracy score of train data \",boost.score(X_train,y_train),\" and test data \",boost.score(X_test,y_test))\n",
    "print(\"The time taken to get the score of random forest tree : \",stop-start)\n",
    "prediction_X_test=boost.predict(X_test)\n",
    "prediction_X_train=boost.predict(X_train)\n",
    "print(\"The F_score of training data \",round(f1_score(y_train,prediction_X_train),5))\n",
    "print(\"The F_score of test data \",round(f1_score(y_test,prediction_X_test),5))\n",
    "print(\"The precision_score of training data \",round(f1_score(y_train,prediction_X_train),5))\n",
    "print(\"The precision_score of test data \",round(precision_score(y_test,prediction_X_test),5))\n",
    "print(\"The ROC_score of training data \",round(roc_auc_score(y_train,prediction_X_train),5))\n",
    "print(\"The ROC_score of test data \",round(roc_auc_score(y_test,prediction_X_test),5))"
   ]
  },
  {
   "attachments": {},
   "cell_type": "markdown",
   "metadata": {},
   "source": [
    "Regression"
   ]
  },
  {
   "attachments": {},
   "cell_type": "markdown",
   "metadata": {},
   "source": [
    "LinearRegression"
   ]
  },
  {
   "cell_type": "code",
   "execution_count": 15,
   "metadata": {},
   "outputs": [
    {
     "name": "stdout",
     "output_type": "stream",
     "text": [
      "The accracy score of train data  0.1911001066885416  and test data  0.06733581521463028\n",
      "The time taken to get the score of linear regression tree :  0.01599574089050293\n"
     ]
    }
   ],
   "source": [
    "from sklearn.linear_model import LinearRegression\n",
    "start=time.time()\n",
    "linreg=LinearRegression()\n",
    "linreg.fit(X_train,y_train)\n",
    "stop=time.time()\n",
    "print(\"The accracy score of train data \",linreg.score(X_train,y_train),\" and test data \",linreg.score(X_test,y_test))\n",
    "print(\"The time taken to get the score of linear regression tree : \",stop-start)"
   ]
  },
  {
   "attachments": {},
   "cell_type": "markdown",
   "metadata": {},
   "source": [
    "LogisticRegression"
   ]
  },
  {
   "cell_type": "code",
   "execution_count": 16,
   "metadata": {},
   "outputs": [
    {
     "name": "stdout",
     "output_type": "stream",
     "text": [
      "The time taken to get the score of logistic regression :  0.01600027084350586\n",
      "The accuracy of logistic regression :  0.75\n"
     ]
    }
   ],
   "source": [
    "from sklearn.linear_model import LogisticRegression\n",
    "start=time.time()\n",
    "log=LogisticRegression()\n",
    "log.fit(X_train,y_train)\n",
    "stop=time.time()\n",
    "print(\"The time taken to get the score of logistic regression : \",stop-start)\n",
    "print(\"The accuracy of logistic regression : \",log.score(X_train,y_train))"
   ]
  },
  {
   "attachments": {},
   "cell_type": "markdown",
   "metadata": {},
   "source": [
    "KNeighborsRegressor"
   ]
  },
  {
   "cell_type": "code",
   "execution_count": 17,
   "metadata": {},
   "outputs": [
    {
     "name": "stdout",
     "output_type": "stream",
     "text": [
      "The accuracy KNN regressor :  0.34399999999999986\n",
      "The time taken to get the score of logistic regression :  0.009648323059082031\n"
     ]
    }
   ],
   "source": [
    "from sklearn.neighbors import KNeighborsRegressor\n",
    "start=time.time()\n",
    "kr = KNeighborsRegressor()\n",
    "kr.fit(X_train,y_train)\n",
    "stop=time.time()\n",
    "print(\"The accuracy KNN regressor : \",kr.score(X_train,y_train))\n",
    "print(\"The time taken to get the score of logistic regression : \",stop-start)"
   ]
  },
  {
   "attachments": {},
   "cell_type": "markdown",
   "metadata": {},
   "source": [
    "DecisionTreeRegressor"
   ]
  },
  {
   "cell_type": "code",
   "execution_count": 18,
   "metadata": {},
   "outputs": [
    {
     "name": "stdout",
     "output_type": "stream",
     "text": [
      "The accuracy of Decision tree regressor :  0.5577777777777778\n",
      "The time taken to get the score of logistic regression :  0.007989883422851562\n"
     ]
    }
   ],
   "source": [
    "from sklearn.tree import DecisionTreeRegressor\n",
    "start=time.time()\n",
    "dr=DecisionTreeRegressor()\n",
    "dr.fit(X_train,y_train)\n",
    "stop=time.time()\n",
    "print(\"The accuracy of Decision tree regressor : \",dr.score(X_train,y_train))\n",
    "print(\"The time taken to get the score of logistic regression : \",stop-start)"
   ]
  },
  {
   "attachments": {},
   "cell_type": "markdown",
   "metadata": {},
   "source": [
    "FDS"
   ]
  },
  {
   "cell_type": "code",
   "execution_count": 19,
   "metadata": {},
   "outputs": [],
   "source": [
    "import seaborn as sns"
   ]
  },
  {
   "cell_type": "code",
   "execution_count": 20,
   "metadata": {},
   "outputs": [
    {
     "ename": "SyntaxError",
     "evalue": "invalid syntax (2604705922.py, line 3)",
     "output_type": "error",
     "traceback": [
      "\u001b[1;36m  Input \u001b[1;32mIn [20]\u001b[1;36m\u001b[0m\n\u001b[1;33m    plt.xticks(rotation=)\u001b[0m\n\u001b[1;37m                        ^\u001b[0m\n\u001b[1;31mSyntaxError\u001b[0m\u001b[1;31m:\u001b[0m invalid syntax\n"
     ]
    }
   ],
   "source": [
    "fig = plt.figure(figsize=(2,5))\n",
    "sns.countplot(dataframe[['Is not being able to hangout and meet your friends and classmates in any way affecting your mental health?','quarantine impact','When did you have more free time?','happy with online classes',' How many days in a week do you practice meditation?']])\n",
    "plt.xticks(rotation=)\n",
    "plt.xlabel('column')\n",
    "plt.ylabel('mentalh_level')\n",
    "fig.show()"
   ]
  },
  {
   "cell_type": "code",
   "execution_count": null,
   "metadata": {},
   "outputs": [
    {
     "name": "stderr",
     "output_type": "stream",
     "text": [
      "C:\\Users\\Hitesh\\AppData\\Local\\Temp\\ipykernel_13508\\71643937.py:3: UserWarning: Matplotlib is currently using module://matplotlib_inline.backend_inline, which is a non-GUI backend, so cannot show the figure.\n",
      "  fig.show()\n"
     ]
    },
    {
     "data": {
      "image/png": "[encoded data removed]",
      "text/plain": [
       "<Figure size 1800x500 with 1 Axes>"
      ]
     },
     "metadata": {},
     "output_type": "display_data"
    }
   ],
   "source": [
    "fig = plt.figure(figsize=(18,5))\n",
    "sns.countplot(dataframe[['Is not being able to hangout and meet your friends and classmates in any way affecting your mental health?','quarantine impact','When did you have more free time?','happy with online classes',' How many days in a week do you practice meditation?']])\n",
    "fig.show()"
   ]
  }
 ],
 "metadata": {
  "kernelspec": {
   "display_name": "Python 3",
   "language": "python",
   "name": "python3"
  },
  "language_info": {
   "codemirror_mode": {
    "name": "ipython",
    "version": 3
   },
   "file_extension": ".py",
   "mimetype": "text/x-python",
   "name": "python",
   "nbconvert_exporter": "python",
   "pygments_lexer": "ipython3",
   "version": "3.10.2"
  },
  "orig_nbformat": 4,
  "vscode": {
   "interpreter": {
    "hash": "070028ba1342e166cb73fb497b35572113484a2ef1bea3a29a8945b00241d4de"
   }
  }
 },
 "nbformat": 4,
 "nbformat_minor": 2
}

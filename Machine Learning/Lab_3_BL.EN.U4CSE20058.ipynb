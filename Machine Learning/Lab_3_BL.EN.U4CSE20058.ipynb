{
  "cells": [
    {
      "cell_type": "code",
      "execution_count": 1,
      "metadata": {},
      "outputs": [
        {
          "data": {
            "text/html": [
              "<div>\n",
              "<style scoped>\n",
              "    .dataframe tbody tr th:only-of-type {\n",
              "        vertical-align: middle;\n",
              "    }\n",
              "\n",
              "    .dataframe tbody tr th {\n",
              "        vertical-align: top;\n",
              "    }\n",
              "\n",
              "    .dataframe thead th {\n",
              "        text-align: right;\n",
              "    }\n",
              "</style>\n",
              "<table border=\"1\" class=\"dataframe\">\n",
              "  <thead>\n",
              "    <tr style=\"text-align: right;\">\n",
              "      <th></th>\n",
              "      <th>Timestamp</th>\n",
              "      <th>1. Name</th>\n",
              "      <th>2. Email id</th>\n",
              "      <th>3. Gender</th>\n",
              "      <th>4. Age (in years)</th>\n",
              "      <th>5. Height (in cms)</th>\n",
              "      <th>6. Weight (in kgs)</th>\n",
              "      <th>7. Highest education qualification</th>\n",
              "      <th>8. Name of Educational Institution and the course enrolled ( eg, BE in CS from RVITM )</th>\n",
              "      <th>9. Number of family members</th>\n",
              "      <th>...</th>\n",
              "      <th>9. How many days in a week do you practice meditation?</th>\n",
              "      <th>10. How do you see your current life now compared to before?</th>\n",
              "      <th>11. Did you go through separation with close relatives/loved ones?</th>\n",
              "      <th>12. Was there any death or serious hospitalisation within your inner circle?</th>\n",
              "      <th>13. Who are you staying with?</th>\n",
              "      <th>14. Do you have fear of getting infected with COVID-19?</th>\n",
              "      <th>15. How do you keep yourself entertained during lockdowns?</th>\n",
              "      <th>16. When do you think you were more confident?</th>\n",
              "      <th>17. Are you happy with online classes?</th>\n",
              "      <th>Rate_your_mental_well_being</th>\n",
              "    </tr>\n",
              "  </thead>\n",
              "  <tbody>\n",
              "    <tr>\n",
              "      <th>0</th>\n",
              "      <td>2022-03-26 10:03:02.825</td>\n",
              "      <td>a</td>\n",
              "      <td>ashasm.rvitm@rvei.edu.in</td>\n",
              "      <td>Female</td>\n",
              "      <td>45</td>\n",
              "      <td>155.0</td>\n",
              "      <td>67.0</td>\n",
              "      <td>Doctorate ( PhD )</td>\n",
              "      <td>CSE</td>\n",
              "      <td>3</td>\n",
              "      <td>...</td>\n",
              "      <td>1</td>\n",
              "      <td>gfhj</td>\n",
              "      <td>No</td>\n",
              "      <td>No</td>\n",
              "      <td>At home with family</td>\n",
              "      <td>No</td>\n",
              "      <td>watchin webseries</td>\n",
              "      <td>Before lockdown</td>\n",
              "      <td>No</td>\n",
              "      <td>5</td>\n",
              "    </tr>\n",
              "    <tr>\n",
              "      <th>1</th>\n",
              "      <td>2022-03-26 19:41:09.967</td>\n",
              "      <td>Samyukkta Chauhaan</td>\n",
              "      <td>rvit21bcs034.rvitm@rvei.edu.in</td>\n",
              "      <td>Female</td>\n",
              "      <td>20</td>\n",
              "      <td>169.0</td>\n",
              "      <td>76.0</td>\n",
              "      <td>Undergraduate ( UG ) / Bachelor's degree</td>\n",
              "      <td>RVITM</td>\n",
              "      <td>3</td>\n",
              "      <td>...</td>\n",
              "      <td>0</td>\n",
              "      <td>Become better</td>\n",
              "      <td>No</td>\n",
              "      <td>Yes</td>\n",
              "      <td>At home with family</td>\n",
              "      <td>Yes</td>\n",
              "      <td>Binging</td>\n",
              "      <td>Unchanged</td>\n",
              "      <td>Yes</td>\n",
              "      <td>10</td>\n",
              "    </tr>\n",
              "    <tr>\n",
              "      <th>2</th>\n",
              "      <td>2022-03-26 19:53:20.794</td>\n",
              "      <td>Spoorthi G G</td>\n",
              "      <td>spoorthi1999@gmail.com</td>\n",
              "      <td>Female</td>\n",
              "      <td>23</td>\n",
              "      <td>151.0</td>\n",
              "      <td>47.0</td>\n",
              "      <td>Undergraduate ( UG ) / Bachelor's degree</td>\n",
              "      <td>BE ECE in RVCE</td>\n",
              "      <td>4</td>\n",
              "      <td>...</td>\n",
              "      <td>0</td>\n",
              "      <td>Not sure</td>\n",
              "      <td>Yes</td>\n",
              "      <td>No</td>\n",
              "      <td>At home with family</td>\n",
              "      <td>Yes</td>\n",
              "      <td>Talk to friends</td>\n",
              "      <td>Unchanged</td>\n",
              "      <td>Yes</td>\n",
              "      <td>5</td>\n",
              "    </tr>\n",
              "    <tr>\n",
              "      <th>3</th>\n",
              "      <td>2022-03-26 19:56:07.611</td>\n",
              "      <td>Astik Dixit</td>\n",
              "      <td>astikdixit2411@gmail.com</td>\n",
              "      <td>Male</td>\n",
              "      <td>19</td>\n",
              "      <td>175.0</td>\n",
              "      <td>65.0</td>\n",
              "      <td>Higher Secondary Schooling ( class 11 and 12 )</td>\n",
              "      <td>CE in MANIT Bhopal</td>\n",
              "      <td>4</td>\n",
              "      <td>...</td>\n",
              "      <td>0</td>\n",
              "      <td>no change</td>\n",
              "      <td>No</td>\n",
              "      <td>No</td>\n",
              "      <td>Hostel / PG</td>\n",
              "      <td>No</td>\n",
              "      <td>watch movies and spent time with family members</td>\n",
              "      <td>Unchanged</td>\n",
              "      <td>No</td>\n",
              "      <td>7</td>\n",
              "    </tr>\n",
              "    <tr>\n",
              "      <th>4</th>\n",
              "      <td>2022-03-26 19:56:10.906</td>\n",
              "      <td>Nishant jaiswal</td>\n",
              "      <td>jaiswalnj075@gmail.com</td>\n",
              "      <td>Male</td>\n",
              "      <td>20</td>\n",
              "      <td>175.0</td>\n",
              "      <td>55.0</td>\n",
              "      <td>Higher Secondary Schooling ( class 11 and 12 )</td>\n",
              "      <td>B.tech in CS from Amity University,Lucknow</td>\n",
              "      <td>5</td>\n",
              "      <td>...</td>\n",
              "      <td>0</td>\n",
              "      <td>Feel good</td>\n",
              "      <td>No</td>\n",
              "      <td>Yes</td>\n",
              "      <td>Hostel / PG</td>\n",
              "      <td>No</td>\n",
              "      <td>By watching videos</td>\n",
              "      <td>Before lockdown</td>\n",
              "      <td>No</td>\n",
              "      <td>4</td>\n",
              "    </tr>\n",
              "    <tr>\n",
              "      <th>...</th>\n",
              "      <td>...</td>\n",
              "      <td>...</td>\n",
              "      <td>...</td>\n",
              "      <td>...</td>\n",
              "      <td>...</td>\n",
              "      <td>...</td>\n",
              "      <td>...</td>\n",
              "      <td>...</td>\n",
              "      <td>...</td>\n",
              "      <td>...</td>\n",
              "      <td>...</td>\n",
              "      <td>...</td>\n",
              "      <td>...</td>\n",
              "      <td>...</td>\n",
              "      <td>...</td>\n",
              "      <td>...</td>\n",
              "      <td>...</td>\n",
              "      <td>...</td>\n",
              "      <td>...</td>\n",
              "      <td>...</td>\n",
              "      <td>...</td>\n",
              "    </tr>\n",
              "    <tr>\n",
              "      <th>184</th>\n",
              "      <td>2022-04-01 10:42:54.470</td>\n",
              "      <td>Swati Bhujbal</td>\n",
              "      <td>swatibhujbal86@gmail.com</td>\n",
              "      <td>Female</td>\n",
              "      <td>36</td>\n",
              "      <td>164.0</td>\n",
              "      <td>47.0</td>\n",
              "      <td>Postgraduate ( PG ) / Master's degree</td>\n",
              "      <td>M.A. I/O Psychology</td>\n",
              "      <td>5</td>\n",
              "      <td>...</td>\n",
              "      <td>0</td>\n",
              "      <td>Now it's good just having fear to get covid po...</td>\n",
              "      <td>Yes</td>\n",
              "      <td>Yes</td>\n",
              "      <td>At home with family</td>\n",
              "      <td>Yes</td>\n",
              "      <td>Busy to take care of family members , tried di...</td>\n",
              "      <td>After lockdown</td>\n",
              "      <td>No</td>\n",
              "      <td>5</td>\n",
              "    </tr>\n",
              "    <tr>\n",
              "      <th>185</th>\n",
              "      <td>2022-04-01 20:02:48.384</td>\n",
              "      <td>Reeva</td>\n",
              "      <td>reeva.kotecha@gmail.com</td>\n",
              "      <td>Female</td>\n",
              "      <td>16</td>\n",
              "      <td>165.0</td>\n",
              "      <td>45.0</td>\n",
              "      <td>Secondary schooling ( class 6 to 10 )</td>\n",
              "      <td>School</td>\n",
              "      <td>4</td>\n",
              "      <td>...</td>\n",
              "      <td>0</td>\n",
              "      <td>Unchanged</td>\n",
              "      <td>Yes</td>\n",
              "      <td>No</td>\n",
              "      <td>At home with family</td>\n",
              "      <td>No</td>\n",
              "      <td>By staying with family</td>\n",
              "      <td>Before lockdown</td>\n",
              "      <td>No</td>\n",
              "      <td>7</td>\n",
              "    </tr>\n",
              "    <tr>\n",
              "      <th>186</th>\n",
              "      <td>2022-04-02 21:59:28.273</td>\n",
              "      <td>Deepthy</td>\n",
              "      <td>deepthymd@gmail.com</td>\n",
              "      <td>Female</td>\n",
              "      <td>37</td>\n",
              "      <td>153.0</td>\n",
              "      <td>53.0</td>\n",
              "      <td>Undergraduate ( UG ) / Bachelor's degree</td>\n",
              "      <td>Geethanjali Olympiad School</td>\n",
              "      <td>4</td>\n",
              "      <td>...</td>\n",
              "      <td>3</td>\n",
              "      <td>More time for hobbies</td>\n",
              "      <td>No</td>\n",
              "      <td>No</td>\n",
              "      <td>At home with family</td>\n",
              "      <td>Yes</td>\n",
              "      <td>Hobby</td>\n",
              "      <td>Unchanged</td>\n",
              "      <td>Yes</td>\n",
              "      <td>8</td>\n",
              "    </tr>\n",
              "    <tr>\n",
              "      <th>187</th>\n",
              "      <td>2022-04-03 01:18:01.394</td>\n",
              "      <td>Kavya H.M</td>\n",
              "      <td>Rvit21bis020.rvitm@rvei.edu.in</td>\n",
              "      <td>Male</td>\n",
              "      <td>19</td>\n",
              "      <td>155.0</td>\n",
              "      <td>50.0</td>\n",
              "      <td>Undergraduate ( UG ) / Bachelor's degree</td>\n",
              "      <td>BE in ISE from RVITM</td>\n",
              "      <td>4</td>\n",
              "      <td>...</td>\n",
              "      <td>0</td>\n",
              "      <td>Academic wise not good</td>\n",
              "      <td>No</td>\n",
              "      <td>No</td>\n",
              "      <td>Hostel / PG</td>\n",
              "      <td>Yes</td>\n",
              "      <td>Social media</td>\n",
              "      <td>After lockdown</td>\n",
              "      <td>No</td>\n",
              "      <td>6</td>\n",
              "    </tr>\n",
              "    <tr>\n",
              "      <th>188</th>\n",
              "      <td>2022-04-05 21:20:28.626</td>\n",
              "      <td>shaurya jain</td>\n",
              "      <td>shauryajai9@gmail.com</td>\n",
              "      <td>Male</td>\n",
              "      <td>14</td>\n",
              "      <td>157.0</td>\n",
              "      <td>50.5</td>\n",
              "      <td>Secondary schooling ( class 6 to 10 )</td>\n",
              "      <td>Pramiti School</td>\n",
              "      <td>3(with grand parents 5)</td>\n",
              "      <td>...</td>\n",
              "      <td>0</td>\n",
              "      <td>yes now is way worse \\n</td>\n",
              "      <td>Yes</td>\n",
              "      <td>Yes</td>\n",
              "      <td>At home with family</td>\n",
              "      <td>Yes</td>\n",
              "      <td>games and family time (family time is rare no ...</td>\n",
              "      <td>Before lockdown</td>\n",
              "      <td>No</td>\n",
              "      <td>5</td>\n",
              "    </tr>\n",
              "  </tbody>\n",
              "</table>\n",
              "<p>189 rows × 68 columns</p>\n",
              "</div>"
            ],
            "text/plain": [
              "                  Timestamp              1. Name  \\\n",
              "0   2022-03-26 10:03:02.825                    a   \n",
              "1   2022-03-26 19:41:09.967  Samyukkta Chauhaan    \n",
              "2   2022-03-26 19:53:20.794         Spoorthi G G   \n",
              "3   2022-03-26 19:56:07.611         Astik Dixit    \n",
              "4   2022-03-26 19:56:10.906      Nishant jaiswal   \n",
              "..                      ...                  ...   \n",
              "184 2022-04-01 10:42:54.470        Swati Bhujbal   \n",
              "185 2022-04-01 20:02:48.384                Reeva   \n",
              "186 2022-04-02 21:59:28.273              Deepthy   \n",
              "187 2022-04-03 01:18:01.394            Kavya H.M   \n",
              "188 2022-04-05 21:20:28.626         shaurya jain   \n",
              "\n",
              "                         2. Email id 3. Gender  4. Age (in years)  \\\n",
              "0           ashasm.rvitm@rvei.edu.in    Female                 45   \n",
              "1    rvit21bcs034.rvitm@rvei.edu.in     Female                 20   \n",
              "2             spoorthi1999@gmail.com    Female                 23   \n",
              "3           astikdixit2411@gmail.com      Male                 19   \n",
              "4             jaiswalnj075@gmail.com      Male                 20   \n",
              "..                               ...       ...                ...   \n",
              "184         swatibhujbal86@gmail.com    Female                 36   \n",
              "185          reeva.kotecha@gmail.com    Female                 16   \n",
              "186             deepthymd@gmail.com     Female                 37   \n",
              "187   Rvit21bis020.rvitm@rvei.edu.in      Male                 19   \n",
              "188            shauryajai9@gmail.com      Male                 14   \n",
              "\n",
              "     5. Height (in cms)  6. Weight (in kgs)  \\\n",
              "0                 155.0                67.0   \n",
              "1                 169.0                76.0   \n",
              "2                 151.0                47.0   \n",
              "3                 175.0                65.0   \n",
              "4                 175.0                55.0   \n",
              "..                  ...                 ...   \n",
              "184               164.0                47.0   \n",
              "185               165.0                45.0   \n",
              "186               153.0                53.0   \n",
              "187               155.0                50.0   \n",
              "188               157.0                50.5   \n",
              "\n",
              "                7. Highest education qualification   \\\n",
              "0                                 Doctorate ( PhD )   \n",
              "1          Undergraduate ( UG ) / Bachelor's degree   \n",
              "2          Undergraduate ( UG ) / Bachelor's degree   \n",
              "3    Higher Secondary Schooling ( class 11 and 12 )   \n",
              "4    Higher Secondary Schooling ( class 11 and 12 )   \n",
              "..                                              ...   \n",
              "184           Postgraduate ( PG ) / Master's degree   \n",
              "185           Secondary schooling ( class 6 to 10 )   \n",
              "186        Undergraduate ( UG ) / Bachelor's degree   \n",
              "187        Undergraduate ( UG ) / Bachelor's degree   \n",
              "188           Secondary schooling ( class 6 to 10 )   \n",
              "\n",
              "    8. Name of Educational Institution and the course enrolled ( eg, BE in CS from RVITM )   \\\n",
              "0                                                  CSE                                        \n",
              "1                                               RVITM                                         \n",
              "2                                       BE ECE in RVCE                                        \n",
              "3                                   CE in MANIT Bhopal                                        \n",
              "4           B.tech in CS from Amity University,Lucknow                                        \n",
              "..                                                 ...                                        \n",
              "184                                M.A. I/O Psychology                                        \n",
              "185                                             School                                        \n",
              "186                       Geethanjali Olympiad School                                         \n",
              "187                               BE in ISE from RVITM                                        \n",
              "188                                     Pramiti School                                        \n",
              "\n",
              "    9. Number of family members  ...  \\\n",
              "0                             3  ...   \n",
              "1                             3  ...   \n",
              "2                             4  ...   \n",
              "3                             4  ...   \n",
              "4                             5  ...   \n",
              "..                          ...  ...   \n",
              "184                           5  ...   \n",
              "185                           4  ...   \n",
              "186                           4  ...   \n",
              "187                           4  ...   \n",
              "188     3(with grand parents 5)  ...   \n",
              "\n",
              "    9. How many days in a week do you practice meditation?  \\\n",
              "0                                                    1       \n",
              "1                                                    0       \n",
              "2                                                    0       \n",
              "3                                                    0       \n",
              "4                                                    0       \n",
              "..                                                 ...       \n",
              "184                                                  0       \n",
              "185                                                  0       \n",
              "186                                                  3       \n",
              "187                                                  0       \n",
              "188                                                  0       \n",
              "\n",
              "    10. How do you see your current life now compared to before?  \\\n",
              "0                                                 gfhj             \n",
              "1                                       Become better              \n",
              "2                                            Not sure              \n",
              "3                                            no change             \n",
              "4                                            Feel good             \n",
              "..                                                 ...             \n",
              "184  Now it's good just having fear to get covid po...             \n",
              "185                                          Unchanged             \n",
              "186                             More time for hobbies              \n",
              "187                             Academic wise not good             \n",
              "188                            yes now is way worse \\n             \n",
              "\n",
              "    11. Did you go through separation with close relatives/loved ones?  \\\n",
              "0                                                   No                   \n",
              "1                                                   No                   \n",
              "2                                                  Yes                   \n",
              "3                                                   No                   \n",
              "4                                                   No                   \n",
              "..                                                 ...                   \n",
              "184                                                Yes                   \n",
              "185                                                Yes                   \n",
              "186                                                 No                   \n",
              "187                                                 No                   \n",
              "188                                                Yes                   \n",
              "\n",
              "    12. Was there any death or serious hospitalisation within your inner circle?  \\\n",
              "0                                                   No                             \n",
              "1                                                  Yes                             \n",
              "2                                                   No                             \n",
              "3                                                   No                             \n",
              "4                                                  Yes                             \n",
              "..                                                 ...                             \n",
              "184                                                Yes                             \n",
              "185                                                 No                             \n",
              "186                                                 No                             \n",
              "187                                                 No                             \n",
              "188                                                Yes                             \n",
              "\n",
              "    13. Who are you staying with?  \\\n",
              "0             At home with family   \n",
              "1             At home with family   \n",
              "2             At home with family   \n",
              "3                     Hostel / PG   \n",
              "4                     Hostel / PG   \n",
              "..                            ...   \n",
              "184           At home with family   \n",
              "185           At home with family   \n",
              "186           At home with family   \n",
              "187                   Hostel / PG   \n",
              "188           At home with family   \n",
              "\n",
              "    14. Do you have fear of getting infected with COVID-19?  \\\n",
              "0                                                   No        \n",
              "1                                                  Yes        \n",
              "2                                                  Yes        \n",
              "3                                                   No        \n",
              "4                                                   No        \n",
              "..                                                 ...        \n",
              "184                                                Yes        \n",
              "185                                                 No        \n",
              "186                                                Yes        \n",
              "187                                                Yes        \n",
              "188                                                Yes        \n",
              "\n",
              "    15. How do you keep yourself entertained during lockdowns?  \\\n",
              "0                                    watchin webseries           \n",
              "1                                             Binging            \n",
              "2                                     Talk to friends            \n",
              "3      watch movies and spent time with family members           \n",
              "4                                   By watching videos           \n",
              "..                                                 ...           \n",
              "184  Busy to take care of family members , tried di...           \n",
              "185                             By staying with family           \n",
              "186                                              Hobby           \n",
              "187                                       Social media           \n",
              "188  games and family time (family time is rare no ...           \n",
              "\n",
              "    16. When do you think you were more confident?  \\\n",
              "0                                  Before lockdown   \n",
              "1                                        Unchanged   \n",
              "2                                        Unchanged   \n",
              "3                                        Unchanged   \n",
              "4                                  Before lockdown   \n",
              "..                                             ...   \n",
              "184                                 After lockdown   \n",
              "185                                Before lockdown   \n",
              "186                                      Unchanged   \n",
              "187                                 After lockdown   \n",
              "188                                Before lockdown   \n",
              "\n",
              "    17. Are you happy with online classes? Rate_your_mental_well_being   \n",
              "0                                       No                            5  \n",
              "1                                      Yes                           10  \n",
              "2                                      Yes                            5  \n",
              "3                                       No                            7  \n",
              "4                                       No                            4  \n",
              "..                                     ...                          ...  \n",
              "184                                     No                            5  \n",
              "185                                     No                            7  \n",
              "186                                    Yes                            8  \n",
              "187                                     No                            6  \n",
              "188                                     No                            5  \n",
              "\n",
              "[189 rows x 68 columns]"
            ]
          },
          "execution_count": 1,
          "metadata": {},
          "output_type": "execute_result"
        }
      ],
      "source": [
        "import pandas as pd\n",
        "import numpy as np\n",
        "df=pd.read_excel(\"F:\\\\Amrita\\\\5th Semester\\\\Machine Learning\\\\Lab\\\\Lab-3\\\\Lab-3.xlsx\")\n",
        "df\n"
      ]
    },
    {
      "cell_type": "code",
      "execution_count": 2,
      "metadata": {},
      "outputs": [
        {
          "name": "stdout",
          "output_type": "stream",
          "text": [
            "The good rate mean :  8.891304347826088\n",
            "The bad rate mean :  5.525773195876289\n",
            "The good rate standard deviation :  0.7725806801702982\n",
            "The bad rate standard deviation :  1.3779768787816422\n",
            "The distance between mean vectors between classes :  3.3655311519497992\n"
          ]
        }
      ],
      "source": [
        "#A1\n",
        "Good_rate=[]\n",
        "Bad_rate=[]\n",
        "for index,row in df.iterrows():\n",
        "    if row['Rate_your_mental_well_being ']>=8:\n",
        "        Good_rate.append(row['Rate_your_mental_well_being '])\n",
        "    elif row['Rate_your_mental_well_being ']<8:\n",
        "        Bad_rate.append(row['Rate_your_mental_well_being '])\n",
        "Good_rate_mean=np.mean(Good_rate)\n",
        "Bad_rate_mean=np.mean(Bad_rate)\n",
        "Good_rate_std=np.std(Good_rate)\n",
        "Bad_rate_std=np.std(Bad_rate)\n",
        "Interclass=np.linalg.norm(Bad_rate_mean-Good_rate_mean)\n",
        "print(\"The good rate mean : \",Good_rate_mean)\n",
        "print(\"The bad rate mean : \",Bad_rate_mean)\n",
        "print(\"The good rate standard deviation : \",Good_rate_std)\n",
        "print(\"The bad rate standard deviation : \",Bad_rate_std)\n",
        "print(\"The distance between mean vectors between classes : \",Interclass)"
      ]
    },
    {
      "cell_type": "code",
      "execution_count": 3,
      "metadata": {},
      "outputs": [
        {
          "data": {
            "image/png": "[encoded data removed]",
            "text/plain": [
              "<Figure size 640x480 with 1 Axes>"
            ]
          },
          "metadata": {},
          "output_type": "display_data"
        }
      ],
      "source": [
        "#A2\n",
        "import matplotlib.pyplot as plt\n",
        "import math\n",
        "plt.hist(df['Rate_your_mental_well_being '],bins=10)\n",
        "plt.show()"
      ]
    },
    {
      "cell_type": "code",
      "execution_count": 53,
      "metadata": {},
      "outputs": [
        {
          "data": {
            "image/png": "[encoded data removed]",
            "text/plain": [
              "<Figure size 640x480 with 1 Axes>"
            ]
          },
          "metadata": {},
          "output_type": "display_data"
        },
        {
          "name": "stderr",
          "output_type": "stream",
          "text": [
            "c:\\Users\\Hitesh\\AppData\\Local\\Programs\\Python\\Python310\\lib\\site-packages\\numpy\\lib\\histograms.py:852: ComplexWarning: Casting complex values to real discards the imaginary part\n",
            "  indices = f_indices.astype(np.intp)\n",
            "c:\\Users\\Hitesh\\AppData\\Local\\Programs\\Python\\Python310\\lib\\site-packages\\matplotlib\\transforms.py:775: ComplexWarning: Casting complex values to real discards the imaginary part\n",
            "  points = np.asarray(points, float)\n"
          ]
        },
        {
          "data": {
            "image/png": "[encoded data removed]",
            "text/plain": [
              "<Figure size 640x480 with 1 Axes>"
            ]
          },
          "metadata": {},
          "output_type": "display_data"
        },
        {
          "data": {
            "image/png": "[encoded data removed]",
            "text/plain": [
              "<Figure size 640x480 with 1 Axes>"
            ]
          },
          "metadata": {},
          "output_type": "display_data"
        },
        {
          "data": {
            "image/png": "[encoded data removed]",
            "text/plain": [
              "<Figure size 640x480 with 1 Axes>"
            ]
          },
          "metadata": {},
          "output_type": "display_data"
        },
        {
          "data": {
            "image/png": "[encoded data removed]",
            "text/plain": [
              "<Figure size 640x480 with 1 Axes>"
            ]
          },
          "metadata": {},
          "output_type": "display_data"
        },
        {
          "data": {
            "image/png": "[encoded data removed]",
            "text/plain": [
              "<Figure size 640x480 with 1 Axes>"
            ]
          },
          "metadata": {},
          "output_type": "display_data"
        },
        {
          "data": {
            "image/png": "[encoded data removed]",
            "text/plain": [
              "<Figure size 640x480 with 1 Axes>"
            ]
          },
          "metadata": {},
          "output_type": "display_data"
        },
        {
          "data": {
            "image/png": "[encoded data removed]",
            "text/plain": [
              "<Figure size 640x480 with 1 Axes>"
            ]
          },
          "metadata": {},
          "output_type": "display_data"
        },
        {
          "data": {
            "image/png": "[encoded data removed]",
            "text/plain": [
              "<Figure size 640x480 with 1 Axes>"
            ]
          },
          "metadata": {},
          "output_type": "display_data"
        },
        {
          "data": {
            "image/png": "[encoded data removed]",
            "text/plain": [
              "<Figure size 640x480 with 1 Axes>"
            ]
          },
          "metadata": {},
          "output_type": "display_data"
        },
        {
          "name": "stdout",
          "output_type": "stream",
          "text": [
            "The Minkowski distance :  [-12805.12, (165.47351724636812+2.4018819724725506e-226j), (82.50095500137807+142.89253750795854j), (165.00000868185978+0j), (133.48780405885864+96.98456658822445j), (165.00000000021254+0j), (148.65986320389842+71.59081695439619j), (165+0j), (155.04928242967483+56.43332364873532j), (165.00000000000006+0j)]\n"
          ]
        }
      ],
      "source": [
        "#A3\n",
        "FD_1=df.iloc[:,4:5]\n",
        "FD_2=df.iloc[:,5:6]\n",
        "FD1_Array=np.array(FD_1)\n",
        "FD2_Array=np.array(FD_2)\n",
        "Distance=0\n",
        "Minkowski_distance=0\n",
        "r=[]\n",
        "for i in range(1,11):\n",
        "    for j in range(0,96):\n",
        "        Distance=(FD1_Array[j]-FD2_Array[j])\n",
        "        Power=math.pow(Distance,i)\n",
        "        Minkowski_distance=Minkowski_distance+Power\n",
        "        Minkowski_distance=pow(Minkowski_distance,1/i)\n",
        "    r.append(Minkowski_distance)\n",
        "    plt.hist(r,bins=10)\n",
        "    plt.show()\n",
        "print(\"The Minkowski distance : \",r)\n"
      ]
    },
    {
      "cell_type": "code",
      "execution_count": 54,
      "metadata": {},
      "outputs": [
        {
          "name": "stdout",
          "output_type": "stream",
          "text": [
            "[[21]\n",
            " [19]\n",
            " [35]\n",
            " [19]\n",
            " [20]\n",
            " [21]\n",
            " [20]\n",
            " [19]\n",
            " [23]\n",
            " [21]\n",
            " [20]\n",
            " [19]\n",
            " [18]\n",
            " [19]\n",
            " [21]\n",
            " [21]\n",
            " [14]\n",
            " [45]\n",
            " [20]\n",
            " [16]\n",
            " [19]\n",
            " [15]\n",
            " [20]\n",
            " [19]\n",
            " [20]\n",
            " [19]\n",
            " [19]\n",
            " [ 9]\n",
            " [19]\n",
            " [ 9]\n",
            " [24]\n",
            " [15]\n",
            " [19]\n",
            " [21]\n",
            " [19]\n",
            " [21]\n",
            " [ 9]\n",
            " [21]\n",
            " [20]\n",
            " [21]\n",
            " [18]\n",
            " [18]\n",
            " [21]\n",
            " [21]\n",
            " [20]\n",
            " [20]\n",
            " [20]\n",
            " [17]\n",
            " [ 6]\n",
            " [19]\n",
            " [20]\n",
            " [21]\n",
            " [20]\n",
            " [22]\n",
            " [19]\n",
            " [21]\n",
            " [19]\n",
            " [21]\n",
            " [21]\n",
            " [20]\n",
            " [19]\n",
            " [19]\n",
            " [20]\n",
            " [19]\n",
            " [41]\n",
            " [22]\n",
            " [21]\n",
            " [24]\n",
            " [20]\n",
            " [19]\n",
            " [20]\n",
            " [11]\n",
            " [19]\n",
            " [19]\n",
            " [33]\n",
            " [19]\n",
            " [44]\n",
            " [20]\n",
            " [14]\n",
            " [18]\n",
            " [20]\n",
            " [19]\n",
            " [19]\n",
            " [18]\n",
            " [20]\n",
            " [20]\n",
            " [19]\n",
            " [22]\n",
            " [40]\n",
            " [20]\n",
            " [20]\n",
            " [18]\n",
            " [23]\n",
            " [21]\n",
            " [36]\n",
            " [40]\n",
            " [12]\n",
            " [16]\n",
            " [20]\n",
            " [22]\n",
            " [20]\n",
            " [23]\n",
            " [50]\n",
            " [18]\n",
            " [19]\n",
            " [19]\n",
            " [44]\n",
            " [19]\n",
            " [19]\n",
            " [20]\n",
            " [21]\n",
            " [21]\n",
            " [19]\n",
            " [19]\n",
            " [20]\n",
            " [19]\n",
            " [21]\n",
            " [18]\n",
            " [19]\n",
            " [15]\n",
            " [19]\n",
            " [19]\n",
            " [19]\n",
            " [11]\n",
            " [21]\n",
            " [23]\n",
            " [19]\n",
            " [19]\n",
            " [21]\n",
            " [20]\n",
            " [19]\n",
            " [19]]\n",
            "[[ 75. ]\n",
            " [ 70. ]\n",
            " [ 57. ]\n",
            " [ 47. ]\n",
            " [ 65. ]\n",
            " [ 72. ]\n",
            " [ 70. ]\n",
            " [ 69. ]\n",
            " [ 76. ]\n",
            " [ 45. ]\n",
            " [ 48. ]\n",
            " [ 75. ]\n",
            " [ 54. ]\n",
            " [ 50. ]\n",
            " [ 85. ]\n",
            " [ 60. ]\n",
            " [ 51. ]\n",
            " [ 67. ]\n",
            " [ 45. ]\n",
            " [ 50. ]\n",
            " [ 54.5]\n",
            " [ 50. ]\n",
            " [ 47. ]\n",
            " [ 58. ]\n",
            " [ 55. ]\n",
            " [ 65. ]\n",
            " [ 55. ]\n",
            " [ 32. ]\n",
            " [ 50. ]\n",
            " [ 28. ]\n",
            " [ 64. ]\n",
            " [ 57. ]\n",
            " [ 98. ]\n",
            " [ 50. ]\n",
            " [ 59. ]\n",
            " [ 65. ]\n",
            " [ 26. ]\n",
            " [ 81. ]\n",
            " [ 76. ]\n",
            " [ 60. ]\n",
            " [ 60. ]\n",
            " [ 61. ]\n",
            " [ 60. ]\n",
            " [ 75. ]\n",
            " [ 56. ]\n",
            " [ 85. ]\n",
            " [ 84. ]\n",
            " [ 58. ]\n",
            " [ 22. ]\n",
            " [ 45. ]\n",
            " [ 85. ]\n",
            " [ 43. ]\n",
            " [ 55. ]\n",
            " [  0. ]\n",
            " [ 68. ]\n",
            " [ 78. ]\n",
            " [ 70. ]\n",
            " [ 56. ]\n",
            " [ 80. ]\n",
            " [ 62. ]\n",
            " [ 58. ]\n",
            " [ 56. ]\n",
            " [ 65. ]\n",
            " [ 74. ]\n",
            " [ 87. ]\n",
            " [ 85. ]\n",
            " [ 65. ]\n",
            " [ 60. ]\n",
            " [ 58. ]\n",
            " [ 60. ]\n",
            " [ 86. ]\n",
            " [ 50. ]\n",
            " [ 58. ]\n",
            " [ 55. ]\n",
            " [ 80. ]\n",
            " [ 62.5]\n",
            " [ 88. ]\n",
            " [ 76. ]\n",
            " [ 50.5]\n",
            " [ 60. ]\n",
            " [ 52. ]\n",
            " [ 48. ]\n",
            " [ 76. ]\n",
            " [ 46. ]\n",
            " [ 75. ]\n",
            " [ 50. ]\n",
            " [ 82. ]\n",
            " [ 70. ]\n",
            " [ 75. ]\n",
            " [ 66. ]\n",
            " [ 82. ]\n",
            " [ 68. ]\n",
            " [ 50. ]\n",
            " [ 56. ]\n",
            " [ 47. ]\n",
            " [ 78. ]\n",
            " [ 55. ]\n",
            " [ 45. ]\n",
            " [ 60. ]\n",
            " [ 64. ]\n",
            " [ 72. ]\n",
            " [ 47. ]\n",
            " [ 80. ]\n",
            " [ 50. ]\n",
            " [ 73. ]\n",
            " [ 61. ]\n",
            " [ 68. ]\n",
            " [ 45. ]\n",
            " [ 50. ]\n",
            " [ 85. ]\n",
            " [ 40. ]\n",
            " [ 63. ]\n",
            " [ 58. ]\n",
            " [ 98. ]\n",
            " [ 95. ]\n",
            " [ 58. ]\n",
            " [ 50. ]\n",
            " [ 55. ]\n",
            " [ 75. ]\n",
            " [ 38. ]\n",
            " [ 50. ]\n",
            " [ 50. ]\n",
            " [ 59. ]\n",
            " [ 34. ]\n",
            " [ 52. ]\n",
            " [110. ]\n",
            " [ 74. ]\n",
            " [ 40. ]\n",
            " [ 68. ]\n",
            " [ 60. ]\n",
            " [ 72. ]\n",
            " [ 65. ]]\n"
          ]
        }
      ],
      "source": [
        "#A4\n",
        "from optparse import Values\n",
        "from sklearn.model_selection import train_test_split\n",
        "X= df.iloc[:, 4:5].values\n",
        "y= df.iloc[:, 6:7].values\n",
        "X_train, X_test, Y_train, Y_test = train_test_split(X,y, test_size=0.3)\n",
        "print(X_train)\n",
        "print(Y_train)\n"
      ]
    },
    {
      "cell_type": "code",
      "execution_count": 55,
      "metadata": {},
      "outputs": [
        {
          "data": {
            "text/plain": [
              "array([45, 20, 23, 19, 20, 20, 19, 19, 19, 19, 20, 20, 19, 19, 19, 19, 20,\n",
              "       19, 19, 20, 18, 20, 20, 19, 21, 20, 19, 20, 20, 17, 20, 19, 20, 21,\n",
              "       50, 19, 20, 23, 18, 20, 19, 19, 20, 20, 19, 20, 22, 20, 23, 19, 21,\n",
              "       26, 18, 19, 19, 20, 20, 20, 23, 18, 35, 19, 21, 19, 25, 21, 19, 21,\n",
              "       19, 22, 18, 20, 21, 21, 19, 19, 18, 20, 21, 14, 19, 19, 19, 24, 20,\n",
              "       21, 19, 20, 21, 19, 21, 21, 19, 16, 14, 21, 18, 19, 22, 20, 19, 18,\n",
              "       19, 19, 20, 21, 18, 21, 21, 23, 19, 21, 15, 20, 21, 20, 37, 11, 20,\n",
              "       41, 20, 19, 19, 20, 21, 20, 20, 21,  9, 20,  7, 44, 18, 21, 19, 20,\n",
              "       20, 19,  6, 19, 34, 20, 19, 42, 21, 18, 10, 22, 21, 21, 21, 22, 19,\n",
              "       44, 23, 15, 21, 21, 19,  9, 40, 12, 19, 24, 24, 19, 18, 11, 44, 41,\n",
              "       19, 15, 19, 19, 19, 19, 19, 20,  9, 15, 33, 15, 40, 21, 36, 16, 37,\n",
              "       19, 14], dtype=int64)"
            ]
          },
          "execution_count": 55,
          "metadata": {},
          "output_type": "execute_result"
        }
      ],
      "source": [
        "X.ravel()\n"
      ]
    },
    {
      "cell_type": "code",
      "execution_count": 56,
      "metadata": {},
      "outputs": [
        {
          "data": {
            "text/plain": [
              "array([ 67. ,  76. ,  47. ,  65. ,  55. ,  66. ,  80. ,  63. ,  45. ,\n",
              "        60. ,  42. ,  65. ,  47. ,  55. ,  45. ,  40. ,  52. ,  74. ,\n",
              "        68. ,  50. ,  62. ,  67. ,  60. ,  48. ,  68. ,  65. ,  59. ,\n",
              "        95. ,  85. ,  58. ,  45. ,  70. ,  85. ,  65. ,  80. ,  75. ,\n",
              "        49. ,  50. ,  46. ,  65. ,  82. ,  61. ,  60. ,  56. ,  50. ,\n",
              "        60. ,  85. ,  48. ,  76. ,  75. ,  63. ,  65. ,  55. ,  58. ,\n",
              "        54.5,  65. ,  84. ,  70. , 110. ,  54. ,  57. ,  62. ,  45. ,\n",
              "        70. ,  55. ,  56. ,  62.5,  50. ,  50. ,  64. ,  52. ,  86. ,\n",
              "        75. ,  55. ,  55. ,  98. ,  61. ,  65. ,  85. ,  51. ,  50. ,\n",
              "        45. ,  50. ,  64. ,  68. ,  60. ,  61. ,  52. ,  60. ,  47. ,\n",
              "        68. ,  75. ,  58. ,  50. ,  45. ,  65. ,  50. ,  64. ,  70. ,\n",
              "        55. ,  65. ,  63. ,  58. ,  76. ,  85. ,  78. ,  60. ,  55. ,\n",
              "        60. ,  85. ,  50. ,  40. ,  57. ,  62. ,  56. ,  76. ,  59. ,\n",
              "        50. ,  82. ,  62. ,  72. ,  68. ,  73. ,  98. ,  80. ,  47. ,\n",
              "        58. ,  65. ,  26. ,  85. ,  24. ,  88. ,  68. ,  54. ,  56. ,\n",
              "        75. ,  48. ,  58. ,  22. ,  59. ,  95. ,  52. ,  70. ,  65. ,\n",
              "        72. ,  60. ,  34. ,  55. ,  43. ,  52. ,  63. ,   0. ,  98. ,\n",
              "        68. ,  64. ,  50. ,  81. ,  50. ,  72. ,  28. ,  78. ,  55. ,\n",
              "        65. ,  43. ,  60. ,   0. ,  90. ,  34. ,  72. ,  87. ,  69. ,\n",
              "        38. ,  60. ,  58. ,  68. ,  45. ,  74. ,  62. ,  32. ,  48. ,\n",
              "        80. ,  45. ,  75. ,  60. ,  47. ,  45. ,  53. ,  50. ,  50.5])"
            ]
          },
          "execution_count": 56,
          "metadata": {},
          "output_type": "execute_result"
        }
      ],
      "source": [
        "y.ravel()\n"
      ]
    },
    {
      "cell_type": "code",
      "execution_count": 49,
      "metadata": {},
      "outputs": [
        {
          "data": {
            "text/plain": [
              "<matplotlib.collections.PathCollection at 0x1d7a230cfd0>"
            ]
          },
          "execution_count": 49,
          "metadata": {},
          "output_type": "execute_result"
        },
        {
          "data": {
            "image/png": "[encoded data removed]",
            "text/plain": [
              "<Figure size 640x480 with 1 Axes>"
            ]
          },
          "metadata": {},
          "output_type": "display_data"
        }
      ],
      "source": [
        "plt.scatter(X_train,Y_train)"
      ]
    },
    {
      "cell_type": "code",
      "execution_count": 50,
      "metadata": {},
      "outputs": [
        {
          "data": {
            "text/plain": [
              "<matplotlib.collections.PathCollection at 0x1d7a268f520>"
            ]
          },
          "execution_count": 50,
          "metadata": {},
          "output_type": "execute_result"
        },
        {
          "data": {
            "image/png": "[encoded data removed]",
            "text/plain": [
              "<Figure size 640x480 with 1 Axes>"
            ]
          },
          "metadata": {},
          "output_type": "display_data"
        }
      ],
      "source": [
        "plt.scatter(X,y)"
      ]
    },
    {
      "cell_type": "code",
      "execution_count": 51,
      "metadata": {},
      "outputs": [
        {
          "data": {
            "text/plain": [
              "<matplotlib.collections.PathCollection at 0x1d7a26f8640>"
            ]
          },
          "execution_count": 51,
          "metadata": {},
          "output_type": "execute_result"
        },
        {
          "data": {
            "image/png": "[encoded data removed]",
            "text/plain": [
              "<Figure size 640x480 with 1 Axes>"
            ]
          },
          "metadata": {},
          "output_type": "display_data"
        }
      ],
      "source": [
        "plt.scatter(X_test,Y_test)"
      ]
    },
    {
      "cell_type": "code",
      "execution_count": 37,
      "metadata": {},
      "outputs": [],
      "source": [
        "from sklearn.neighbors import KNeighborsClassifier\n",
        "knn = KNeighborsClassifier(n_neighbors=3)"
      ]
    },
    {
      "cell_type": "code",
      "execution_count": 44,
      "metadata": {},
      "outputs": [
        {
          "data": {
            "text/plain": [
              "(132, 1)"
            ]
          },
          "execution_count": 44,
          "metadata": {},
          "output_type": "execute_result"
        }
      ],
      "source": [
        "X_train.shape\n",
        "Y_train.shape"
      ]
    },
    {
      "cell_type": "code",
      "execution_count": 48,
      "metadata": {},
      "outputs": [
        {
          "ename": "AttributeError",
          "evalue": "'KNeighborsClassifier' object has no attribute 'n_samples_fit_'",
          "output_type": "error",
          "traceback": [
            "\u001b[1;31m---------------------------------------------------------------------------\u001b[0m",
            "\u001b[1;31mAttributeError\u001b[0m                            Traceback (most recent call last)",
            "\u001b[1;32mf:\\Amrita\\5th Semester\\Machine Learning\\Lab\\Lab-3\\Lab_3_BL.EN.U4CSE20058.ipynb Cell 11\u001b[0m in \u001b[0;36m<cell line: 1>\u001b[1;34m()\u001b[0m\n\u001b[1;32m----> <a href='vscode-notebook-cell:/f%3A/Amrita/5th%20Semester/Machine%20Learning/Lab/Lab-3/Lab_3_BL.EN.U4CSE20058.ipynb#X21sZmlsZQ%3D%3D?line=0'>1</a>\u001b[0m knn\u001b[39m.\u001b[39;49mscore(X,y)\n",
            "File \u001b[1;32mc:\\Users\\Hitesh\\AppData\\Local\\Programs\\Python\\Python310\\lib\\site-packages\\sklearn\\base.py:666\u001b[0m, in \u001b[0;36mClassifierMixin.score\u001b[1;34m(self, X, y, sample_weight)\u001b[0m\n\u001b[0;32m    641\u001b[0m \u001b[39m\"\"\"\u001b[39;00m\n\u001b[0;32m    642\u001b[0m \u001b[39mReturn the mean accuracy on the given test data and labels.\u001b[39;00m\n\u001b[0;32m    643\u001b[0m \n\u001b[1;32m   (...)\u001b[0m\n\u001b[0;32m    662\u001b[0m \u001b[39m    Mean accuracy of ``self.predict(X)`` wrt. `y`.\u001b[39;00m\n\u001b[0;32m    663\u001b[0m \u001b[39m\"\"\"\u001b[39;00m\n\u001b[0;32m    664\u001b[0m \u001b[39mfrom\u001b[39;00m \u001b[39m.\u001b[39;00m\u001b[39mmetrics\u001b[39;00m \u001b[39mimport\u001b[39;00m accuracy_score\n\u001b[1;32m--> 666\u001b[0m \u001b[39mreturn\u001b[39;00m accuracy_score(y, \u001b[39mself\u001b[39;49m\u001b[39m.\u001b[39;49mpredict(X), sample_weight\u001b[39m=\u001b[39msample_weight)\n",
            "File \u001b[1;32mc:\\Users\\Hitesh\\AppData\\Local\\Programs\\Python\\Python310\\lib\\site-packages\\sklearn\\neighbors\\_classification.py:226\u001b[0m, in \u001b[0;36mKNeighborsClassifier.predict\u001b[1;34m(self, X)\u001b[0m\n\u001b[0;32m    210\u001b[0m \u001b[39m\"\"\"Predict the class labels for the provided data.\u001b[39;00m\n\u001b[0;32m    211\u001b[0m \n\u001b[0;32m    212\u001b[0m \u001b[39mParameters\u001b[39;00m\n\u001b[1;32m   (...)\u001b[0m\n\u001b[0;32m    221\u001b[0m \u001b[39m    Class labels for each data sample.\u001b[39;00m\n\u001b[0;32m    222\u001b[0m \u001b[39m\"\"\"\u001b[39;00m\n\u001b[0;32m    223\u001b[0m \u001b[39mif\u001b[39;00m \u001b[39mself\u001b[39m\u001b[39m.\u001b[39mweights \u001b[39m==\u001b[39m \u001b[39m\"\u001b[39m\u001b[39muniform\u001b[39m\u001b[39m\"\u001b[39m:\n\u001b[0;32m    224\u001b[0m     \u001b[39m# In that case, we do not need the distances to perform\u001b[39;00m\n\u001b[0;32m    225\u001b[0m     \u001b[39m# the weighting so we do not compute them.\u001b[39;00m\n\u001b[1;32m--> 226\u001b[0m     neigh_ind \u001b[39m=\u001b[39m \u001b[39mself\u001b[39;49m\u001b[39m.\u001b[39;49mkneighbors(X, return_distance\u001b[39m=\u001b[39;49m\u001b[39mFalse\u001b[39;49;00m)\n\u001b[0;32m    227\u001b[0m     neigh_dist \u001b[39m=\u001b[39m \u001b[39mNone\u001b[39;00m\n\u001b[0;32m    228\u001b[0m \u001b[39melse\u001b[39;00m:\n",
            "File \u001b[1;32mc:\\Users\\Hitesh\\AppData\\Local\\Programs\\Python\\Python310\\lib\\site-packages\\sklearn\\neighbors\\_base.py:747\u001b[0m, in \u001b[0;36mKNeighborsMixin.kneighbors\u001b[1;34m(self, X, n_neighbors, return_distance)\u001b[0m\n\u001b[0;32m    744\u001b[0m     \u001b[39melse\u001b[39;00m:\n\u001b[0;32m    745\u001b[0m         X \u001b[39m=\u001b[39m \u001b[39mself\u001b[39m\u001b[39m.\u001b[39m_validate_data(X, accept_sparse\u001b[39m=\u001b[39m\u001b[39m\"\u001b[39m\u001b[39mcsr\u001b[39m\u001b[39m\"\u001b[39m, reset\u001b[39m=\u001b[39m\u001b[39mFalse\u001b[39;00m, order\u001b[39m=\u001b[39m\u001b[39m\"\u001b[39m\u001b[39mC\u001b[39m\u001b[39m\"\u001b[39m)\n\u001b[1;32m--> 747\u001b[0m n_samples_fit \u001b[39m=\u001b[39m \u001b[39mself\u001b[39;49m\u001b[39m.\u001b[39;49mn_samples_fit_\n\u001b[0;32m    748\u001b[0m \u001b[39mif\u001b[39;00m n_neighbors \u001b[39m>\u001b[39m n_samples_fit:\n\u001b[0;32m    749\u001b[0m     \u001b[39mraise\u001b[39;00m \u001b[39mValueError\u001b[39;00m(\n\u001b[0;32m    750\u001b[0m         \u001b[39m\"\u001b[39m\u001b[39mExpected n_neighbors <= n_samples, \u001b[39m\u001b[39m\"\u001b[39m\n\u001b[0;32m    751\u001b[0m         \u001b[39m\"\u001b[39m\u001b[39m but n_samples = \u001b[39m\u001b[39m%d\u001b[39;00m\u001b[39m, n_neighbors = \u001b[39m\u001b[39m%d\u001b[39;00m\u001b[39m\"\u001b[39m \u001b[39m%\u001b[39m (n_samples_fit, n_neighbors)\n\u001b[0;32m    752\u001b[0m     )\n",
            "\u001b[1;31mAttributeError\u001b[0m: 'KNeighborsClassifier' object has no attribute 'n_samples_fit_'"
          ]
        }
      ],
      "source": [
        "knn.score(X,y)"
      ]
    },
    {
      "cell_type": "code",
      "execution_count": 45,
      "metadata": {},
      "outputs": [
        {
          "name": "stderr",
          "output_type": "stream",
          "text": [
            "c:\\Users\\Hitesh\\AppData\\Local\\Programs\\Python\\Python310\\lib\\site-packages\\sklearn\\neighbors\\_classification.py:207: DataConversionWarning: A column-vector y was passed when a 1d array was expected. Please change the shape of y to (n_samples,), for example using ravel().\n",
            "  return self._fit(X, y)\n"
          ]
        },
        {
          "ename": "ValueError",
          "evalue": "Unknown label type: 'continuous'",
          "output_type": "error",
          "traceback": [
            "\u001b[1;31m---------------------------------------------------------------------------\u001b[0m",
            "\u001b[1;31mValueError\u001b[0m                                Traceback (most recent call last)",
            "\u001b[1;32mf:\\Amrita\\5th Semester\\Machine Learning\\Lab\\Lab-3\\Lab_3_BL.EN.U4CSE20058.ipynb Cell 11\u001b[0m in \u001b[0;36m<cell line: 4>\u001b[1;34m()\u001b[0m\n\u001b[0;32m      <a href='vscode-notebook-cell:/f%3A/Amrita/5th%20Semester/Machine%20Learning/Lab/Lab-3/Lab_3_BL.EN.U4CSE20058.ipynb#W6sZmlsZQ%3D%3D?line=1'>2</a>\u001b[0m \u001b[39mfrom\u001b[39;00m \u001b[39msklearn\u001b[39;00m\u001b[39m.\u001b[39;00m\u001b[39mneighbors\u001b[39;00m \u001b[39mimport\u001b[39;00m KNeighborsClassifier\n\u001b[0;32m      <a href='vscode-notebook-cell:/f%3A/Amrita/5th%20Semester/Machine%20Learning/Lab/Lab-3/Lab_3_BL.EN.U4CSE20058.ipynb#W6sZmlsZQ%3D%3D?line=2'>3</a>\u001b[0m knn \u001b[39m=\u001b[39m KNeighborsClassifier(n_neighbors\u001b[39m=\u001b[39m\u001b[39m3\u001b[39m)\n\u001b[1;32m----> <a href='vscode-notebook-cell:/f%3A/Amrita/5th%20Semester/Machine%20Learning/Lab/Lab-3/Lab_3_BL.EN.U4CSE20058.ipynb#W6sZmlsZQ%3D%3D?line=3'>4</a>\u001b[0m knn\u001b[39m.\u001b[39;49mfit(X_train,Y_train)\n\u001b[0;32m      <a href='vscode-notebook-cell:/f%3A/Amrita/5th%20Semester/Machine%20Learning/Lab/Lab-3/Lab_3_BL.EN.U4CSE20058.ipynb#W6sZmlsZQ%3D%3D?line=4'>5</a>\u001b[0m \u001b[39mprint\u001b[39m(knn\u001b[39m.\u001b[39mpredict(X))\n\u001b[0;32m      <a href='vscode-notebook-cell:/f%3A/Amrita/5th%20Semester/Machine%20Learning/Lab/Lab-3/Lab_3_BL.EN.U4CSE20058.ipynb#W6sZmlsZQ%3D%3D?line=5'>6</a>\u001b[0m \u001b[39m#plt.scatter(X,y)\u001b[39;00m\n",
            "File \u001b[1;32mc:\\Users\\Hitesh\\AppData\\Local\\Programs\\Python\\Python310\\lib\\site-packages\\sklearn\\neighbors\\_classification.py:207\u001b[0m, in \u001b[0;36mKNeighborsClassifier.fit\u001b[1;34m(self, X, y)\u001b[0m\n\u001b[0;32m    188\u001b[0m \u001b[39m\"\"\"Fit the k-nearest neighbors classifier from the training dataset.\u001b[39;00m\n\u001b[0;32m    189\u001b[0m \n\u001b[0;32m    190\u001b[0m \u001b[39mParameters\u001b[39;00m\n\u001b[1;32m   (...)\u001b[0m\n\u001b[0;32m    203\u001b[0m \u001b[39m    The fitted k-nearest neighbors classifier.\u001b[39;00m\n\u001b[0;32m    204\u001b[0m \u001b[39m\"\"\"\u001b[39;00m\n\u001b[0;32m    205\u001b[0m \u001b[39mself\u001b[39m\u001b[39m.\u001b[39mweights \u001b[39m=\u001b[39m _check_weights(\u001b[39mself\u001b[39m\u001b[39m.\u001b[39mweights)\n\u001b[1;32m--> 207\u001b[0m \u001b[39mreturn\u001b[39;00m \u001b[39mself\u001b[39;49m\u001b[39m.\u001b[39;49m_fit(X, y)\n",
            "File \u001b[1;32mc:\\Users\\Hitesh\\AppData\\Local\\Programs\\Python\\Python310\\lib\\site-packages\\sklearn\\neighbors\\_base.py:429\u001b[0m, in \u001b[0;36mNeighborsBase._fit\u001b[1;34m(self, X, y)\u001b[0m\n\u001b[0;32m    426\u001b[0m \u001b[39melse\u001b[39;00m:\n\u001b[0;32m    427\u001b[0m     \u001b[39mself\u001b[39m\u001b[39m.\u001b[39moutputs_2d_ \u001b[39m=\u001b[39m \u001b[39mTrue\u001b[39;00m\n\u001b[1;32m--> 429\u001b[0m check_classification_targets(y)\n\u001b[0;32m    430\u001b[0m \u001b[39mself\u001b[39m\u001b[39m.\u001b[39mclasses_ \u001b[39m=\u001b[39m []\n\u001b[0;32m    431\u001b[0m \u001b[39mself\u001b[39m\u001b[39m.\u001b[39m_y \u001b[39m=\u001b[39m np\u001b[39m.\u001b[39mempty(y\u001b[39m.\u001b[39mshape, dtype\u001b[39m=\u001b[39m\u001b[39mint\u001b[39m)\n",
            "File \u001b[1;32mc:\\Users\\Hitesh\\AppData\\Local\\Programs\\Python\\Python310\\lib\\site-packages\\sklearn\\utils\\multiclass.py:200\u001b[0m, in \u001b[0;36mcheck_classification_targets\u001b[1;34m(y)\u001b[0m\n\u001b[0;32m    192\u001b[0m y_type \u001b[39m=\u001b[39m type_of_target(y, input_name\u001b[39m=\u001b[39m\u001b[39m\"\u001b[39m\u001b[39my\u001b[39m\u001b[39m\"\u001b[39m)\n\u001b[0;32m    193\u001b[0m \u001b[39mif\u001b[39;00m y_type \u001b[39mnot\u001b[39;00m \u001b[39min\u001b[39;00m [\n\u001b[0;32m    194\u001b[0m     \u001b[39m\"\u001b[39m\u001b[39mbinary\u001b[39m\u001b[39m\"\u001b[39m,\n\u001b[0;32m    195\u001b[0m     \u001b[39m\"\u001b[39m\u001b[39mmulticlass\u001b[39m\u001b[39m\"\u001b[39m,\n\u001b[1;32m   (...)\u001b[0m\n\u001b[0;32m    198\u001b[0m     \u001b[39m\"\u001b[39m\u001b[39mmultilabel-sequences\u001b[39m\u001b[39m\"\u001b[39m,\n\u001b[0;32m    199\u001b[0m ]:\n\u001b[1;32m--> 200\u001b[0m     \u001b[39mraise\u001b[39;00m \u001b[39mValueError\u001b[39;00m(\u001b[39m\"\u001b[39m\u001b[39mUnknown label type: \u001b[39m\u001b[39m%r\u001b[39;00m\u001b[39m\"\u001b[39m \u001b[39m%\u001b[39m y_type)\n",
            "\u001b[1;31mValueError\u001b[0m: Unknown label type: 'continuous'"
          ]
        }
      ],
      "source": [
        "#A5\n",
        "from sklearn.neighbors import KNeighborsClassifier\n",
        "knn = KNeighborsClassifier(n_neighbors=3)\n",
        "knn.fit(X_train,Y_train)\n",
        "print(knn.predict(X))\n",
        "#plt.scatter(X,y)\n",
        "knn.predict()\n",
        "#plt.show()"
      ]
    },
    {
      "cell_type": "code",
      "execution_count": 41,
      "metadata": {},
      "outputs": [
        {
          "data": {
            "text/plain": [
              "(132, 1)"
            ]
          },
          "execution_count": 41,
          "metadata": {},
          "output_type": "execute_result"
        }
      ],
      "source": [
        "X_train.shape"
      ]
    },
    {
      "cell_type": "code",
      "execution_count": 42,
      "metadata": {},
      "outputs": [
        {
          "data": {
            "text/plain": [
              "(132, 1)"
            ]
          },
          "execution_count": 42,
          "metadata": {},
          "output_type": "execute_result"
        }
      ],
      "source": [
        "Y_train.shape"
      ]
    },
    {
      "cell_type": "code",
      "execution_count": null,
      "metadata": {},
      "outputs": [],
      "source": []
    }
  ],
  "metadata": {
    "kernelspec": {
      "display_name": "Python 3.10.2 64-bit",
      "language": "python",
      "name": "python3"
    },
    "language_info": {
      "codemirror_mode": {
        "name": "ipython",
        "version": 3
      },
      "file_extension": ".py",
      "mimetype": "text/x-python",
      "name": "python",
      "nbconvert_exporter": "python",
      "pygments_lexer": "ipython3",
      "version": "3.10.2 (tags/v3.10.2:a58ebcc, Jan 17 2022, 14:12:15) [MSC v.1929 64 bit (AMD64)]"
    },
    "nteract": {
      "version": "nteract-front-end@1.0.0"
    },
    "orig_nbformat": 4,
    "vscode": {
      "interpreter": {
        "hash": "070028ba1342e166cb73fb497b35572113484a2ef1bea3a29a8945b00241d4de"
      }
    }
  },
  "nbformat": 4,
  "nbformat_minor": 2
}

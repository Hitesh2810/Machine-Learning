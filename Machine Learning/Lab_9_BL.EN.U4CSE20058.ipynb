{
 "cells": [
  {
   "cell_type": "code",
   "execution_count": 2,
   "metadata": {},
   "outputs": [],
   "source": [
    "import  pandas as pd\n",
    "import matplotlib.pyplot as plt\n",
    "import seaborn as sns \n",
    "import numpy as np\n",
    "from sklearn.model_selection import train_test_split\n",
    "from sklearn import linear_model\n",
    "from sklearn.linear_model import LogisticRegression\n",
    "from sklearn.metrics import mean_squared_error, r2_score\n",
    "import time"
   ]
  },
  {
   "cell_type": "code",
   "execution_count": 3,
   "metadata": {},
   "outputs": [
    {
     "data": {
      "text/html": [
       "<div>\n",
       "<style scoped>\n",
       "    .dataframe tbody tr th:only-of-type {\n",
       "        vertical-align: middle;\n",
       "    }\n",
       "\n",
       "    .dataframe tbody tr th {\n",
       "        vertical-align: top;\n",
       "    }\n",
       "\n",
       "    .dataframe thead th {\n",
       "        text-align: right;\n",
       "    }\n",
       "</style>\n",
       "<table border=\"1\" class=\"dataframe\">\n",
       "  <thead>\n",
       "    <tr style=\"text-align: right;\">\n",
       "      <th></th>\n",
       "      <th>BMI</th>\n",
       "      <th>4. Age (in years)</th>\n",
       "      <th>5. Height (in cms)</th>\n",
       "      <th>6. Weight (in kgs)</th>\n",
       "      <th>Financial insecurity faced due to lockdown</th>\n",
       "      <th>Is not being able to hangout and meet your friends and classmates in any way affecting your mental health?</th>\n",
       "      <th>quarantine impact</th>\n",
       "      <th>When did you have more free time?</th>\n",
       "      <th>How many days in a week do you practice meditation?</th>\n",
       "      <th>19. Out of the following, choose 5 tools which you use most often these days.</th>\n",
       "      <th>happy with online classes</th>\n",
       "      <th>How would you rate your mental well being ?</th>\n",
       "      <th>mentalh_level</th>\n",
       "      <th>to</th>\n",
       "    </tr>\n",
       "  </thead>\n",
       "  <tbody>\n",
       "    <tr>\n",
       "      <th>0</th>\n",
       "      <td>27.887617</td>\n",
       "      <td>45</td>\n",
       "      <td>155.0</td>\n",
       "      <td>67.0</td>\n",
       "      <td>6</td>\n",
       "      <td>1</td>\n",
       "      <td>1</td>\n",
       "      <td>0</td>\n",
       "      <td>1</td>\n",
       "      <td>11</td>\n",
       "      <td>0</td>\n",
       "      <td>5</td>\n",
       "      <td>Bad</td>\n",
       "      <td>0.002789</td>\n",
       "    </tr>\n",
       "    <tr>\n",
       "      <th>1</th>\n",
       "      <td>26.609713</td>\n",
       "      <td>20</td>\n",
       "      <td>169.0</td>\n",
       "      <td>76.0</td>\n",
       "      <td>1</td>\n",
       "      <td>1</td>\n",
       "      <td>1</td>\n",
       "      <td>0</td>\n",
       "      <td>0</td>\n",
       "      <td>11</td>\n",
       "      <td>1</td>\n",
       "      <td>10</td>\n",
       "      <td>Good</td>\n",
       "      <td>0.002661</td>\n",
       "    </tr>\n",
       "    <tr>\n",
       "      <th>2</th>\n",
       "      <td>20.613131</td>\n",
       "      <td>23</td>\n",
       "      <td>151.0</td>\n",
       "      <td>47.0</td>\n",
       "      <td>3</td>\n",
       "      <td>1</td>\n",
       "      <td>1</td>\n",
       "      <td>2</td>\n",
       "      <td>0</td>\n",
       "      <td>11</td>\n",
       "      <td>1</td>\n",
       "      <td>5</td>\n",
       "      <td>Bad</td>\n",
       "      <td>0.002061</td>\n",
       "    </tr>\n",
       "    <tr>\n",
       "      <th>3</th>\n",
       "      <td>21.224490</td>\n",
       "      <td>19</td>\n",
       "      <td>175.0</td>\n",
       "      <td>65.0</td>\n",
       "      <td>2</td>\n",
       "      <td>1</td>\n",
       "      <td>0</td>\n",
       "      <td>2</td>\n",
       "      <td>0</td>\n",
       "      <td>12</td>\n",
       "      <td>0</td>\n",
       "      <td>7</td>\n",
       "      <td>Good</td>\n",
       "      <td>0.002122</td>\n",
       "    </tr>\n",
       "    <tr>\n",
       "      <th>4</th>\n",
       "      <td>17.959184</td>\n",
       "      <td>20</td>\n",
       "      <td>175.0</td>\n",
       "      <td>55.0</td>\n",
       "      <td>8</td>\n",
       "      <td>1</td>\n",
       "      <td>0</td>\n",
       "      <td>0</td>\n",
       "      <td>0</td>\n",
       "      <td>17</td>\n",
       "      <td>0</td>\n",
       "      <td>4</td>\n",
       "      <td>Bad</td>\n",
       "      <td>0.001796</td>\n",
       "    </tr>\n",
       "  </tbody>\n",
       "</table>\n",
       "</div>"
      ],
      "text/plain": [
       "         BMI  4. Age (in years)  5. Height (in cms)  6. Weight (in kgs)  \\\n",
       "0  27.887617                 45               155.0                67.0   \n",
       "1  26.609713                 20               169.0                76.0   \n",
       "2  20.613131                 23               151.0                47.0   \n",
       "3  21.224490                 19               175.0                65.0   \n",
       "4  17.959184                 20               175.0                55.0   \n",
       "\n",
       "    Financial insecurity faced due to lockdown  \\\n",
       "0                                            6   \n",
       "1                                            1   \n",
       "2                                            3   \n",
       "3                                            2   \n",
       "4                                            8   \n",
       "\n",
       "   Is not being able to hangout and meet your friends and classmates in any way affecting your mental health?  \\\n",
       "0                                                  1                                                            \n",
       "1                                                  1                                                            \n",
       "2                                                  1                                                            \n",
       "3                                                  1                                                            \n",
       "4                                                  1                                                            \n",
       "\n",
       "   quarantine impact  When did you have more free time?  \\\n",
       "0                  1                                  0   \n",
       "1                  1                                  0   \n",
       "2                  1                                  2   \n",
       "3                  0                                  2   \n",
       "4                  0                                  0   \n",
       "\n",
       "    How many days in a week do you practice meditation?  \\\n",
       "0                                                  1      \n",
       "1                                                  0      \n",
       "2                                                  0      \n",
       "3                                                  0      \n",
       "4                                                  0      \n",
       "\n",
       "   19. Out of the following, choose 5 tools which you use most often these days.  \\\n",
       "0                                                 11                               \n",
       "1                                                 11                               \n",
       "2                                                 11                               \n",
       "3                                                 12                               \n",
       "4                                                 17                               \n",
       "\n",
       "   happy with online classes  How would you rate your mental well being ?  \\\n",
       "0                          0                                            5   \n",
       "1                          1                                           10   \n",
       "2                          1                                            5   \n",
       "3                          0                                            7   \n",
       "4                          0                                            4   \n",
       "\n",
       "  mentalh_level        to  \n",
       "0           Bad  0.002789  \n",
       "1          Good  0.002661  \n",
       "2           Bad  0.002061  \n",
       "3          Good  0.002122  \n",
       "4           Bad  0.001796  "
      ]
     },
     "execution_count": 3,
     "metadata": {},
     "output_type": "execute_result"
    }
   ],
   "source": [
    "dataframe = pd.read_csv('C:\\\\Users\\\\Hitesh\\\\Downloads\\\\lab3.csv',nrows = 100)\n",
    "dataframe.head()"
   ]
  },
  {
   "attachments": {},
   "cell_type": "markdown",
   "metadata": {},
   "source": [
    "A1"
   ]
  },
  {
   "cell_type": "code",
   "execution_count": 4,
   "metadata": {},
   "outputs": [
    {
     "data": {
      "text/plain": [
       "<matplotlib.collections.PathCollection at 0x1c00c2995a0>"
      ]
     },
     "execution_count": 4,
     "metadata": {},
     "output_type": "execute_result"
    },
    {
     "data": {
      "image/png": "[encoded data removed]",
      "text/plain": [
       "<Figure size 640x480 with 1 Axes>"
      ]
     },
     "metadata": {},
     "output_type": "display_data"
    }
   ],
   "source": [
    "X=dataframe['4. Age (in years)']\n",
    "Y=dataframe['5. Height (in cms)']\n",
    "plt.scatter(X,Y)"
   ]
  },
  {
   "cell_type": "code",
   "execution_count": 27,
   "metadata": {},
   "outputs": [],
   "source": [
    "F_datafram=dataframe[['5. Height (in cms)']]\n",
    "X=np.asarray(F_datafram)\n",
    "y=np.asarray(dataframe['6. Weight (in kgs)'])\n",
    "X_train, X_test,y_train,y_test=train_test_split(X,y,test_size=0.2,random_state=4)"
   ]
  },
  {
   "attachments": {},
   "cell_type": "markdown",
   "metadata": {},
   "source": [
    "A2\n"
   ]
  },
  {
   "cell_type": "code",
   "execution_count": 6,
   "metadata": {},
   "outputs": [
    {
     "name": "stdout",
     "output_type": "stream",
     "text": [
      "The time taken to get the score of linear regression :  0.01604485511779785\n",
      "[64. 62. 62. 62. 64. 62. 65. 64. 64. 63. 63. 62. 65. 63. 65. 62. 62. 64.\n",
      " 64. 64.]\n",
      "The mean aquare error :  11062.537\n"
     ]
    },
    {
     "data": {
      "text/plain": [
       "<matplotlib.collections.PathCollection at 0x1c00e414d90>"
      ]
     },
     "execution_count": 6,
     "metadata": {},
     "output_type": "execute_result"
    },
    {
     "data": {
      "image/png": "[encoded data removed]",
      "text/plain": [
       "<Figure size 640x480 with 1 Axes>"
      ]
     },
     "metadata": {},
     "output_type": "display_data"
    }
   ],
   "source": [
    "#2\n",
    "start=time.time()\n",
    "reg = linear_model.LinearRegression()\n",
    "reg.fit(X_train,y_train)\n",
    "stop=time.time()\n",
    "print(\"The time taken to get the score of linear regression : \",stop-start)\n",
    "prediction = reg.predict(X_test)\n",
    "prediction = prediction.tolist()\n",
    "for i in prediction:\n",
    "    k = np.round(prediction)\n",
    "print(k)\n",
    "print(\"The mean aquare error : \",round(mean_squared_error(X_train,y_train),3))\n",
    "plt.scatter(X_train,y_train)"
   ]
  },
  {
   "attachments": {},
   "cell_type": "markdown",
   "metadata": {},
   "source": [
    "A3"
   ]
  },
  {
   "cell_type": "code",
   "execution_count": 7,
   "metadata": {},
   "outputs": [
    {
     "name": "stdout",
     "output_type": "stream",
     "text": [
      "The accuracy of linear regressor :  0.022405348953346782\n",
      "The intercept of the data :  46.68212307058139\n",
      "The coefficient of the data :  [0.10003614]\n"
     ]
    }
   ],
   "source": [
    "#3\n",
    "print(\"The accuracy of linear regressor : \",reg.score(X_train, y_train))\n",
    "print(\"The intercept of the data : \",reg.intercept_)  \n",
    "print(\"The coefficient of the data : \",reg.coef_) "
   ]
  },
  {
   "attachments": {},
   "cell_type": "markdown",
   "metadata": {},
   "source": [
    "A4"
   ]
  },
  {
   "cell_type": "code",
   "execution_count": 8,
   "metadata": {},
   "outputs": [
    {
     "data": {
      "text/html": [
       "<div>\n",
       "<style scoped>\n",
       "    .dataframe tbody tr th:only-of-type {\n",
       "        vertical-align: middle;\n",
       "    }\n",
       "\n",
       "    .dataframe tbody tr th {\n",
       "        vertical-align: top;\n",
       "    }\n",
       "\n",
       "    .dataframe thead th {\n",
       "        text-align: right;\n",
       "    }\n",
       "</style>\n",
       "<table border=\"1\" class=\"dataframe\">\n",
       "  <thead>\n",
       "    <tr style=\"text-align: right;\">\n",
       "      <th></th>\n",
       "      <th>BMI</th>\n",
       "      <th>4. Age (in years)</th>\n",
       "      <th>5. Height (in cms)</th>\n",
       "      <th>6. Weight (in kgs)</th>\n",
       "      <th>Financial insecurity faced due to lockdown</th>\n",
       "      <th>Is not being able to hangout and meet your friends and classmates in any way affecting your mental health?</th>\n",
       "      <th>quarantine impact</th>\n",
       "      <th>When did you have more free time?</th>\n",
       "      <th>How many days in a week do you practice meditation?</th>\n",
       "      <th>19. Out of the following, choose 5 tools which you use most often these days.</th>\n",
       "      <th>happy with online classes</th>\n",
       "      <th>How would you rate your mental well being ?</th>\n",
       "      <th>mentalh_level</th>\n",
       "      <th>to</th>\n",
       "    </tr>\n",
       "  </thead>\n",
       "  <tbody>\n",
       "    <tr>\n",
       "      <th>0</th>\n",
       "      <td>27.887617</td>\n",
       "      <td>45</td>\n",
       "      <td>155.0</td>\n",
       "      <td>67.0</td>\n",
       "      <td>6</td>\n",
       "      <td>1</td>\n",
       "      <td>1</td>\n",
       "      <td>0</td>\n",
       "      <td>1</td>\n",
       "      <td>11</td>\n",
       "      <td>0</td>\n",
       "      <td>5</td>\n",
       "      <td>0</td>\n",
       "      <td>0.002789</td>\n",
       "    </tr>\n",
       "    <tr>\n",
       "      <th>1</th>\n",
       "      <td>26.609713</td>\n",
       "      <td>20</td>\n",
       "      <td>169.0</td>\n",
       "      <td>76.0</td>\n",
       "      <td>1</td>\n",
       "      <td>1</td>\n",
       "      <td>1</td>\n",
       "      <td>0</td>\n",
       "      <td>0</td>\n",
       "      <td>11</td>\n",
       "      <td>1</td>\n",
       "      <td>10</td>\n",
       "      <td>1</td>\n",
       "      <td>0.002661</td>\n",
       "    </tr>\n",
       "    <tr>\n",
       "      <th>2</th>\n",
       "      <td>20.613131</td>\n",
       "      <td>23</td>\n",
       "      <td>151.0</td>\n",
       "      <td>47.0</td>\n",
       "      <td>3</td>\n",
       "      <td>1</td>\n",
       "      <td>1</td>\n",
       "      <td>2</td>\n",
       "      <td>0</td>\n",
       "      <td>11</td>\n",
       "      <td>1</td>\n",
       "      <td>5</td>\n",
       "      <td>0</td>\n",
       "      <td>0.002061</td>\n",
       "    </tr>\n",
       "    <tr>\n",
       "      <th>3</th>\n",
       "      <td>21.224490</td>\n",
       "      <td>19</td>\n",
       "      <td>175.0</td>\n",
       "      <td>65.0</td>\n",
       "      <td>2</td>\n",
       "      <td>1</td>\n",
       "      <td>0</td>\n",
       "      <td>2</td>\n",
       "      <td>0</td>\n",
       "      <td>12</td>\n",
       "      <td>0</td>\n",
       "      <td>7</td>\n",
       "      <td>1</td>\n",
       "      <td>0.002122</td>\n",
       "    </tr>\n",
       "    <tr>\n",
       "      <th>4</th>\n",
       "      <td>17.959184</td>\n",
       "      <td>20</td>\n",
       "      <td>175.0</td>\n",
       "      <td>55.0</td>\n",
       "      <td>8</td>\n",
       "      <td>1</td>\n",
       "      <td>0</td>\n",
       "      <td>0</td>\n",
       "      <td>0</td>\n",
       "      <td>17</td>\n",
       "      <td>0</td>\n",
       "      <td>4</td>\n",
       "      <td>0</td>\n",
       "      <td>0.001796</td>\n",
       "    </tr>\n",
       "  </tbody>\n",
       "</table>\n",
       "</div>"
      ],
      "text/plain": [
       "         BMI  4. Age (in years)  5. Height (in cms)  6. Weight (in kgs)  \\\n",
       "0  27.887617                 45               155.0                67.0   \n",
       "1  26.609713                 20               169.0                76.0   \n",
       "2  20.613131                 23               151.0                47.0   \n",
       "3  21.224490                 19               175.0                65.0   \n",
       "4  17.959184                 20               175.0                55.0   \n",
       "\n",
       "    Financial insecurity faced due to lockdown  \\\n",
       "0                                            6   \n",
       "1                                            1   \n",
       "2                                            3   \n",
       "3                                            2   \n",
       "4                                            8   \n",
       "\n",
       "   Is not being able to hangout and meet your friends and classmates in any way affecting your mental health?  \\\n",
       "0                                                  1                                                            \n",
       "1                                                  1                                                            \n",
       "2                                                  1                                                            \n",
       "3                                                  1                                                            \n",
       "4                                                  1                                                            \n",
       "\n",
       "   quarantine impact  When did you have more free time?  \\\n",
       "0                  1                                  0   \n",
       "1                  1                                  0   \n",
       "2                  1                                  2   \n",
       "3                  0                                  2   \n",
       "4                  0                                  0   \n",
       "\n",
       "    How many days in a week do you practice meditation?  \\\n",
       "0                                                  1      \n",
       "1                                                  0      \n",
       "2                                                  0      \n",
       "3                                                  0      \n",
       "4                                                  0      \n",
       "\n",
       "   19. Out of the following, choose 5 tools which you use most often these days.  \\\n",
       "0                                                 11                               \n",
       "1                                                 11                               \n",
       "2                                                 11                               \n",
       "3                                                 12                               \n",
       "4                                                 17                               \n",
       "\n",
       "   happy with online classes  How would you rate your mental well being ?  \\\n",
       "0                          0                                            5   \n",
       "1                          1                                           10   \n",
       "2                          1                                            5   \n",
       "3                          0                                            7   \n",
       "4                          0                                            4   \n",
       "\n",
       "   mentalh_level        to  \n",
       "0              0  0.002789  \n",
       "1              1  0.002661  \n",
       "2              0  0.002061  \n",
       "3              1  0.002122  \n",
       "4              0  0.001796  "
      ]
     },
     "execution_count": 8,
     "metadata": {},
     "output_type": "execute_result"
    }
   ],
   "source": [
    "from sklearn import preprocessing\n",
    "l_b=preprocessing.LabelEncoder()\n",
    "dataframe['mentalh_level']=l_b.fit_transform(dataframe['mentalh_level'])\n",
    "dataframe.head()"
   ]
  },
  {
   "cell_type": "code",
   "execution_count": 9,
   "metadata": {},
   "outputs": [],
   "source": [
    "F_datafram=dataframe[['5. Height (in cms)']]\n",
    "X=np.asarray(F_datafram)\n",
    "y=np.asarray(dataframe['mentalh_level'])\n",
    "X_train, X_test,y_train,y_test=train_test_split(X,y,test_size=0.2,random_state=4)"
   ]
  },
  {
   "cell_type": "code",
   "execution_count": 10,
   "metadata": {},
   "outputs": [
    {
     "name": "stdout",
     "output_type": "stream",
     "text": [
      "The time taken to get the score of logistic regression :  0.040215253829956055\n",
      "The accuracy of logistic regression :  0.7625\n"
     ]
    }
   ],
   "source": [
    "from sklearn.linear_model import LogisticRegression\n",
    "start=time.time()\n",
    "log=LogisticRegression()\n",
    "log.fit(X_train,y_train)\n",
    "stop=time.time()\n",
    "print(\"The time taken to get the score of logistic regression : \",stop-start)\n",
    "print(\"The accuracy of logistic regression : \",log.score(X_train,y_train))"
   ]
  },
  {
   "attachments": {},
   "cell_type": "markdown",
   "metadata": {},
   "source": [
    "A5"
   ]
  },
  {
   "cell_type": "code",
   "execution_count": 11,
   "metadata": {},
   "outputs": [
    {
     "name": "stdout",
     "output_type": "stream",
     "text": [
      "The accuracy KNN regressor :  0.15466666666666673\n",
      "The prdiction made for regression tree : \n",
      " [1.  0.6 0.8 0.4 0.4 1.  0.4 0.6 0.4 0.6 0.6 0.8 1.  0.8 0.4 0.6 1.  1.\n",
      " 1.  0.8 0.8 0.4 0.4 0.6 0.4 0.4 0.6 0.6 0.8 1.  0.6 0.4 1.  0.8 0.4 0.8\n",
      " 0.4 0.8 1.  0.6 0.4 0.6 1.  0.4 1.  1.  1.  0.6 0.4 0.4 0.8 0.6 0.6 0.8\n",
      " 0.6 1.  1.  0.4 1.  0.8 1.  0.6 0.6 0.6 0.4 1.  0.8 1.  1.  1.  0.8 0.8\n",
      " 1.  0.6 0.8 0.6 0.6 0.6 0.8 1. ]\n"
     ]
    }
   ],
   "source": [
    "from sklearn.neighbors import KNeighborsRegressor\n",
    "kr = KNeighborsRegressor()\n",
    "kr.fit(X_train,y_train)\n",
    "print(\"The accuracy KNN regressor : \",kr.score(X_train,y_train))\n",
    "print(\"The prdiction made for regression tree : \\n\", np.round(kr.predict(X_train),1))"
   ]
  },
  {
   "cell_type": "code",
   "execution_count": 12,
   "metadata": {},
   "outputs": [
    {
     "name": "stdout",
     "output_type": "stream",
     "text": [
      "The accuracy of Decision tree regressor :  0.45333333333333325\n",
      "The prdiction made for regression tree : \n",
      " [1.         0.6        0.5        0.5        0.5        1.\n",
      " 0.5        0.         0.5        0.33333333 1.         0.8\n",
      " 1.         0.8        0.5        0.6        1.         1.\n",
      " 1.         0.8        0.83333333 0.4        0.5        0.6\n",
      " 0.5        0.5        1.         1.         0.83333333 1.\n",
      " 1.         0.5        1.         1.         0.5        0.83333333\n",
      " 0.4        0.         1.         1.         0.5        1.\n",
      " 1.         0.5        1.         1.         1.         0.\n",
      " 0.4        0.4        0.83333333 1.         1.         0.5\n",
      " 1.         1.         1.         0.4        1.         0.83333333\n",
      " 1.         0.33333333 0.6        0.33333333 1.         1.\n",
      " 1.         1.         1.         1.         0.83333333 0.8\n",
      " 1.         0.6        0.8        0.         1.         1.\n",
      " 1.         1.        ]\n"
     ]
    }
   ],
   "source": [
    "from sklearn.tree import DecisionTreeRegressor\n",
    "dr=DecisionTreeRegressor()\n",
    "dr.fit(X_train,y_train)\n",
    "print(\"The accuracy of Decision tree regressor : \",dr.score(X_train,y_train))\n",
    "print(\"The prdiction made for regression tree : \\n\",dr.predict(X_train))"
   ]
  },
  {
   "cell_type": "code",
   "execution_count": 32,
   "metadata": {},
   "outputs": [
    {
     "name": "stdout",
     "output_type": "stream",
     "text": [
      "The accuracy of Decision tree regressor :  0.4653245189190759\n",
      "The prdiction made for regression tree : \n",
      " [72.5        64.4        50.         66.75       66.75       57.\n",
      " 66.75       52.         66.75       57.33333333 56.         78.6\n",
      " 72.5        78.6        66.75       64.4        68.         59.\n",
      " 63.         78.6        71.66666667 58.         66.75       64.4\n",
      " 66.75       66.75       49.         47.         71.66666667 59.\n",
      " 63.25       66.75       74.         50.         66.75       71.66666667\n",
      " 58.         65.         59.         49.         66.75       55.\n",
      " 59.         66.75       60.         72.         82.         68.5\n",
      " 58.         58.         71.66666667 45.         45.         50.\n",
      " 63.25       72.         68.         58.         51.         71.66666667\n",
      " 51.5        57.33333333 64.4        57.33333333 46.         51.5\n",
      " 50.         51.5        70.         68.         71.66666667 78.6\n",
      " 51.5        64.4        78.6        68.5        76.         64.\n",
      " 65.         85.        ]\n"
     ]
    },
    {
     "data": {
      "image/png": "[encoded data removed]",
      "text/plain": [
       "<Figure size 640x480 with 1 Axes>"
      ]
     },
     "metadata": {},
     "output_type": "display_data"
    }
   ],
   "source": [
    "from sklearn.tree import DecisionTreeRegressor\n",
    "dr=DecisionTreeRegressor()\n",
    "dr.fit(X_train,y_train)\n",
    "print(\"The accuracy of Decision tree regressor : \",dr.score(X_train,y_train))\n",
    "print(\"The prdiction made for regression tree : \\n\",dr.predict(X_train))\n",
    "regr_1 = DecisionTreeRegressor(max_depth=2)\n",
    "regr_2 = DecisionTreeRegressor(max_depth=5)\n",
    "regr_1.fit(X, y)\n",
    "regr_2.fit(X, y)\n",
    "X_test = np.arange(0.5, 5.0, 0.01)[:, np.newaxis]\n",
    "y_1 = regr_1.predict(X_test)\n",
    "y_2 = regr_2.predict(X_test)\n",
    "plt.figure()\n",
    "plt.scatter(X, y, s=20, edgecolor=\"black\", c=\"darkorange\", label=\"data\")\n",
    "plt.plot(X_test, y_1, color=\"cornflowerblue\", label=\"max_depth=2\", linewidth=2)\n",
    "plt.plot(X_test, y_2, color=\"yellowgreen\", label=\"max_depth=5\", linewidth=2)\n",
    "plt.xlabel(\"data\")\n",
    "plt.ylabel(\"target\")\n",
    "plt.title(\"Decision Tree Regression\")\n",
    "plt.legend()\n",
    "plt.show()"
   ]
  },
  {
   "cell_type": "code",
   "execution_count": null,
   "metadata": {},
   "outputs": [],
   "source": []
  }
 ],
 "metadata": {
  "kernelspec": {
   "display_name": "Python 3",
   "language": "python",
   "name": "python3"
  },
  "language_info": {
   "codemirror_mode": {
    "name": "ipython",
    "version": 3
   },
   "file_extension": ".py",
   "mimetype": "text/x-python",
   "name": "python",
   "nbconvert_exporter": "python",
   "pygments_lexer": "ipython3",
   "version": "3.10.2 (tags/v3.10.2:a58ebcc, Jan 17 2022, 14:12:15) [MSC v.1929 64 bit (AMD64)]"
  },
  "orig_nbformat": 4,
  "vscode": {
   "interpreter": {
    "hash": "070028ba1342e166cb73fb497b35572113484a2ef1bea3a29a8945b00241d4de"
   }
  }
 },
 "nbformat": 4,
 "nbformat_minor": 2
}

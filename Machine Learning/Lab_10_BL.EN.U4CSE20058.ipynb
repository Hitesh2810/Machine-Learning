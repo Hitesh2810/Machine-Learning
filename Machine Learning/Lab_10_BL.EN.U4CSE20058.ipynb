{
 "cells": [
  {
   "cell_type": "code",
   "execution_count": 2,
   "metadata": {},
   "outputs": [],
   "source": [
    "import  pandas as pd\n",
    "import matplotlib.pyplot as plt\n",
    "import seaborn as sns \n",
    "import numpy as np\n",
    "from sklearn.model_selection import train_test_split\n",
    "from sklearn import linear_model\n",
    "from sklearn.linear_model import LogisticRegression\n",
    "from sklearn.metrics import mean_squared_error, r2_score\n",
    "import time"
   ]
  },
  {
   "cell_type": "code",
   "execution_count": 3,
   "metadata": {},
   "outputs": [
    {
     "data": {
      "text/html": [
       "<div>\n",
       "<style scoped>\n",
       "    .dataframe tbody tr th:only-of-type {\n",
       "        vertical-align: middle;\n",
       "    }\n",
       "\n",
       "    .dataframe tbody tr th {\n",
       "        vertical-align: top;\n",
       "    }\n",
       "\n",
       "    .dataframe thead th {\n",
       "        text-align: right;\n",
       "    }\n",
       "</style>\n",
       "<table border=\"1\" class=\"dataframe\">\n",
       "  <thead>\n",
       "    <tr style=\"text-align: right;\">\n",
       "      <th></th>\n",
       "      <th>BMI</th>\n",
       "      <th>4. Age (in years)</th>\n",
       "      <th>5. Height (in cms)</th>\n",
       "      <th>6. Weight (in kgs)</th>\n",
       "      <th>Financial insecurity faced due to lockdown</th>\n",
       "      <th>Is not being able to hangout and meet your friends and classmates in any way affecting your mental health?</th>\n",
       "      <th>quarantine impact</th>\n",
       "      <th>When did you have more free time?</th>\n",
       "      <th>How many days in a week do you practice meditation?</th>\n",
       "      <th>19. Out of the following, choose 5 tools which you use most often these days.</th>\n",
       "      <th>happy with online classes</th>\n",
       "      <th>How would you rate your mental well being ?</th>\n",
       "      <th>mentalh_level</th>\n",
       "      <th>to</th>\n",
       "    </tr>\n",
       "  </thead>\n",
       "  <tbody>\n",
       "    <tr>\n",
       "      <th>0</th>\n",
       "      <td>27.887617</td>\n",
       "      <td>45</td>\n",
       "      <td>155.0</td>\n",
       "      <td>67.0</td>\n",
       "      <td>6</td>\n",
       "      <td>1</td>\n",
       "      <td>1</td>\n",
       "      <td>0</td>\n",
       "      <td>1</td>\n",
       "      <td>11</td>\n",
       "      <td>0</td>\n",
       "      <td>5</td>\n",
       "      <td>Bad</td>\n",
       "      <td>0.002789</td>\n",
       "    </tr>\n",
       "    <tr>\n",
       "      <th>1</th>\n",
       "      <td>26.609713</td>\n",
       "      <td>20</td>\n",
       "      <td>169.0</td>\n",
       "      <td>76.0</td>\n",
       "      <td>1</td>\n",
       "      <td>1</td>\n",
       "      <td>1</td>\n",
       "      <td>0</td>\n",
       "      <td>0</td>\n",
       "      <td>11</td>\n",
       "      <td>1</td>\n",
       "      <td>10</td>\n",
       "      <td>Good</td>\n",
       "      <td>0.002661</td>\n",
       "    </tr>\n",
       "    <tr>\n",
       "      <th>2</th>\n",
       "      <td>20.613131</td>\n",
       "      <td>23</td>\n",
       "      <td>151.0</td>\n",
       "      <td>47.0</td>\n",
       "      <td>3</td>\n",
       "      <td>1</td>\n",
       "      <td>1</td>\n",
       "      <td>2</td>\n",
       "      <td>0</td>\n",
       "      <td>11</td>\n",
       "      <td>1</td>\n",
       "      <td>5</td>\n",
       "      <td>Bad</td>\n",
       "      <td>0.002061</td>\n",
       "    </tr>\n",
       "    <tr>\n",
       "      <th>3</th>\n",
       "      <td>21.224490</td>\n",
       "      <td>19</td>\n",
       "      <td>175.0</td>\n",
       "      <td>65.0</td>\n",
       "      <td>2</td>\n",
       "      <td>1</td>\n",
       "      <td>0</td>\n",
       "      <td>2</td>\n",
       "      <td>0</td>\n",
       "      <td>12</td>\n",
       "      <td>0</td>\n",
       "      <td>7</td>\n",
       "      <td>Good</td>\n",
       "      <td>0.002122</td>\n",
       "    </tr>\n",
       "    <tr>\n",
       "      <th>4</th>\n",
       "      <td>17.959184</td>\n",
       "      <td>20</td>\n",
       "      <td>175.0</td>\n",
       "      <td>55.0</td>\n",
       "      <td>8</td>\n",
       "      <td>1</td>\n",
       "      <td>0</td>\n",
       "      <td>0</td>\n",
       "      <td>0</td>\n",
       "      <td>17</td>\n",
       "      <td>0</td>\n",
       "      <td>4</td>\n",
       "      <td>Bad</td>\n",
       "      <td>0.001796</td>\n",
       "    </tr>\n",
       "  </tbody>\n",
       "</table>\n",
       "</div>"
      ],
      "text/plain": [
       "         BMI  4. Age (in years)  5. Height (in cms)  6. Weight (in kgs)  \\\n",
       "0  27.887617                 45               155.0                67.0   \n",
       "1  26.609713                 20               169.0                76.0   \n",
       "2  20.613131                 23               151.0                47.0   \n",
       "3  21.224490                 19               175.0                65.0   \n",
       "4  17.959184                 20               175.0                55.0   \n",
       "\n",
       "    Financial insecurity faced due to lockdown  \\\n",
       "0                                            6   \n",
       "1                                            1   \n",
       "2                                            3   \n",
       "3                                            2   \n",
       "4                                            8   \n",
       "\n",
       "   Is not being able to hangout and meet your friends and classmates in any way affecting your mental health?  \\\n",
       "0                                                  1                                                            \n",
       "1                                                  1                                                            \n",
       "2                                                  1                                                            \n",
       "3                                                  1                                                            \n",
       "4                                                  1                                                            \n",
       "\n",
       "   quarantine impact  When did you have more free time?  \\\n",
       "0                  1                                  0   \n",
       "1                  1                                  0   \n",
       "2                  1                                  2   \n",
       "3                  0                                  2   \n",
       "4                  0                                  0   \n",
       "\n",
       "    How many days in a week do you practice meditation?  \\\n",
       "0                                                  1      \n",
       "1                                                  0      \n",
       "2                                                  0      \n",
       "3                                                  0      \n",
       "4                                                  0      \n",
       "\n",
       "   19. Out of the following, choose 5 tools which you use most often these days.  \\\n",
       "0                                                 11                               \n",
       "1                                                 11                               \n",
       "2                                                 11                               \n",
       "3                                                 12                               \n",
       "4                                                 17                               \n",
       "\n",
       "   happy with online classes  How would you rate your mental well being ?  \\\n",
       "0                          0                                            5   \n",
       "1                          1                                           10   \n",
       "2                          1                                            5   \n",
       "3                          0                                            7   \n",
       "4                          0                                            4   \n",
       "\n",
       "  mentalh_level        to  \n",
       "0           Bad  0.002789  \n",
       "1          Good  0.002661  \n",
       "2           Bad  0.002061  \n",
       "3          Good  0.002122  \n",
       "4           Bad  0.001796  "
      ]
     },
     "execution_count": 3,
     "metadata": {},
     "output_type": "execute_result"
    }
   ],
   "source": [
    "dataframe = pd.read_csv('C:\\\\Users\\\\Hitesh\\\\Downloads\\\\lab3.csv',nrows = 100)\n",
    "dataframe.head()"
   ]
  },
  {
   "cell_type": "code",
   "execution_count": 4,
   "metadata": {},
   "outputs": [
    {
     "data": {
      "text/html": [
       "<div>\n",
       "<style scoped>\n",
       "    .dataframe tbody tr th:only-of-type {\n",
       "        vertical-align: middle;\n",
       "    }\n",
       "\n",
       "    .dataframe tbody tr th {\n",
       "        vertical-align: top;\n",
       "    }\n",
       "\n",
       "    .dataframe thead th {\n",
       "        text-align: right;\n",
       "    }\n",
       "</style>\n",
       "<table border=\"1\" class=\"dataframe\">\n",
       "  <thead>\n",
       "    <tr style=\"text-align: right;\">\n",
       "      <th></th>\n",
       "      <th>BMI</th>\n",
       "      <th>4. Age (in years)</th>\n",
       "      <th>5. Height (in cms)</th>\n",
       "      <th>6. Weight (in kgs)</th>\n",
       "      <th>Financial insecurity faced due to lockdown</th>\n",
       "      <th>Is not being able to hangout and meet your friends and classmates in any way affecting your mental health?</th>\n",
       "      <th>quarantine impact</th>\n",
       "      <th>When did you have more free time?</th>\n",
       "      <th>How many days in a week do you practice meditation?</th>\n",
       "      <th>19. Out of the following, choose 5 tools which you use most often these days.</th>\n",
       "      <th>happy with online classes</th>\n",
       "      <th>How would you rate your mental well being ?</th>\n",
       "      <th>mentalh_level</th>\n",
       "      <th>to</th>\n",
       "    </tr>\n",
       "  </thead>\n",
       "  <tbody>\n",
       "    <tr>\n",
       "      <th>0</th>\n",
       "      <td>27.887617</td>\n",
       "      <td>45</td>\n",
       "      <td>155.0</td>\n",
       "      <td>67.0</td>\n",
       "      <td>6</td>\n",
       "      <td>1</td>\n",
       "      <td>1</td>\n",
       "      <td>0</td>\n",
       "      <td>1</td>\n",
       "      <td>11</td>\n",
       "      <td>0</td>\n",
       "      <td>5</td>\n",
       "      <td>0</td>\n",
       "      <td>0.002789</td>\n",
       "    </tr>\n",
       "    <tr>\n",
       "      <th>1</th>\n",
       "      <td>26.609713</td>\n",
       "      <td>20</td>\n",
       "      <td>169.0</td>\n",
       "      <td>76.0</td>\n",
       "      <td>1</td>\n",
       "      <td>1</td>\n",
       "      <td>1</td>\n",
       "      <td>0</td>\n",
       "      <td>0</td>\n",
       "      <td>11</td>\n",
       "      <td>1</td>\n",
       "      <td>10</td>\n",
       "      <td>1</td>\n",
       "      <td>0.002661</td>\n",
       "    </tr>\n",
       "    <tr>\n",
       "      <th>2</th>\n",
       "      <td>20.613131</td>\n",
       "      <td>23</td>\n",
       "      <td>151.0</td>\n",
       "      <td>47.0</td>\n",
       "      <td>3</td>\n",
       "      <td>1</td>\n",
       "      <td>1</td>\n",
       "      <td>2</td>\n",
       "      <td>0</td>\n",
       "      <td>11</td>\n",
       "      <td>1</td>\n",
       "      <td>5</td>\n",
       "      <td>0</td>\n",
       "      <td>0.002061</td>\n",
       "    </tr>\n",
       "    <tr>\n",
       "      <th>3</th>\n",
       "      <td>21.224490</td>\n",
       "      <td>19</td>\n",
       "      <td>175.0</td>\n",
       "      <td>65.0</td>\n",
       "      <td>2</td>\n",
       "      <td>1</td>\n",
       "      <td>0</td>\n",
       "      <td>2</td>\n",
       "      <td>0</td>\n",
       "      <td>12</td>\n",
       "      <td>0</td>\n",
       "      <td>7</td>\n",
       "      <td>1</td>\n",
       "      <td>0.002122</td>\n",
       "    </tr>\n",
       "    <tr>\n",
       "      <th>4</th>\n",
       "      <td>17.959184</td>\n",
       "      <td>20</td>\n",
       "      <td>175.0</td>\n",
       "      <td>55.0</td>\n",
       "      <td>8</td>\n",
       "      <td>1</td>\n",
       "      <td>0</td>\n",
       "      <td>0</td>\n",
       "      <td>0</td>\n",
       "      <td>17</td>\n",
       "      <td>0</td>\n",
       "      <td>4</td>\n",
       "      <td>0</td>\n",
       "      <td>0.001796</td>\n",
       "    </tr>\n",
       "  </tbody>\n",
       "</table>\n",
       "</div>"
      ],
      "text/plain": [
       "         BMI  4. Age (in years)  5. Height (in cms)  6. Weight (in kgs)  \\\n",
       "0  27.887617                 45               155.0                67.0   \n",
       "1  26.609713                 20               169.0                76.0   \n",
       "2  20.613131                 23               151.0                47.0   \n",
       "3  21.224490                 19               175.0                65.0   \n",
       "4  17.959184                 20               175.0                55.0   \n",
       "\n",
       "    Financial insecurity faced due to lockdown  \\\n",
       "0                                            6   \n",
       "1                                            1   \n",
       "2                                            3   \n",
       "3                                            2   \n",
       "4                                            8   \n",
       "\n",
       "   Is not being able to hangout and meet your friends and classmates in any way affecting your mental health?  \\\n",
       "0                                                  1                                                            \n",
       "1                                                  1                                                            \n",
       "2                                                  1                                                            \n",
       "3                                                  1                                                            \n",
       "4                                                  1                                                            \n",
       "\n",
       "   quarantine impact  When did you have more free time?  \\\n",
       "0                  1                                  0   \n",
       "1                  1                                  0   \n",
       "2                  1                                  2   \n",
       "3                  0                                  2   \n",
       "4                  0                                  0   \n",
       "\n",
       "    How many days in a week do you practice meditation?  \\\n",
       "0                                                  1      \n",
       "1                                                  0      \n",
       "2                                                  0      \n",
       "3                                                  0      \n",
       "4                                                  0      \n",
       "\n",
       "   19. Out of the following, choose 5 tools which you use most often these days.  \\\n",
       "0                                                 11                               \n",
       "1                                                 11                               \n",
       "2                                                 11                               \n",
       "3                                                 12                               \n",
       "4                                                 17                               \n",
       "\n",
       "   happy with online classes  How would you rate your mental well being ?  \\\n",
       "0                          0                                            5   \n",
       "1                          1                                           10   \n",
       "2                          1                                            5   \n",
       "3                          0                                            7   \n",
       "4                          0                                            4   \n",
       "\n",
       "   mentalh_level        to  \n",
       "0              0  0.002789  \n",
       "1              1  0.002661  \n",
       "2              0  0.002061  \n",
       "3              1  0.002122  \n",
       "4              0  0.001796  "
      ]
     },
     "execution_count": 4,
     "metadata": {},
     "output_type": "execute_result"
    }
   ],
   "source": [
    "from sklearn import preprocessing\n",
    "l_b=preprocessing.LabelEncoder()\n",
    "dataframe['mentalh_level']=l_b.fit_transform(dataframe['mentalh_level'])\n",
    "dataframe.head()"
   ]
  },
  {
   "cell_type": "code",
   "execution_count": 5,
   "metadata": {},
   "outputs": [],
   "source": [
    "\n",
    "F_datafram=dataframe[['Is not being able to hangout and meet your friends and classmates in any way affecting your mental health?','quarantine impact','When did you have more free time?','happy with online classes',' How many days in a week do you practice meditation?']]\n",
    "X=np.asarray(F_datafram)\n",
    "y=np.asarray(dataframe['mentalh_level'])\n",
    "X_train, X_test,y_train,y_test=train_test_split(X,y,test_size=0.2,random_state=4)"
   ]
  },
  {
   "attachments": {},
   "cell_type": "markdown",
   "metadata": {},
   "source": [
    "A1"
   ]
  },
  {
   "cell_type": "code",
   "execution_count": 6,
   "metadata": {},
   "outputs": [
    {
     "name": "stdout",
     "output_type": "stream",
     "text": [
      "The prediction of traiing data for k=5 :  [0 0 0 3 2 0 4 0 4 2 0 3 2 2 1 0 2 2 4 2 0 4 3 4 1 2 1 1 2 2 2 4 4 3 4 3 0\n",
      " 0 2 2 0 3 3 0 1 0 3 1 0 2 4 3 2 2 0 2 1 4 2 4 0 0 4 2 1 1 4 2 4 3 2 4 0 0\n",
      " 2 0 0 0 2 4]\n"
     ]
    }
   ],
   "source": [
    "from sklearn.cluster import KMeans\n",
    "kmeans = KMeans(n_clusters=5) \n",
    "kmeans.fit(X_train,y_train)  \n",
    "print(\"The prediction of traiing data for k=5 : \",kmeans.predict(X_train,y_train))"
   ]
  },
  {
   "cell_type": "code",
   "execution_count": 7,
   "metadata": {},
   "outputs": [
    {
     "name": "stdout",
     "output_type": "stream",
     "text": [
      "The prediction of traiing data for k=3 :  [2 2 2 0 1 2 1 2 1 1 2 0 1 1 0 2 1 1 1 1 2 2 0 1 0 1 0 1 1 1 1 2 1 0 2 0 2\n",
      " 2 1 1 2 0 0 2 0 2 0 0 2 1 1 0 1 1 2 1 0 2 1 2 2 2 1 1 1 0 1 1 2 0 1 2 2 2\n",
      " 1 2 2 2 1 1]\n"
     ]
    }
   ],
   "source": [
    "kmeans = KMeans(n_clusters=3) \n",
    "kmeans.fit(X_train,y_train)  \n",
    "print(\"The prediction of traiing data for k=3 : \",kmeans.predict(X_train,y_train))"
   ]
  },
  {
   "attachments": {},
   "cell_type": "markdown",
   "metadata": {},
   "source": [
    "A2"
   ]
  },
  {
   "cell_type": "code",
   "execution_count": 8,
   "metadata": {},
   "outputs": [
    {
     "name": "stdout",
     "output_type": "stream",
     "text": [
      "The ideal value of k based on average Euclidean distance from cluster center usong elbow method of  BMI : 0.9641603058882349\n",
      "The ideal value of k based on average Euclidean distance from cluster center usong elbow method of  4. Age (in years) : 0.9641603058882349\n",
      "The ideal value of k based on average Euclidean distance from cluster center usong elbow method of  5. Height (in cms) : 0.9641603058882349\n",
      "The ideal value of k based on average Euclidean distance from cluster center usong elbow method of  6. Weight (in kgs) : 0.9641603058882349\n",
      "The ideal value of k based on average Euclidean distance from cluster center usong elbow method of   Financial insecurity faced due to lockdown : 0.9641603058882349\n",
      "The ideal value of k based on average Euclidean distance from cluster center usong elbow method of  Is not being able to hangout and meet your friends and classmates in any way affecting your mental health? : 0.9641603058882349\n",
      "The ideal value of k based on average Euclidean distance from cluster center usong elbow method of  quarantine impact : 0.9641603058882349\n",
      "The ideal value of k based on average Euclidean distance from cluster center usong elbow method of  When did you have more free time? : 0.9641603058882349\n",
      "The ideal value of k based on average Euclidean distance from cluster center usong elbow method of   How many days in a week do you practice meditation? : 0.9641603058882349\n",
      "The ideal value of k based on average Euclidean distance from cluster center usong elbow method of  19. Out of the following, choose 5 tools which you use most often these days. : 0.9641603058882349\n",
      "The ideal value of k based on average Euclidean distance from cluster center usong elbow method of  happy with online classes : 0.9641603058882349\n",
      "The ideal value of k based on average Euclidean distance from cluster center usong elbow method of  How would you rate your mental well being ? : 0.9641603058882349\n",
      "The ideal value of k based on average Euclidean distance from cluster center usong elbow method of  mentalh_level : 0.9641603058882349\n",
      "The ideal value of k based on average Euclidean distance from cluster center usong elbow method of  to : 0.9641603058882349\n"
     ]
    }
   ],
   "source": [
    "from scipy.spatial.distance import cdist\n",
    "distortions = []\n",
    "inertias = []\n",
    "mapping1 = {}\n",
    "mapping2 = {}\n",
    "K = range(1, 10)\n",
    "\n",
    "for k in dataframe:\n",
    "\t# Building and fitting the model\n",
    "\tkmeans = KMeans(n_clusters=3) \n",
    "\tkmeans.fit(X_train,y_train)  \n",
    "\tdistortions.append(sum(np.min(cdist(X_train, kmeans.cluster_centers_,\n",
    "\t\t\t\t\t\t\t\t\t\t'euclidean'), axis=1)) / X.shape[0])\n",
    "\tinertias.append(kmeans.inertia_)\n",
    "\n",
    "\tmapping1[k] = sum(np.min(cdist(X_train, kmeans.cluster_centers_,\n",
    "\t\t\t\t\t\t\t\t'euclidean'), axis=1)) / X.shape[0]\n",
    "\tmapping2[k] = kmeans.inertia_\n",
    "for key, val in mapping1.items():\n",
    "\tprint(\"The ideal value of k based on average Euclidean distance from cluster center usong elbow method of \",f'{key} : {val}')\n"
   ]
  },
  {
   "attachments": {},
   "cell_type": "markdown",
   "metadata": {},
   "source": [
    "A3"
   ]
  },
  {
   "cell_type": "code",
   "execution_count": 9,
   "metadata": {},
   "outputs": [
    {
     "data": {
      "image/png": "[encoded data removed]",
      "text/plain": [
       "<Figure size 1000x300 with 1 Axes>"
      ]
     },
     "metadata": {},
     "output_type": "display_data"
    }
   ],
   "source": [
    "import scipy.cluster.hierarchy as shc\n",
    "plt.figure(figsize=(10, 3))  \n",
    "plt.title(\"Dendrograms\")  \n",
    "dend = shc.dendrogram(shc.linkage(dataframe, method='ward'))"
   ]
  },
  {
   "cell_type": "code",
   "execution_count": 10,
   "metadata": {},
   "outputs": [
    {
     "data": {
      "text/plain": [
       "array([0, 0, 0, 1, 0, 0, 0, 0, 0, 0, 0, 1, 0, 0, 1, 0, 0, 0, 0, 0, 0, 0,\n",
       "       1, 0, 1, 0, 0, 1, 0, 0, 0, 0, 0, 1, 0, 1, 0, 0, 0, 0, 0, 1, 1, 0,\n",
       "       1, 0, 1, 1, 0, 0, 0, 1, 0, 0, 0, 0, 1, 0, 0, 0, 0, 0, 0, 0, 1, 1,\n",
       "       0, 0, 0, 1, 0, 0, 0, 0, 0, 0, 0, 0, 0, 0], dtype=int64)"
      ]
     },
     "execution_count": 10,
     "metadata": {},
     "output_type": "execute_result"
    }
   ],
   "source": [
    "from sklearn.cluster import AgglomerativeClustering\n",
    "cluster = AgglomerativeClustering(n_clusters=2, affinity='euclidean', linkage='ward')  \n",
    "cluster.fit_predict(X_train)"
   ]
  },
  {
   "cell_type": "code",
   "execution_count": 11,
   "metadata": {},
   "outputs": [],
   "source": [
    "\n",
    "F_datafram=dataframe[['BMI']]\n",
    "X=np.asarray(F_datafram)\n",
    "y=np.asarray(dataframe['mentalh_level'])\n",
    "X_train, X_test,y_train,y_test=train_test_split(X,y,test_size=0.2,random_state=4)"
   ]
  },
  {
   "cell_type": "code",
   "execution_count": 12,
   "metadata": {},
   "outputs": [
    {
     "data": {
      "text/plain": [
       "<matplotlib.collections.PathCollection at 0x1a4670fca60>"
      ]
     },
     "execution_count": 12,
     "metadata": {},
     "output_type": "execute_result"
    },
    {
     "data": {
      "image/png": "[encoded data removed]",
      "text/plain": [
       "<Figure size 1000x700 with 1 Axes>"
      ]
     },
     "metadata": {},
     "output_type": "display_data"
    }
   ],
   "source": [
    "plt.figure(figsize=(10, 7))  \n",
    "plt.scatter(dataframe['5. Height (in cms)'],dataframe['4. Age (in years)'])"
   ]
  },
  {
   "attachments": {},
   "cell_type": "markdown",
   "metadata": {},
   "source": [
    "A4"
   ]
  },
  {
   "cell_type": "code",
   "execution_count": 13,
   "metadata": {},
   "outputs": [
    {
     "data": {
      "image/png": "[encoded data removed]",
      "text/plain": [
       "<Figure size 640x480 with 1 Axes>"
      ]
     },
     "metadata": {},
     "output_type": "display_data"
    }
   ],
   "source": [
    "#Load needed libraries\n",
    "from mlxtend.feature_selection import SequentialFeatureSelector as SFS\n",
    "from mlxtend.plotting import plot_sequential_feature_selection as plot_sfs\n",
    "from sklearn.linear_model import LinearRegression\n",
    "from sklearn.datasets import load_boston\n",
    "import matplotlib.pyplot as plt\n",
    "\n",
    "#import and prepare data\n",
    "F_datafram=dataframe[['BMI','How would you rate your mental well being ?',' Financial insecurity faced due to lockdown','6. Weight (in kgs)','4. Age (in years)','5. Height (in cms)','Is not being able to hangout and meet your friends and classmates in any way affecting your mental health?','quarantine impact','When did you have more free time?','happy with online classes',' How many days in a week do you practice meditation?']]\n",
    "X=np.asarray(F_datafram)\n",
    "y=np.asarray(dataframe['mentalh_level'])\n",
    "\n",
    "#Define Sequential Forward Selection (sfs)\n",
    "sfs = SFS(LinearRegression(), \n",
    "          k_features=8, \n",
    "          forward=True, \n",
    "          floating=False, \n",
    "          scoring='neg_mean_squared_error',\n",
    "          cv=5)\n",
    "\n",
    "sfs = sfs.fit(X, y)\n",
    "fig = plot_sfs(sfs.get_metric_dict(), kind='std_err')\n",
    "\n",
    "plt.title('Sequential Forward Selection (w. StdErr)')\n",
    "plt.grid()\n",
    "plt.show()"
   ]
  },
  {
   "attachments": {},
   "cell_type": "markdown",
   "metadata": {},
   "source": [
    "A5"
   ]
  },
  {
   "cell_type": "code",
   "execution_count": 14,
   "metadata": {},
   "outputs": [
    {
     "name": "stdout",
     "output_type": "stream",
     "text": [
      "The PCA components : \n",
      " [[ 9.99969279e-01 -9.70127152e-05 -7.26495661e-05  1.56567693e-04\n",
      "   2.69598180e-04 -7.83077289e-03  1.90666791e-05 -3.42610945e-05\n",
      "  -5.85170594e-05 -1.80322206e-05 -5.08506165e-05]]\n",
      "The PCA variance : \n",
      " [4287240.40525765]\n"
     ]
    }
   ],
   "source": [
    "from sklearn.decomposition import PCA\n",
    "pca = PCA(n_components=0.95)\n",
    "pca.fit(X,y)\n",
    "print(\"The PCA components : \\n\",pca.components_)\n",
    "print(\"The PCA variance : \\n\",pca.explained_variance_)"
   ]
  },
  {
   "attachments": {},
   "cell_type": "markdown",
   "metadata": {},
   "source": [
    "A6"
   ]
  },
  {
   "cell_type": "code",
   "execution_count": 24,
   "metadata": {},
   "outputs": [
    {
     "name": "stdout",
     "output_type": "stream",
     "text": [
      "The transformed data :  [[ -201.13329687]\n",
      " [ -202.52621279]\n",
      " [ -208.38516515]\n",
      " [ -207.96009294]\n",
      " [ -211.22662266]\n",
      " [ -206.30782687]\n",
      " [ -203.95649252]\n",
      " [ -210.64689973]\n",
      " [ -212.1753271 ]\n",
      " [ -203.72230744]\n",
      " [ -211.78085192]\n",
      " [ -206.6547535 ]\n",
      " [ -210.945741  ]\n",
      " [ -212.24938238]\n",
      " [ -210.04895617]\n",
      " [ -213.44585319]\n",
      " [ -207.3859402 ]\n",
      " [ -201.95777501]\n",
      " [ -206.44832056]\n",
      " [ -208.21900628]\n",
      " [ -208.94045684]\n",
      " [ -208.06122654]\n",
      " [ -208.38517409]\n",
      " [ -209.03580669]\n",
      " [ -201.09341355]\n",
      " [ -205.23087376]\n",
      " [ -207.96818038]\n",
      " [ -187.88213834]\n",
      " [ -199.73044598]\n",
      " [ -210.02138057]\n",
      " [ -211.26236127]\n",
      " [ -204.92346817]\n",
      " [ -197.49174459]\n",
      " [ -206.65352026]\n",
      " [ -203.94871843]\n",
      " [ -203.19249328]\n",
      " [ -208.36160021]\n",
      " [ -208.89270595]\n",
      " [ -213.4251252 ]\n",
      " [ -209.16200886]\n",
      " [ -205.30198534]\n",
      " [ -208.03891542]\n",
      " [ -208.88056258]\n",
      " [ -207.1937449 ]\n",
      " [ -207.94036602]\n",
      " [ -206.22132299]\n",
      " [ -203.57496115]\n",
      " [ -211.25490893]\n",
      " [ -202.84536522]\n",
      " [ -205.5355245 ]\n",
      " [ -208.61236814]\n",
      " [20498.54879545]\n",
      " [ -206.13701303]\n",
      " [ -212.3176307 ]\n",
      " [ -210.74065696]\n",
      " [ -209.24023333]\n",
      " [ -200.76458685]\n",
      " [ -203.71084002]\n",
      " [ -195.26532738]\n",
      " [ -211.55396637]\n",
      " [ -202.21468328]\n",
      " [ -207.69318249]\n",
      " [ -215.33785638]\n",
      " [ -204.92335617]\n",
      " [ -208.39065529]\n",
      " [ -206.02576784]\n",
      " [ -209.25126123]\n",
      " [ -210.74317193]\n",
      " [ -208.89461984]\n",
      " [ -203.07881692]\n",
      " [ -212.40741991]\n",
      " [ -199.38457544]\n",
      " [ -206.07423406]\n",
      " [ -207.5839178 ]\n",
      " [ -207.58446392]\n",
      " [ -198.9722715 ]\n",
      " [ -208.03912396]\n",
      " [ -203.67626635]\n",
      " [ -201.42574211]\n",
      " [ -216.63387901]\n",
      " [ -207.36545217]\n",
      " [ -213.18874187]\n",
      " [ -208.20246797]\n",
      " [ -208.77074898]\n",
      " [ -199.96337806]\n",
      " [ -208.38417387]\n",
      " [ -206.70154395]\n",
      " [ -209.76626615]\n",
      " [ -207.06825358]\n",
      " [ -209.20535985]\n",
      " [ -206.44830115]\n",
      " [ -199.76848444]\n",
      " [ -210.90342704]\n",
      " [ -211.19702982]\n",
      " [ -213.57912428]\n",
      " [ -210.48220442]\n",
      " [ -207.48223858]\n",
      " [ -209.00899586]\n",
      " [ -207.11344981]\n",
      " [ -209.6439411 ]]\n",
      "The accuracy of transformed data :  -40.3765485977015\n"
     ]
    }
   ],
   "source": [
    "print(\"The transformed data : \",pca.fit_transform(X,y))\n",
    "print(\"The accuracy of transformed data : \",pca.score(X,y))"
   ]
  }
 ],
 "metadata": {
  "kernelspec": {
   "display_name": "Python 3",
   "language": "python",
   "name": "python3"
  },
  "language_info": {
   "codemirror_mode": {
    "name": "ipython",
    "version": 3
   },
   "file_extension": ".py",
   "mimetype": "text/x-python",
   "name": "python",
   "nbconvert_exporter": "python",
   "pygments_lexer": "ipython3",
   "version": "3.10.2"
  },
  "orig_nbformat": 4,
  "vscode": {
   "interpreter": {
    "hash": "070028ba1342e166cb73fb497b35572113484a2ef1bea3a29a8945b00241d4de"
   }
  }
 },
 "nbformat": 4,
 "nbformat_minor": 2
}

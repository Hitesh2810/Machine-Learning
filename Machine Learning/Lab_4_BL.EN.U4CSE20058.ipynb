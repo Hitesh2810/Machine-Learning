{
  "cells": [
    {
      "cell_type": "code",
      "execution_count": 28,
      "metadata": {
        "id": "hOkBjwr9ek8t"
      },
      "outputs": [],
      "source": [
        "import pandas as pd\n",
        "import numpy as np\n",
        "import matplotlib.pyplot as plt\n",
        "import math\n",
        "import time"
      ]
    },
    {
      "cell_type": "code",
      "execution_count": 3,
      "metadata": {
        "id": "budvGmqffZ2V"
      },
      "outputs": [],
      "source": [
        "data = [[1,0,0,0],[1,0,1,0],[1,1,0,0],[1,1,1,1]]\n",
        "and_table = pd.DataFrame(data,columns=['one','A','B','result'])"
      ]
    },
    {
      "cell_type": "code",
      "execution_count": 4,
      "metadata": {
        "colab": {
          "base_uri": "https://localhost:8080/",
          "height": 173
        },
        "id": "9buT8XOlgnWv",
        "outputId": "6d056399-b698-4bcf-8180-94147594a4a5"
      },
      "outputs": [
        {
          "data": {
            "text/html": [
              "\n",
              "  <div id=\"df-2a5301d5-0968-4535-8900-b898777f50d2\">\n",
              "    <div class=\"colab-df-container\">\n",
              "      <div>\n",
              "<style scoped>\n",
              "    .dataframe tbody tr th:only-of-type {\n",
              "        vertical-align: middle;\n",
              "    }\n",
              "\n",
              "    .dataframe tbody tr th {\n",
              "        vertical-align: top;\n",
              "    }\n",
              "\n",
              "    .dataframe thead th {\n",
              "        text-align: right;\n",
              "    }\n",
              "</style>\n",
              "<table border=\"1\" class=\"dataframe\">\n",
              "  <thead>\n",
              "    <tr style=\"text-align: right;\">\n",
              "      <th></th>\n",
              "      <th>one</th>\n",
              "      <th>A</th>\n",
              "      <th>B</th>\n",
              "      <th>result</th>\n",
              "    </tr>\n",
              "  </thead>\n",
              "  <tbody>\n",
              "    <tr>\n",
              "      <th>0</th>\n",
              "      <td>1</td>\n",
              "      <td>0</td>\n",
              "      <td>0</td>\n",
              "      <td>0</td>\n",
              "    </tr>\n",
              "    <tr>\n",
              "      <th>1</th>\n",
              "      <td>1</td>\n",
              "      <td>0</td>\n",
              "      <td>1</td>\n",
              "      <td>0</td>\n",
              "    </tr>\n",
              "    <tr>\n",
              "      <th>2</th>\n",
              "      <td>1</td>\n",
              "      <td>1</td>\n",
              "      <td>0</td>\n",
              "      <td>0</td>\n",
              "    </tr>\n",
              "    <tr>\n",
              "      <th>3</th>\n",
              "      <td>1</td>\n",
              "      <td>1</td>\n",
              "      <td>1</td>\n",
              "      <td>1</td>\n",
              "    </tr>\n",
              "  </tbody>\n",
              "</table>\n",
              "</div>\n",
              "      <button class=\"colab-df-convert\" onclick=\"convertToInteractive('df-2a5301d5-0968-4535-8900-b898777f50d2')\"\n",
              "              title=\"Convert this dataframe to an interactive table.\"\n",
              "              style=\"display:none;\">\n",
              "        \n",
              "  <svg xmlns=\"http://www.w3.org/2000/svg\" height=\"24px\"viewBox=\"0 0 24 24\"\n",
              "       width=\"24px\">\n",
              "    <path d=\"M0 0h24v24H0V0z\" fill=\"none\"/>\n",
              "    <path d=\"M18.56 5.44l.94 2.06.94-2.06 2.06-.94-2.06-.94-.94-2.06-.94 2.06-2.06.94zm-11 1L8.5 8.5l.94-2.06 2.06-.94-2.06-.94L8.5 2.5l-.94 2.06-2.06.94zm10 10l.94 2.06.94-2.06 2.06-.94-2.06-.94-.94-2.06-.94 2.06-2.06.94z\"/><path d=\"M17.41 7.96l-1.37-1.37c-.4-.4-.92-.59-1.43-.59-.52 0-1.04.2-1.43.59L10.3 9.45l-7.72 7.72c-.78.78-.78 2.05 0 2.83L4 21.41c.39.39.9.59 1.41.59.51 0 1.02-.2 1.41-.59l7.78-7.78 2.81-2.81c.8-.78.8-2.07 0-2.86zM5.41 20L4 18.59l7.72-7.72 1.47 1.35L5.41 20z\"/>\n",
              "  </svg>\n",
              "      </button>\n",
              "      \n",
              "  <style>\n",
              "    .colab-df-container {\n",
              "      display:flex;\n",
              "      flex-wrap:wrap;\n",
              "      gap: 12px;\n",
              "    }\n",
              "\n",
              "    .colab-df-convert {\n",
              "      background-color: #E8F0FE;\n",
              "      border: none;\n",
              "      border-radius: 50%;\n",
              "      cursor: pointer;\n",
              "      display: none;\n",
              "      fill: #1967D2;\n",
              "      height: 32px;\n",
              "      padding: 0 0 0 0;\n",
              "      width: 32px;\n",
              "    }\n",
              "\n",
              "    .colab-df-convert:hover {\n",
              "      background-color: #E2EBFA;\n",
              "      box-shadow: 0px 1px 2px rgba(60, 64, 67, 0.3), 0px 1px 3px 1px rgba(60, 64, 67, 0.15);\n",
              "      fill: #174EA6;\n",
              "    }\n",
              "\n",
              "    [theme=dark] .colab-df-convert {\n",
              "      background-color: #3B4455;\n",
              "      fill: #D2E3FC;\n",
              "    }\n",
              "\n",
              "    [theme=dark] .colab-df-convert:hover {\n",
              "      background-color: #434B5C;\n",
              "      box-shadow: 0px 1px 3px 1px rgba(0, 0, 0, 0.15);\n",
              "      filter: drop-shadow(0px 1px 2px rgba(0, 0, 0, 0.3));\n",
              "      fill: #FFFFFF;\n",
              "    }\n",
              "  </style>\n",
              "\n",
              "      <script>\n",
              "        const buttonEl =\n",
              "          document.querySelector('#df-2a5301d5-0968-4535-8900-b898777f50d2 button.colab-df-convert');\n",
              "        buttonEl.style.display =\n",
              "          google.colab.kernel.accessAllowed ? 'block' : 'none';\n",
              "\n",
              "        async function convertToInteractive(key) {\n",
              "          const element = document.querySelector('#df-2a5301d5-0968-4535-8900-b898777f50d2');\n",
              "          const dataTable =\n",
              "            await google.colab.kernel.invokeFunction('convertToInteractive',\n",
              "                                                     [key], {});\n",
              "          if (!dataTable) return;\n",
              "\n",
              "          const docLinkHtml = 'Like what you see? Visit the ' +\n",
              "            '<a target=\"_blank\" href=https://colab.research.google.com/notebooks/data_table.ipynb>data table notebook</a>'\n",
              "            + ' to learn more about interactive tables.';\n",
              "          element.innerHTML = '';\n",
              "          dataTable['output_type'] = 'display_data';\n",
              "          await google.colab.output.renderOutput(dataTable, element);\n",
              "          const docLink = document.createElement('div');\n",
              "          docLink.innerHTML = docLinkHtml;\n",
              "          element.appendChild(docLink);\n",
              "        }\n",
              "      </script>\n",
              "    </div>\n",
              "  </div>\n",
              "  "
            ],
            "text/plain": [
              "   one  A  B  result\n",
              "0    1  0  0       0\n",
              "1    1  0  1       0\n",
              "2    1  1  0       0\n",
              "3    1  1  1       1"
            ]
          },
          "execution_count": 4,
          "metadata": {},
          "output_type": "execute_result"
        }
      ],
      "source": [
        "and_table"
      ]
    },
    {
      "cell_type": "code",
      "execution_count": 5,
      "metadata": {
        "id": "co19Cf3ogOTR"
      },
      "outputs": [],
      "source": [
        "def step_function(x):\n",
        "  if x>0:\n",
        "    return 1\n",
        "  else:\n",
        "    return 0"
      ]
    },
    {
      "cell_type": "code",
      "execution_count": 6,
      "metadata": {
        "id": "G8sAsLydrCHK"
      },
      "outputs": [],
      "source": [
        "def bipolar_function(x):\n",
        "  if x>0:\n",
        "    return 1\n",
        "  elif x == 0:\n",
        "    return 0\n",
        "  else:\n",
        "    return -1"
      ]
    },
    {
      "cell_type": "code",
      "execution_count": 7,
      "metadata": {
        "id": "GdWdSeU2wL_k"
      },
      "outputs": [],
      "source": [
        "def sigmoid_function(x):\n",
        "  return (1/(1+(math.e**-x)))"
      ]
    },
    {
      "cell_type": "code",
      "execution_count": 8,
      "metadata": {
        "id": "51yIyK8k0zcs"
      },
      "outputs": [],
      "source": [
        "def relu(x):\n",
        "  if x>0:\n",
        "    return x\n",
        "  else:\n",
        "    return 0\n",
        "    "
      ]
    },
    {
      "cell_type": "code",
      "execution_count": 9,
      "metadata": {
        "id": "3x9H8uHRhnzN"
      },
      "outputs": [],
      "source": [
        "def summation_unit(x0,x1,x2,w0,w1,w2):\n",
        "  return (x0*w0)+(x1*w1)+(x2*w2)"
      ]
    },
    {
      "cell_type": "code",
      "execution_count": 10,
      "metadata": {
        "colab": {
          "base_uri": "https://localhost:8080/",
          "height": 435
        },
        "id": "1Ef4MnBAhG22",
        "outputId": "b2c95413-d60e-4f29-9996-a49cb01a5c42"
      },
      "outputs": [
        {
          "name": "stdout",
          "output_type": "stream",
          "text": [
            "epoch count :  20\n"
          ]
        },
        {
          "data": {
            "image/png": "[encoded data removed]",
            "text/plain": [
              "<Figure size 432x288 with 1 Axes>"
            ]
          },
          "metadata": {
            "needs_background": "light"
          },
          "output_type": "display_data"
        },
        {
          "name": "stdout",
          "output_type": "stream",
          "text": [
            "weights ==> w0 :  -1.5  w1 :  1.2  w2 :  0.75\n",
            "calculated output :  0\n",
            "real output :  0\n",
            "calculated output :  0\n",
            "real output :  0\n",
            "calculated output :  0\n",
            "real output :  0\n",
            "calculated output :  1\n",
            "real output :  1\n"
          ]
        }
      ],
      "source": [
        "w0 = 10\n",
        "w1 = 0.2\n",
        "w2 = -0.75\n",
        "\n",
        "learning_rate = 0.5\n",
        "\n",
        "epoch_count = 0\n",
        "epoches = []\n",
        "sum_square_error = []\n",
        "\n",
        "while epoch_count<100:\n",
        "  error = 0\n",
        "  for index,row in and_table.iterrows():\n",
        "    if step_function(summation_unit(row['one'],row['A'],row['B'],w0,w1,w2)) != row['result']:\n",
        "      e = row['result'] - step_function(summation_unit(row['one'],row['A'],row['B'],w0,w1,w2))\n",
        "      w0 += (learning_rate*e*row['one'])\n",
        "      w1 += (learning_rate*e*row['A'])\n",
        "      w2 += (learning_rate*e*row['B'])\n",
        "      error += e**2\n",
        "  epoches.append(epoch_count)\n",
        "  epoch_count += 1\n",
        "  sum_square_error.append(error)\n",
        "  if error<0.002:\n",
        "    print(\"epoch count : \",epoch_count)\n",
        "    break\n",
        "\n",
        "plt.plot(epoches,sum_square_error)\n",
        "plt.show()\n",
        "\n",
        "print(\"weights ==> w0 : \",w0,\" w1 : \",w1,\" w2 : \",w2)\n",
        "for index,row in and_table.iterrows():\n",
        "  print(\"calculated output : \",step_function(summation_unit(row['one'],row['A'],row['B'],w0,w1,w2)))\n",
        "  print(\"real output : \",row['result'])"
      ]
    },
    {
      "cell_type": "code",
      "execution_count": 11,
      "metadata": {
        "colab": {
          "base_uri": "https://localhost:8080/",
          "height": 418
        },
        "id": "J_UR-ZUD0XIy",
        "outputId": "ee4ffc9a-ced8-4a38-9efa-aa4908447df3"
      },
      "outputs": [
        {
          "data": {
            "image/png": "[encoded data removed]",
            "text/plain": [
              "<Figure size 432x288 with 1 Axes>"
            ]
          },
          "metadata": {
            "needs_background": "light"
          },
          "output_type": "display_data"
        },
        {
          "name": "stdout",
          "output_type": "stream",
          "text": [
            "weights ==> w0 :  -0.5  w1 :  1.2  w2 :  0.25\n",
            "calculated output :  -1\n",
            "real output :  0\n",
            "calculated output :  -1\n",
            "real output :  0\n",
            "calculated output :  1\n",
            "real output :  0\n",
            "calculated output :  1\n",
            "real output :  1\n"
          ]
        }
      ],
      "source": [
        "w0 = 10\n",
        "w1 = 0.2\n",
        "w2 = -0.75\n",
        "\n",
        "learning_rate = 0.5\n",
        "\n",
        "epoch_count = 0\n",
        "epoches = []\n",
        "sum_square_error = []\n",
        "\n",
        "while epoch_count<1000:\n",
        "  error = 0\n",
        "  for index,row in and_table.iterrows():\n",
        "    if bipolar_function(summation_unit(row['one'],row['A'],row['B'],w0,w1,w2)) != row['result']:\n",
        "      e = row['result'] - bipolar_function(summation_unit(row['one'],row['A'],row['B'],w0,w1,w2))\n",
        "      w0 += (learning_rate*e*row['one'])\n",
        "      w1 += (learning_rate*e*row['A'])\n",
        "      w2 += (learning_rate*e*row['B'])\n",
        "      error += e**2\n",
        "  epoches.append(epoch_count)\n",
        "  epoch_count += 1\n",
        "  sum_square_error.append(error)\n",
        "  if error<0.002:\n",
        "    print(\"epoch count : \",epoch_count)\n",
        "    break\n",
        "\n",
        "plt.plot(epoches,sum_square_error)\n",
        "plt.show()\n",
        "\n",
        "print(\"weights ==> w0 : \",w0,\" w1 : \",w1,\" w2 : \",w2)\n",
        "for index,row in and_table.iterrows():\n",
        "  print(\"calculated output : \",bipolar_function(summation_unit(row['one'],row['A'],row['B'],w0,w1,w2)))\n",
        "  print(\"real output : \",row['result'])"
      ]
    },
    {
      "cell_type": "code",
      "execution_count": 12,
      "metadata": {
        "colab": {
          "base_uri": "https://localhost:8080/",
          "height": 435
        },
        "id": "kx6Ejixzl4Fm",
        "outputId": "1b11ee34-8444-419f-8bfd-6679d7e89231"
      },
      "outputs": [
        {
          "name": "stdout",
          "output_type": "stream",
          "text": [
            "epoch count :  452\n"
          ]
        },
        {
          "data": {
            "image/png": "[encoded data removed]",
            "text/plain": [
              "<Figure size 432x288 with 1 Axes>"
            ]
          },
          "metadata": {
            "needs_background": "light"
          },
          "output_type": "display_data"
        },
        {
          "name": "stdout",
          "output_type": "stream",
          "text": [
            "weights ==> w0 :  -11.014064464560434  w1 :  7.251651917633867  w2 :  7.237613596313015\n",
            "calculated output :  1.6468173263824202e-05\n",
            "real output :  0\n",
            "calculated output :  0.02239099636495462\n",
            "real output :  0\n",
            "calculated output :  0.02270035930480699\n",
            "real output :  0\n",
            "calculated output :  0.969973867639686\n",
            "real output :  1\n"
          ]
        }
      ],
      "source": [
        "w0 = 10\n",
        "w1 = 0.2\n",
        "w2 = -0.75\n",
        "\n",
        "learning_rate = 0.5\n",
        "\n",
        "epoch_count = 0\n",
        "epoches = []\n",
        "sum_square_error = []\n",
        "\n",
        "while epoch_count<1000:\n",
        "  error = 0\n",
        "  for index,row in and_table.iterrows():\n",
        "    if sigmoid_function(summation_unit(row['one'],row['A'],row['B'],w0,w1,w2)) != row['result']:\n",
        "      e = row['result'] - sigmoid_function(summation_unit(row['one'],row['A'],row['B'],w0,w1,w2))\n",
        "      w0 += (learning_rate*e*row['one'])\n",
        "      w1 += (learning_rate*e*row['A'])\n",
        "      w2 += (learning_rate*e*row['B'])\n",
        "      error += e**2\n",
        "  epoches.append(epoch_count)\n",
        "  epoch_count += 1\n",
        "  sum_square_error.append(error)\n",
        "  if error<0.002:\n",
        "    print(\"epoch count : \",epoch_count)\n",
        "    break\n",
        "\n",
        "plt.plot(epoches,sum_square_error)\n",
        "plt.show()\n",
        "\n",
        "print(\"weights ==> w0 : \",w0,\" w1 : \",w1,\" w2 : \",w2)\n",
        "for index,row in and_table.iterrows():\n",
        "  print(\"calculated output : \",sigmoid_function(summation_unit(row['one'],row['A'],row['B'],w0,w1,w2)))\n",
        "  print(\"real output : \",row['result'])"
      ]
    },
    {
      "cell_type": "code",
      "execution_count": 13,
      "metadata": {
        "colab": {
          "base_uri": "https://localhost:8080/",
          "height": 435
        },
        "id": "L3PLcIUmvrQl",
        "outputId": "36d31316-de13-402e-fdc1-350ece91eb77"
      },
      "outputs": [
        {
          "name": "stdout",
          "output_type": "stream",
          "text": [
            "epoch count :  21\n"
          ]
        },
        {
          "data": {
            "image/png": "[encoded data removed]",
            "text/plain": [
              "<Figure size 432x288 with 1 Axes>"
            ]
          },
          "metadata": {
            "needs_background": "light"
          },
          "output_type": "display_data"
        },
        {
          "name": "stdout",
          "output_type": "stream",
          "text": [
            "weights ==> w0 :  -0.9744791024733841  w1 :  0.9999852734617889  w2 :  0.9872469145057976\n",
            "calculated output :  0\n",
            "real output :  0\n",
            "calculated output :  0.012767812032413506\n",
            "real output :  0\n",
            "calculated output :  0.025506170988404797\n",
            "real output :  0\n",
            "calculated output :  1.0127530854942024\n",
            "real output :  1\n"
          ]
        }
      ],
      "source": [
        "w0 = 10\n",
        "w1 = 0.2\n",
        "w2 = -0.75\n",
        "\n",
        "learning_rate = 0.5\n",
        "\n",
        "epoch_count = 0\n",
        "epoches = []\n",
        "sum_square_error = []\n",
        "\n",
        "while epoch_count<1000:\n",
        "  error = 0\n",
        "  for index,row in and_table.iterrows():\n",
        "    if relu(summation_unit(row['one'],row['A'],row['B'],w0,w1,w2)) != row['result']:\n",
        "      e = row['result'] - relu(summation_unit(row['one'],row['A'],row['B'],w0,w1,w2))\n",
        "      w0 += (learning_rate*e*row['one'])\n",
        "      w1 += (learning_rate*e*row['A'])\n",
        "      w2 += (learning_rate*e*row['B'])\n",
        "      error += e**2\n",
        "  epoches.append(epoch_count)\n",
        "  epoch_count += 1\n",
        "  sum_square_error.append(error)\n",
        "  if error<0.002:\n",
        "    print(\"epoch count : \",epoch_count)\n",
        "    break\n",
        "\n",
        "plt.plot(epoches,sum_square_error)\n",
        "plt.show()\n",
        "\n",
        "print(\"weights ==> w0 : \",w0,\" w1 : \",w1,\" w2 : \",w2)\n",
        "for index,row in and_table.iterrows():\n",
        "  print(\"calculated output : \",relu(summation_unit(row['one'],row['A'],row['B'],w0,w1,w2)))\n",
        "  print(\"real output : \",row['result'])"
      ]
    },
    {
      "cell_type": "code",
      "execution_count": 14,
      "metadata": {
        "colab": {
          "base_uri": "https://localhost:8080/",
          "height": 267
        },
        "id": "Ai8nntfjv_XS",
        "outputId": "2bd93729-2096-4506-b5ca-084bc291adf5"
      },
      "outputs": [
        {
          "data": {
            "image/png": "[encoded data removed]",
            "text/plain": [
              "<Figure size 432x288 with 1 Axes>"
            ]
          },
          "metadata": {
            "needs_background": "light"
          },
          "output_type": "display_data"
        }
      ],
      "source": [
        "learning_rates = [0.1, 0.2, 0.3, 0.4, 0.5, 0.6, 0.7, 0.8, 0.9,1]\n",
        "number_of_epoches = []\n",
        "for i in learning_rates:\n",
        "  w0 = 10\n",
        "  w1 = 0.2\n",
        "  w2 = -0.75\n",
        "  learning_rate = i\n",
        "  epoch_count = 0\n",
        "  epoches = []\n",
        "  sum_square_error = []\n",
        "  while epoch_count<100:\n",
        "    error = 0\n",
        "    for index,row in and_table.iterrows():\n",
        "      if step_function(summation_unit(row['one'],row['A'],row['B'],w0,w1,w2)) != row['result']:\n",
        "        e = row['result'] - step_function(summation_unit(row['one'],row['A'],row['B'],w0,w1,w2))\n",
        "        w0 += (learning_rate*e*row['one'])\n",
        "        w1 += (learning_rate*e*row['A'])\n",
        "        w2 += (learning_rate*e*row['B'])\n",
        "        error += e**2\n",
        "    epoches.append(epoch_count)\n",
        "    epoch_count += 1\n",
        "    sum_square_error.append(error)\n",
        "    if error<0.002:\n",
        "      number_of_epoches.append(epoch_count)\n",
        "      break\n",
        "\n",
        "plt.plot(learning_rates,number_of_epoches)\n",
        "plt.show()"
      ]
    },
    {
      "cell_type": "code",
      "execution_count": 15,
      "metadata": {
        "id": "RICRg6ue19SR"
      },
      "outputs": [],
      "source": [
        "Xor = [[1,0,0,0],[1,0,1,1],[1,1,0,1],[1,1,1,0]]\n",
        "xor_table = pd.DataFrame(Xor,columns=['one','A','B','result'])"
      ]
    },
    {
      "cell_type": "code",
      "execution_count": 16,
      "metadata": {
        "colab": {
          "base_uri": "https://localhost:8080/",
          "height": 173
        },
        "id": "ztrgxQJ0iNTg",
        "outputId": "1a208333-7bc2-4e91-dec4-91fe529f5d7e"
      },
      "outputs": [
        {
          "data": {
            "text/html": [
              "\n",
              "  <div id=\"df-1d093a6a-c785-4529-8aa8-099d044ff4f3\">\n",
              "    <div class=\"colab-df-container\">\n",
              "      <div>\n",
              "<style scoped>\n",
              "    .dataframe tbody tr th:only-of-type {\n",
              "        vertical-align: middle;\n",
              "    }\n",
              "\n",
              "    .dataframe tbody tr th {\n",
              "        vertical-align: top;\n",
              "    }\n",
              "\n",
              "    .dataframe thead th {\n",
              "        text-align: right;\n",
              "    }\n",
              "</style>\n",
              "<table border=\"1\" class=\"dataframe\">\n",
              "  <thead>\n",
              "    <tr style=\"text-align: right;\">\n",
              "      <th></th>\n",
              "      <th>one</th>\n",
              "      <th>A</th>\n",
              "      <th>B</th>\n",
              "      <th>result</th>\n",
              "    </tr>\n",
              "  </thead>\n",
              "  <tbody>\n",
              "    <tr>\n",
              "      <th>0</th>\n",
              "      <td>1</td>\n",
              "      <td>0</td>\n",
              "      <td>0</td>\n",
              "      <td>0</td>\n",
              "    </tr>\n",
              "    <tr>\n",
              "      <th>1</th>\n",
              "      <td>1</td>\n",
              "      <td>0</td>\n",
              "      <td>1</td>\n",
              "      <td>1</td>\n",
              "    </tr>\n",
              "    <tr>\n",
              "      <th>2</th>\n",
              "      <td>1</td>\n",
              "      <td>1</td>\n",
              "      <td>0</td>\n",
              "      <td>1</td>\n",
              "    </tr>\n",
              "    <tr>\n",
              "      <th>3</th>\n",
              "      <td>1</td>\n",
              "      <td>1</td>\n",
              "      <td>1</td>\n",
              "      <td>0</td>\n",
              "    </tr>\n",
              "  </tbody>\n",
              "</table>\n",
              "</div>\n",
              "      <button class=\"colab-df-convert\" onclick=\"convertToInteractive('df-1d093a6a-c785-4529-8aa8-099d044ff4f3')\"\n",
              "              title=\"Convert this dataframe to an interactive table.\"\n",
              "              style=\"display:none;\">\n",
              "        \n",
              "  <svg xmlns=\"http://www.w3.org/2000/svg\" height=\"24px\"viewBox=\"0 0 24 24\"\n",
              "       width=\"24px\">\n",
              "    <path d=\"M0 0h24v24H0V0z\" fill=\"none\"/>\n",
              "    <path d=\"M18.56 5.44l.94 2.06.94-2.06 2.06-.94-2.06-.94-.94-2.06-.94 2.06-2.06.94zm-11 1L8.5 8.5l.94-2.06 2.06-.94-2.06-.94L8.5 2.5l-.94 2.06-2.06.94zm10 10l.94 2.06.94-2.06 2.06-.94-2.06-.94-.94-2.06-.94 2.06-2.06.94z\"/><path d=\"M17.41 7.96l-1.37-1.37c-.4-.4-.92-.59-1.43-.59-.52 0-1.04.2-1.43.59L10.3 9.45l-7.72 7.72c-.78.78-.78 2.05 0 2.83L4 21.41c.39.39.9.59 1.41.59.51 0 1.02-.2 1.41-.59l7.78-7.78 2.81-2.81c.8-.78.8-2.07 0-2.86zM5.41 20L4 18.59l7.72-7.72 1.47 1.35L5.41 20z\"/>\n",
              "  </svg>\n",
              "      </button>\n",
              "      \n",
              "  <style>\n",
              "    .colab-df-container {\n",
              "      display:flex;\n",
              "      flex-wrap:wrap;\n",
              "      gap: 12px;\n",
              "    }\n",
              "\n",
              "    .colab-df-convert {\n",
              "      background-color: #E8F0FE;\n",
              "      border: none;\n",
              "      border-radius: 50%;\n",
              "      cursor: pointer;\n",
              "      display: none;\n",
              "      fill: #1967D2;\n",
              "      height: 32px;\n",
              "      padding: 0 0 0 0;\n",
              "      width: 32px;\n",
              "    }\n",
              "\n",
              "    .colab-df-convert:hover {\n",
              "      background-color: #E2EBFA;\n",
              "      box-shadow: 0px 1px 2px rgba(60, 64, 67, 0.3), 0px 1px 3px 1px rgba(60, 64, 67, 0.15);\n",
              "      fill: #174EA6;\n",
              "    }\n",
              "\n",
              "    [theme=dark] .colab-df-convert {\n",
              "      background-color: #3B4455;\n",
              "      fill: #D2E3FC;\n",
              "    }\n",
              "\n",
              "    [theme=dark] .colab-df-convert:hover {\n",
              "      background-color: #434B5C;\n",
              "      box-shadow: 0px 1px 3px 1px rgba(0, 0, 0, 0.15);\n",
              "      filter: drop-shadow(0px 1px 2px rgba(0, 0, 0, 0.3));\n",
              "      fill: #FFFFFF;\n",
              "    }\n",
              "  </style>\n",
              "\n",
              "      <script>\n",
              "        const buttonEl =\n",
              "          document.querySelector('#df-1d093a6a-c785-4529-8aa8-099d044ff4f3 button.colab-df-convert');\n",
              "        buttonEl.style.display =\n",
              "          google.colab.kernel.accessAllowed ? 'block' : 'none';\n",
              "\n",
              "        async function convertToInteractive(key) {\n",
              "          const element = document.querySelector('#df-1d093a6a-c785-4529-8aa8-099d044ff4f3');\n",
              "          const dataTable =\n",
              "            await google.colab.kernel.invokeFunction('convertToInteractive',\n",
              "                                                     [key], {});\n",
              "          if (!dataTable) return;\n",
              "\n",
              "          const docLinkHtml = 'Like what you see? Visit the ' +\n",
              "            '<a target=\"_blank\" href=https://colab.research.google.com/notebooks/data_table.ipynb>data table notebook</a>'\n",
              "            + ' to learn more about interactive tables.';\n",
              "          element.innerHTML = '';\n",
              "          dataTable['output_type'] = 'display_data';\n",
              "          await google.colab.output.renderOutput(dataTable, element);\n",
              "          const docLink = document.createElement('div');\n",
              "          docLink.innerHTML = docLinkHtml;\n",
              "          element.appendChild(docLink);\n",
              "        }\n",
              "      </script>\n",
              "    </div>\n",
              "  </div>\n",
              "  "
            ],
            "text/plain": [
              "   one  A  B  result\n",
              "0    1  0  0       0\n",
              "1    1  0  1       1\n",
              "2    1  1  0       1\n",
              "3    1  1  1       0"
            ]
          },
          "execution_count": 16,
          "metadata": {},
          "output_type": "execute_result"
        }
      ],
      "source": [
        "xor_table"
      ]
    },
    {
      "cell_type": "code",
      "execution_count": 17,
      "metadata": {
        "colab": {
          "base_uri": "https://localhost:8080/",
          "height": 418
        },
        "id": "YsZ4AdDLhuZC",
        "outputId": "94eaa4da-e867-4d15-fd61-91ce50dc0643"
      },
      "outputs": [
        {
          "data": {
            "image/png": "[encoded data removed]",
            "text/plain": [
              "<Figure size 432x288 with 1 Axes>"
            ]
          },
          "metadata": {
            "needs_background": "light"
          },
          "output_type": "display_data"
        },
        {
          "name": "stdout",
          "output_type": "stream",
          "text": [
            "weights ==> w0 :  0.5  w1 :  -0.5  w2 :  0.0\n",
            "calculated output :  1\n",
            "real output :  0\n",
            "calculated output :  1\n",
            "real output :  1\n",
            "calculated output :  0\n",
            "real output :  1\n",
            "calculated output :  0\n",
            "real output :  0\n"
          ]
        }
      ],
      "source": [
        "w0 = 1\n",
        "w1 = 1\n",
        "w2 = 1\n",
        "\n",
        "learning_rate = 0.5\n",
        "\n",
        "epoch_count = 0\n",
        "epoches = []\n",
        "sum_square_error = []\n",
        "\n",
        "while epoch_count<10000:\n",
        "  error = 0\n",
        "  for index,row in xor_table.iterrows():\n",
        "    if step_function(summation_unit(row['one'],row['A'],row['B'],w0,w1,w2)) != row['result']:\n",
        "      e = row['result'] - step_function(summation_unit(row['one'],row['A'],row['B'],w0,w1,w2))\n",
        "      w0 += (learning_rate*e*row['one'])\n",
        "      w1 += (learning_rate*e*row['A'])\n",
        "      w2 += (learning_rate*e*row['B'])\n",
        "      error += e**2\n",
        "  epoches.append(epoch_count)\n",
        "  epoch_count += 1\n",
        "  sum_square_error.append(error)\n",
        "  if error<0.002:\n",
        "    print(\"epoch count : \",epoch_count)\n",
        "    break\n",
        "\n",
        "plt.plot(epoches,sum_square_error)\n",
        "plt.show()\n",
        "\n",
        "print(\"weights ==> w0 : \",w0,\" w1 : \",w1,\" w2 : \",w2)\n",
        "for index,row in xor_table.iterrows():\n",
        "  print(\"calculated output : \",step_function(summation_unit(row['one'],row['A'],row['B'],w0,w1,w2)))\n",
        "  print(\"real output : \",row['result'])"
      ]
    },
    {
      "cell_type": "code",
      "execution_count": 26,
      "metadata": {
        "id": "FjPKhoPQiAFg"
      },
      "outputs": [],
      "source": [
        "products_dataframe = pd.read_excel('/content/Lab Session1 Data.xlsx',sheet_name='Purchase data')\n",
        "products_dataframe = products_dataframe.dropna(axis=1)"
      ]
    },
    {
      "cell_type": "code",
      "execution_count": 27,
      "metadata": {
        "colab": {
          "base_uri": "https://localhost:8080/",
          "height": 204
        },
        "id": "vsEAFIKuAmCD",
        "outputId": "d204f56a-f464-431a-9176-db703688a192"
      },
      "outputs": [
        {
          "data": {
            "text/html": [
              "\n",
              "  <div id=\"df-db020a77-ba98-4d85-8609-e7c91231b747\">\n",
              "    <div class=\"colab-df-container\">\n",
              "      <div>\n",
              "<style scoped>\n",
              "    .dataframe tbody tr th:only-of-type {\n",
              "        vertical-align: middle;\n",
              "    }\n",
              "\n",
              "    .dataframe tbody tr th {\n",
              "        vertical-align: top;\n",
              "    }\n",
              "\n",
              "    .dataframe thead th {\n",
              "        text-align: right;\n",
              "    }\n",
              "</style>\n",
              "<table border=\"1\" class=\"dataframe\">\n",
              "  <thead>\n",
              "    <tr style=\"text-align: right;\">\n",
              "      <th></th>\n",
              "      <th>Customer</th>\n",
              "      <th>Candies (#)</th>\n",
              "      <th>Mangoes (Kg)</th>\n",
              "      <th>Milk Packets (#)</th>\n",
              "      <th>Payment (Rs)</th>\n",
              "    </tr>\n",
              "  </thead>\n",
              "  <tbody>\n",
              "    <tr>\n",
              "      <th>0</th>\n",
              "      <td>C_1</td>\n",
              "      <td>20</td>\n",
              "      <td>6</td>\n",
              "      <td>2</td>\n",
              "      <td>386</td>\n",
              "    </tr>\n",
              "    <tr>\n",
              "      <th>1</th>\n",
              "      <td>C_2</td>\n",
              "      <td>16</td>\n",
              "      <td>3</td>\n",
              "      <td>6</td>\n",
              "      <td>289</td>\n",
              "    </tr>\n",
              "    <tr>\n",
              "      <th>2</th>\n",
              "      <td>C_3</td>\n",
              "      <td>27</td>\n",
              "      <td>6</td>\n",
              "      <td>2</td>\n",
              "      <td>393</td>\n",
              "    </tr>\n",
              "    <tr>\n",
              "      <th>3</th>\n",
              "      <td>C_4</td>\n",
              "      <td>19</td>\n",
              "      <td>1</td>\n",
              "      <td>2</td>\n",
              "      <td>110</td>\n",
              "    </tr>\n",
              "    <tr>\n",
              "      <th>4</th>\n",
              "      <td>C_5</td>\n",
              "      <td>24</td>\n",
              "      <td>4</td>\n",
              "      <td>2</td>\n",
              "      <td>280</td>\n",
              "    </tr>\n",
              "  </tbody>\n",
              "</table>\n",
              "</div>\n",
              "      <button class=\"colab-df-convert\" onclick=\"convertToInteractive('df-db020a77-ba98-4d85-8609-e7c91231b747')\"\n",
              "              title=\"Convert this dataframe to an interactive table.\"\n",
              "              style=\"display:none;\">\n",
              "        \n",
              "  <svg xmlns=\"http://www.w3.org/2000/svg\" height=\"24px\"viewBox=\"0 0 24 24\"\n",
              "       width=\"24px\">\n",
              "    <path d=\"M0 0h24v24H0V0z\" fill=\"none\"/>\n",
              "    <path d=\"M18.56 5.44l.94 2.06.94-2.06 2.06-.94-2.06-.94-.94-2.06-.94 2.06-2.06.94zm-11 1L8.5 8.5l.94-2.06 2.06-.94-2.06-.94L8.5 2.5l-.94 2.06-2.06.94zm10 10l.94 2.06.94-2.06 2.06-.94-2.06-.94-.94-2.06-.94 2.06-2.06.94z\"/><path d=\"M17.41 7.96l-1.37-1.37c-.4-.4-.92-.59-1.43-.59-.52 0-1.04.2-1.43.59L10.3 9.45l-7.72 7.72c-.78.78-.78 2.05 0 2.83L4 21.41c.39.39.9.59 1.41.59.51 0 1.02-.2 1.41-.59l7.78-7.78 2.81-2.81c.8-.78.8-2.07 0-2.86zM5.41 20L4 18.59l7.72-7.72 1.47 1.35L5.41 20z\"/>\n",
              "  </svg>\n",
              "      </button>\n",
              "      \n",
              "  <style>\n",
              "    .colab-df-container {\n",
              "      display:flex;\n",
              "      flex-wrap:wrap;\n",
              "      gap: 12px;\n",
              "    }\n",
              "\n",
              "    .colab-df-convert {\n",
              "      background-color: #E8F0FE;\n",
              "      border: none;\n",
              "      border-radius: 50%;\n",
              "      cursor: pointer;\n",
              "      display: none;\n",
              "      fill: #1967D2;\n",
              "      height: 32px;\n",
              "      padding: 0 0 0 0;\n",
              "      width: 32px;\n",
              "    }\n",
              "\n",
              "    .colab-df-convert:hover {\n",
              "      background-color: #E2EBFA;\n",
              "      box-shadow: 0px 1px 2px rgba(60, 64, 67, 0.3), 0px 1px 3px 1px rgba(60, 64, 67, 0.15);\n",
              "      fill: #174EA6;\n",
              "    }\n",
              "\n",
              "    [theme=dark] .colab-df-convert {\n",
              "      background-color: #3B4455;\n",
              "      fill: #D2E3FC;\n",
              "    }\n",
              "\n",
              "    [theme=dark] .colab-df-convert:hover {\n",
              "      background-color: #434B5C;\n",
              "      box-shadow: 0px 1px 3px 1px rgba(0, 0, 0, 0.15);\n",
              "      filter: drop-shadow(0px 1px 2px rgba(0, 0, 0, 0.3));\n",
              "      fill: #FFFFFF;\n",
              "    }\n",
              "  </style>\n",
              "\n",
              "      <script>\n",
              "        const buttonEl =\n",
              "          document.querySelector('#df-db020a77-ba98-4d85-8609-e7c91231b747 button.colab-df-convert');\n",
              "        buttonEl.style.display =\n",
              "          google.colab.kernel.accessAllowed ? 'block' : 'none';\n",
              "\n",
              "        async function convertToInteractive(key) {\n",
              "          const element = document.querySelector('#df-db020a77-ba98-4d85-8609-e7c91231b747');\n",
              "          const dataTable =\n",
              "            await google.colab.kernel.invokeFunction('convertToInteractive',\n",
              "                                                     [key], {});\n",
              "          if (!dataTable) return;\n",
              "\n",
              "          const docLinkHtml = 'Like what you see? Visit the ' +\n",
              "            '<a target=\"_blank\" href=https://colab.research.google.com/notebooks/data_table.ipynb>data table notebook</a>'\n",
              "            + ' to learn more about interactive tables.';\n",
              "          element.innerHTML = '';\n",
              "          dataTable['output_type'] = 'display_data';\n",
              "          await google.colab.output.renderOutput(dataTable, element);\n",
              "          const docLink = document.createElement('div');\n",
              "          docLink.innerHTML = docLinkHtml;\n",
              "          element.appendChild(docLink);\n",
              "        }\n",
              "      </script>\n",
              "    </div>\n",
              "  </div>\n",
              "  "
            ],
            "text/plain": [
              "  Customer  Candies (#)  Mangoes (Kg)  Milk Packets (#)  Payment (Rs)\n",
              "0      C_1           20             6                 2           386\n",
              "1      C_2           16             3                 6           289\n",
              "2      C_3           27             6                 2           393\n",
              "3      C_4           19             1                 2           110\n",
              "4      C_5           24             4                 2           280"
            ]
          },
          "execution_count": 27,
          "metadata": {},
          "output_type": "execute_result"
        }
      ],
      "source": [
        "products_dataframe.head()"
      ]
    },
    {
      "cell_type": "code",
      "execution_count": 57,
      "metadata": {
        "colab": {
          "base_uri": "https://localhost:8080/"
        },
        "id": "qeVhaETvApFk",
        "outputId": "f40962fb-cdd9-4f37-e9b3-80dfd98f29bd"
      },
      "outputs": [
        {
          "name": "stdout",
          "output_type": "stream",
          "text": [
            "time taken using matrix inversion :  0.002415180206298828\n"
          ]
        }
      ],
      "source": [
        "# using matrix inversion:\n",
        "\n",
        "A = products_dataframe[['Candies (#)','Mangoes (Kg)','Milk Packets (#)']]\n",
        "B = products_dataframe[['Payment (Rs)']]\n",
        "\n",
        "start = time.time()\n",
        "Ain = np.linalg.pinv(A)\n",
        "X = np.dot(Ain,B)\n",
        "end = time.time()\n",
        "\n",
        "print(\"time taken using matrix inversion : \",end-start)"
      ]
    },
    {
      "cell_type": "code",
      "execution_count": 40,
      "metadata": {
        "colab": {
          "base_uri": "https://localhost:8080/"
        },
        "id": "wB2slgugJGjA",
        "outputId": "16e4d2b9-ded3-419c-ec92-32de664a63b5"
      },
      "outputs": [
        {
          "data": {
            "text/plain": [
              "array([[ 1.],\n",
              "       [55.],\n",
              "       [18.]])"
            ]
          },
          "execution_count": 40,
          "metadata": {},
          "output_type": "execute_result"
        }
      ],
      "source": [
        "X"
      ]
    },
    {
      "cell_type": "code",
      "execution_count": 60,
      "metadata": {
        "colab": {
          "base_uri": "https://localhost:8080/",
          "height": 310
        },
        "id": "glbKJR0wBtoq",
        "outputId": "f4f75373-5dc1-4c94-a65e-3bd119492b79"
      },
      "outputs": [
        {
          "data": {
            "image/png": "[encoded data removed]",
            "text/plain": [
              "<Figure size 432x288 with 1 Axes>"
            ]
          },
          "metadata": {
            "needs_background": "light"
          },
          "output_type": "display_data"
        },
        {
          "name": "stdout",
          "output_type": "stream",
          "text": [
            "Time taken by perceptron :  0.018382787704467773\n",
            "weights ==> w0 :  -5.512515357708273e+45  w1 :  -1.0146028551405357e+45  w2 :  -1.5263557771905693e+45\n"
          ]
        }
      ],
      "source": [
        "# using perceptron:\n",
        "w0 = 1\n",
        "w1 = 54\n",
        "w2 = 18\n",
        "\n",
        "learning_rate = 0.01\n",
        "\n",
        "epoch_count = 0\n",
        "epoches = []\n",
        "sum_square_error = []\n",
        "\n",
        "start = time.time()\n",
        "while epoch_count<10:\n",
        "  error = 0\n",
        "  for index,row in products_dataframe.iterrows():\n",
        "    if summation_unit(row['Candies (#)'],row['Mangoes (Kg)'],row['Milk Packets (#)'],w0,w1,w2) != row['Payment (Rs)']:\n",
        "      e = row['Payment (Rs)'] - summation_unit(row['Candies (#)'],row['Mangoes (Kg)'],row['Milk Packets (#)'],w0,w1,w2)\n",
        "      w0 += (learning_rate*e*row['Candies (#)'])\n",
        "      w1 += (learning_rate*e*row['Mangoes (Kg)'])\n",
        "      w2 += (learning_rate*e*row['Milk Packets (#)'])\n",
        "      error += e**2\n",
        "  epoches.append(epoch_count)\n",
        "  epoch_count += 1\n",
        "  sum_square_error.append(error)\n",
        "  if error<0.002:\n",
        "    print(\"epoch count : \",epoch_count)\n",
        "    break\n",
        "\n",
        "end = time.time()\n",
        "plt.plot(epoches,sum_square_error)\n",
        "plt.show()\n",
        "\n",
        "print(\"Time taken by perceptron : \",end-start)\n",
        "print(\"weights ==> w0 : \",w0,\" w1 : \",w1,\" w2 : \",w2)\n"
      ]
    },
    {
      "cell_type": "code",
      "execution_count": 54,
      "metadata": {
        "colab": {
          "base_uri": "https://localhost:8080/"
        },
        "id": "QO2ArjrOIJSt",
        "outputId": "d2535743-53a1-43fb-859e-e9717d318c2a"
      },
      "outputs": [
        {
          "name": "stdout",
          "output_type": "stream",
          "text": [
            "calculated output :  0\n",
            "real output :  386\n",
            "calculated output :  0\n",
            "real output :  289\n",
            "calculated output :  0\n",
            "real output :  393\n",
            "calculated output :  0\n",
            "real output :  110\n",
            "calculated output :  0\n",
            "real output :  280\n",
            "calculated output :  0\n",
            "real output :  167\n",
            "calculated output :  0\n",
            "real output :  271\n",
            "calculated output :  0\n",
            "real output :  274\n",
            "calculated output :  0\n",
            "real output :  148\n",
            "calculated output :  0\n",
            "real output :  198\n"
          ]
        }
      ],
      "source": [
        "‹for index,row in products_dataframe.iterrows():\n",
        "  print(\"calculated output : \",relu(summation_unit(row['Candies (#)'],row['Mangoes (Kg)'],row['Milk Packets (#)'],w0,w1,w2)))\n",
        "  print(\"real output : \",row['Payment (Rs)'])"
      ]
    },
    {
      "cell_type": "code",
      "execution_count": null,
      "metadata": {
        "id": "OoumGDsPJatq"
      },
      "outputs": [],
      "source": []
    }
  ],
  "metadata": {
    "colab": {
      "collapsed_sections": [],
      "provenance": []
    },
    "kernelspec": {
      "display_name": "Python 3",
      "language": "python",
      "name": "python3"
    },
    "language_info": {
      "name": "python",
      "version": "3.10.2 (tags/v3.10.2:a58ebcc, Jan 17 2022, 14:12:15) [MSC v.1929 64 bit (AMD64)]"
    },
    "nteract": {
      "version": "nteract-front-end@1.0.0"
    },
    "vscode": {
      "interpreter": {
        "hash": "070028ba1342e166cb73fb497b35572113484a2ef1bea3a29a8945b00241d4de"
      }
    }
  },
  "nbformat": 4,
  "nbformat_minor": 0
}
